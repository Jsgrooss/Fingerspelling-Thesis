{
  "cells": [
    {
      "cell_type": "code",
      "execution_count": 172,
      "metadata": {
        "id": "igMyGnjE9hEp"
      },
      "outputs": [],
      "source": [
        "import csv\n",
        "\n",
        "import numpy as np\n",
        "import tensorflow as tf\n",
        "from sklearn.model_selection import train_test_split\n",
        "\n",
        "RANDOM_SEED = 42"
      ]
    },
    {
      "cell_type": "markdown",
      "metadata": {
        "id": "t2HDvhIu9hEr"
      },
      "source": [
        "# Specify each path"
      ]
    },
    {
      "cell_type": "code",
      "execution_count": 173,
      "metadata": {
        "id": "9NvZP2Zn9hEy"
      },
      "outputs": [],
      "source": [
        "dataset = 'model/keypoint_classifier/keypoint_singlehand.csv'\n",
        "model_save_path = 'model/keypoint_classifier/keypoint_classifier_SingleHand.hdf5'\n",
        "tflite_save_path = 'model/keypoint_classifier/keypoint_classifier_SingleHand.tflite'"
      ]
    },
    {
      "cell_type": "markdown",
      "metadata": {
        "id": "s5oMH7x19hEz"
      },
      "source": [
        "# Set number of classes"
      ]
    },
    {
      "cell_type": "code",
      "execution_count": 174,
      "metadata": {
        "id": "du4kodXL9hEz"
      },
      "outputs": [],
      "source": [
        "NUM_CLASSES = 2"
      ]
    },
    {
      "cell_type": "markdown",
      "metadata": {
        "id": "XjnL0uso9hEz"
      },
      "source": [
        "# Dataset reading"
      ]
    },
    {
      "cell_type": "code",
      "execution_count": 175,
      "metadata": {
        "id": "QT5ZqtEz9hE0"
      },
      "outputs": [],
      "source": [
        "X_dataset = np.loadtxt(dataset, delimiter=',', dtype='float32', usecols=list(range(1, (21 * 2) + 1)))"
      ]
    },
    {
      "cell_type": "code",
      "execution_count": 176,
      "metadata": {
        "id": "QmoKFsp49hE0"
      },
      "outputs": [],
      "source": [
        "y_dataset = np.loadtxt(dataset, delimiter=',', dtype='int32', usecols=(0))"
      ]
    },
    {
      "cell_type": "code",
      "execution_count": 177,
      "metadata": {
        "id": "xQU7JTZ_9hE0"
      },
      "outputs": [],
      "source": [
        "X_train, X_test, y_train, y_test = train_test_split(X_dataset, y_dataset, train_size=0.75, random_state=RANDOM_SEED)"
      ]
    },
    {
      "cell_type": "markdown",
      "metadata": {
        "id": "mxK_lETT9hE0"
      },
      "source": [
        "# Model building"
      ]
    },
    {
      "cell_type": "code",
      "execution_count": 178,
      "metadata": {
        "id": "vHBmUf1t9hE1"
      },
      "outputs": [],
      "source": [
        "model = tf.keras.models.Sequential([\n",
        "    tf.keras.layers.Input((21 * 2, )),\n",
        "    tf.keras.layers.Dropout(0.2),\n",
        "    tf.keras.layers.Dense(20, activation='relu'),\n",
        "    tf.keras.layers.Dropout(0.4),\n",
        "    tf.keras.layers.Dense(10, activation='relu'),\n",
        "    tf.keras.layers.Dense(NUM_CLASSES, activation='softmax')\n",
        "])"
      ]
    },
    {
      "cell_type": "code",
      "execution_count": 179,
      "metadata": {
        "colab": {
          "base_uri": "https://localhost:8080/"
        },
        "id": "ypqky9tc9hE1",
        "outputId": "5db082bb-30e3-4110-bf63-a1ee777ecd46"
      },
      "outputs": [
        {
          "name": "stdout",
          "output_type": "stream",
          "text": [
            "Model: \"sequential_9\"\n",
            "_________________________________________________________________\n",
            " Layer (type)                Output Shape              Param #   \n",
            "=================================================================\n",
            " dropout_18 (Dropout)        (None, 42)                0         \n",
            "                                                                 \n",
            " dense_27 (Dense)            (None, 40)                1720      \n",
            "                                                                 \n",
            " dropout_19 (Dropout)        (None, 40)                0         \n",
            "                                                                 \n",
            " dense_28 (Dense)            (None, 20)                820       \n",
            "                                                                 \n",
            " dense_29 (Dense)            (None, 2)                 42        \n",
            "                                                                 \n",
            "=================================================================\n",
            "Total params: 2,582\n",
            "Trainable params: 2,582\n",
            "Non-trainable params: 0\n",
            "_________________________________________________________________\n"
          ]
        }
      ],
      "source": [
        "model.summary()  # tf.keras.utils.plot_model(model, show_shapes=True)"
      ]
    },
    {
      "cell_type": "code",
      "execution_count": 180,
      "metadata": {
        "id": "MbMjOflQ9hE1"
      },
      "outputs": [],
      "source": [
        "# Model checkpoint callback\n",
        "cp_callback = tf.keras.callbacks.ModelCheckpoint(\n",
        "    model_save_path, verbose=1, save_weights_only=False)\n",
        "# Callback for early stopping\n",
        "es_callback = tf.keras.callbacks.EarlyStopping(patience=20, verbose=1)"
      ]
    },
    {
      "cell_type": "code",
      "execution_count": 181,
      "metadata": {
        "id": "c3Dac0M_9hE2"
      },
      "outputs": [],
      "source": [
        "# Model compilation\n",
        "model.compile(\n",
        "    optimizer='adam',\n",
        "    loss='sparse_categorical_crossentropy',\n",
        "    metrics=['accuracy']\n",
        ")"
      ]
    },
    {
      "cell_type": "markdown",
      "metadata": {
        "id": "7XI0j1Iu9hE2"
      },
      "source": [
        "# Model training"
      ]
    },
    {
      "cell_type": "code",
      "execution_count": 182,
      "metadata": {
        "colab": {
          "base_uri": "https://localhost:8080/"
        },
        "id": "WirBl-JE9hE3",
        "outputId": "71b30ca2-8294-4d9d-8aa2-800d90d399de",
        "scrolled": true
      },
      "outputs": [
        {
          "name": "stdout",
          "output_type": "stream",
          "text": [
            "Epoch 1/1000\n",
            "1/2 [==============>...............] - ETA: 0s - loss: 0.8919 - accuracy: 0.5703\n",
            "Epoch 1: saving model to model/keypoint_classifier\\keypoint_classifier_SingleHand.hdf5\n",
            "2/2 [==============================] - 1s 271ms/step - loss: 0.8751 - accuracy: 0.5833 - val_loss: 0.8381 - val_accuracy: 0.5455\n",
            "Epoch 2/1000\n",
            "1/2 [==============>...............] - ETA: 0s - loss: 0.8344 - accuracy: 0.5781\n",
            "Epoch 2: saving model to model/keypoint_classifier\\keypoint_classifier_SingleHand.hdf5\n",
            "2/2 [==============================] - 0s 61ms/step - loss: 0.8281 - accuracy: 0.5833 - val_loss: 0.8032 - val_accuracy: 0.5455\n",
            "Epoch 3/1000\n",
            "1/2 [==============>...............] - ETA: 0s - loss: 0.8176 - accuracy: 0.5938\n",
            "Epoch 3: saving model to model/keypoint_classifier\\keypoint_classifier_SingleHand.hdf5\n",
            "2/2 [==============================] - 0s 62ms/step - loss: 0.8230 - accuracy: 0.5833 - val_loss: 0.7673 - val_accuracy: 0.5455\n",
            "Epoch 4/1000\n",
            "1/2 [==============>...............] - ETA: 0s - loss: 0.7763 - accuracy: 0.5781\n",
            "Epoch 4: saving model to model/keypoint_classifier\\keypoint_classifier_SingleHand.hdf5\n",
            "2/2 [==============================] - 0s 67ms/step - loss: 0.7622 - accuracy: 0.5909 - val_loss: 0.7353 - val_accuracy: 0.5455\n",
            "Epoch 5/1000\n",
            "1/2 [==============>...............] - ETA: 0s - loss: 0.7375 - accuracy: 0.5938\n",
            "Epoch 5: saving model to model/keypoint_classifier\\keypoint_classifier_SingleHand.hdf5\n",
            "2/2 [==============================] - 0s 62ms/step - loss: 0.7414 - accuracy: 0.5833 - val_loss: 0.7062 - val_accuracy: 0.5455\n",
            "Epoch 6/1000\n",
            "1/2 [==============>...............] - ETA: 0s - loss: 0.7069 - accuracy: 0.6016\n",
            "Epoch 6: saving model to model/keypoint_classifier\\keypoint_classifier_SingleHand.hdf5\n",
            "2/2 [==============================] - 0s 92ms/step - loss: 0.7143 - accuracy: 0.5909 - val_loss: 0.6785 - val_accuracy: 0.5455\n",
            "Epoch 7/1000\n",
            "1/2 [==============>...............] - ETA: 0s - loss: 0.6436 - accuracy: 0.6016\n",
            "Epoch 7: saving model to model/keypoint_classifier\\keypoint_classifier_SingleHand.hdf5\n",
            "2/2 [==============================] - 0s 89ms/step - loss: 0.6605 - accuracy: 0.5909 - val_loss: 0.6530 - val_accuracy: 0.5455\n",
            "Epoch 8/1000\n",
            "1/2 [==============>...............] - ETA: 0s - loss: 0.6147 - accuracy: 0.6250\n",
            "Epoch 8: saving model to model/keypoint_classifier\\keypoint_classifier_SingleHand.hdf5\n",
            "2/2 [==============================] - 0s 70ms/step - loss: 0.6227 - accuracy: 0.6136 - val_loss: 0.6295 - val_accuracy: 0.5455\n",
            "Epoch 9/1000\n",
            "1/2 [==============>...............] - ETA: 0s - loss: 0.6165 - accuracy: 0.6250\n",
            "Epoch 9: saving model to model/keypoint_classifier\\keypoint_classifier_SingleHand.hdf5\n",
            "2/2 [==============================] - 0s 68ms/step - loss: 0.6133 - accuracy: 0.6288 - val_loss: 0.6073 - val_accuracy: 0.5455\n",
            "Epoch 10/1000\n",
            "1/2 [==============>...............] - ETA: 0s - loss: 0.6347 - accuracy: 0.5781\n",
            "Epoch 10: saving model to model/keypoint_classifier\\keypoint_classifier_SingleHand.hdf5\n",
            "2/2 [==============================] - 0s 76ms/step - loss: 0.6276 - accuracy: 0.5909 - val_loss: 0.5871 - val_accuracy: 0.5455\n",
            "Epoch 11/1000\n",
            "1/2 [==============>...............] - ETA: 0s - loss: 0.6123 - accuracy: 0.6172\n",
            "Epoch 11: saving model to model/keypoint_classifier\\keypoint_classifier_SingleHand.hdf5\n",
            "2/2 [==============================] - 0s 89ms/step - loss: 0.6245 - accuracy: 0.5985 - val_loss: 0.5679 - val_accuracy: 0.5455\n",
            "Epoch 12/1000\n",
            "1/2 [==============>...............] - ETA: 0s - loss: 0.6074 - accuracy: 0.6562\n",
            "Epoch 12: saving model to model/keypoint_classifier\\keypoint_classifier_SingleHand.hdf5\n",
            "2/2 [==============================] - 0s 92ms/step - loss: 0.6064 - accuracy: 0.6591 - val_loss: 0.5497 - val_accuracy: 0.5909\n",
            "Epoch 13/1000\n",
            "1/2 [==============>...............] - ETA: 0s - loss: 0.6013 - accuracy: 0.6406\n",
            "Epoch 13: saving model to model/keypoint_classifier\\keypoint_classifier_SingleHand.hdf5\n",
            "2/2 [==============================] - 0s 86ms/step - loss: 0.5956 - accuracy: 0.6515 - val_loss: 0.5354 - val_accuracy: 0.7273\n",
            "Epoch 14/1000\n",
            "1/2 [==============>...............] - ETA: 0s - loss: 0.5426 - accuracy: 0.7188\n",
            "Epoch 14: saving model to model/keypoint_classifier\\keypoint_classifier_SingleHand.hdf5\n",
            "2/2 [==============================] - 0s 78ms/step - loss: 0.5414 - accuracy: 0.7197 - val_loss: 0.5238 - val_accuracy: 0.8636\n",
            "Epoch 15/1000\n",
            "1/2 [==============>...............] - ETA: 0s - loss: 0.5773 - accuracy: 0.6484\n",
            "Epoch 15: saving model to model/keypoint_classifier\\keypoint_classifier_SingleHand.hdf5\n",
            "2/2 [==============================] - 0s 69ms/step - loss: 0.5718 - accuracy: 0.6591 - val_loss: 0.5128 - val_accuracy: 0.8864\n",
            "Epoch 16/1000\n",
            "1/2 [==============>...............] - ETA: 0s - loss: 0.5326 - accuracy: 0.7344\n",
            "Epoch 16: saving model to model/keypoint_classifier\\keypoint_classifier_SingleHand.hdf5\n",
            "2/2 [==============================] - 0s 68ms/step - loss: 0.5287 - accuracy: 0.7348 - val_loss: 0.5010 - val_accuracy: 0.8864\n",
            "Epoch 17/1000\n",
            "1/2 [==============>...............] - ETA: 0s - loss: 0.5659 - accuracy: 0.6953\n",
            "Epoch 17: saving model to model/keypoint_classifier\\keypoint_classifier_SingleHand.hdf5\n",
            "2/2 [==============================] - 0s 70ms/step - loss: 0.5655 - accuracy: 0.6970 - val_loss: 0.4891 - val_accuracy: 0.8864\n",
            "Epoch 18/1000\n",
            "1/2 [==============>...............] - ETA: 0s - loss: 0.5139 - accuracy: 0.7344\n",
            "Epoch 18: saving model to model/keypoint_classifier\\keypoint_classifier_SingleHand.hdf5\n",
            "2/2 [==============================] - 0s 79ms/step - loss: 0.5109 - accuracy: 0.7424 - val_loss: 0.4773 - val_accuracy: 0.8864\n",
            "Epoch 19/1000\n",
            "1/2 [==============>...............] - ETA: 0s - loss: 0.5005 - accuracy: 0.7734\n",
            "Epoch 19: saving model to model/keypoint_classifier\\keypoint_classifier_SingleHand.hdf5\n",
            "2/2 [==============================] - 0s 90ms/step - loss: 0.4975 - accuracy: 0.7727 - val_loss: 0.4658 - val_accuracy: 0.8864\n",
            "Epoch 20/1000\n",
            "1/2 [==============>...............] - ETA: 0s - loss: 0.5004 - accuracy: 0.7891\n",
            "Epoch 20: saving model to model/keypoint_classifier\\keypoint_classifier_SingleHand.hdf5\n",
            "2/2 [==============================] - 0s 75ms/step - loss: 0.5029 - accuracy: 0.7803 - val_loss: 0.4550 - val_accuracy: 0.8864\n",
            "Epoch 21/1000\n",
            "1/2 [==============>...............] - ETA: 0s - loss: 0.4907 - accuracy: 0.7812\n",
            "Epoch 21: saving model to model/keypoint_classifier\\keypoint_classifier_SingleHand.hdf5\n",
            "2/2 [==============================] - 0s 74ms/step - loss: 0.4871 - accuracy: 0.7803 - val_loss: 0.4448 - val_accuracy: 0.8864\n",
            "Epoch 22/1000\n",
            "1/2 [==============>...............] - ETA: 0s - loss: 0.4976 - accuracy: 0.7656\n",
            "Epoch 22: saving model to model/keypoint_classifier\\keypoint_classifier_SingleHand.hdf5\n",
            "2/2 [==============================] - 0s 63ms/step - loss: 0.4986 - accuracy: 0.7727 - val_loss: 0.4346 - val_accuracy: 0.8864\n",
            "Epoch 23/1000\n",
            "1/2 [==============>...............] - ETA: 0s - loss: 0.4624 - accuracy: 0.8281\n",
            "Epoch 23: saving model to model/keypoint_classifier\\keypoint_classifier_SingleHand.hdf5\n",
            "2/2 [==============================] - 0s 76ms/step - loss: 0.4652 - accuracy: 0.8258 - val_loss: 0.4243 - val_accuracy: 0.8864\n",
            "Epoch 24/1000\n",
            "1/2 [==============>...............] - ETA: 0s - loss: 0.4546 - accuracy: 0.8438\n",
            "Epoch 24: saving model to model/keypoint_classifier\\keypoint_classifier_SingleHand.hdf5\n",
            "2/2 [==============================] - 0s 86ms/step - loss: 0.4588 - accuracy: 0.8333 - val_loss: 0.4137 - val_accuracy: 0.8864\n",
            "Epoch 25/1000\n",
            "1/2 [==============>...............] - ETA: 0s - loss: 0.4818 - accuracy: 0.7891\n",
            "Epoch 25: saving model to model/keypoint_classifier\\keypoint_classifier_SingleHand.hdf5\n",
            "2/2 [==============================] - 0s 86ms/step - loss: 0.4822 - accuracy: 0.7879 - val_loss: 0.4033 - val_accuracy: 0.8864\n",
            "Epoch 26/1000\n",
            "1/2 [==============>...............] - ETA: 0s - loss: 0.4170 - accuracy: 0.8672\n",
            "Epoch 26: saving model to model/keypoint_classifier\\keypoint_classifier_SingleHand.hdf5\n",
            "2/2 [==============================] - 0s 94ms/step - loss: 0.4212 - accuracy: 0.8561 - val_loss: 0.3933 - val_accuracy: 0.9091\n",
            "Epoch 27/1000\n",
            "1/2 [==============>...............] - ETA: 0s - loss: 0.4483 - accuracy: 0.8359\n",
            "Epoch 27: saving model to model/keypoint_classifier\\keypoint_classifier_SingleHand.hdf5\n",
            "2/2 [==============================] - 0s 85ms/step - loss: 0.4447 - accuracy: 0.8409 - val_loss: 0.3832 - val_accuracy: 0.9545\n",
            "Epoch 28/1000\n",
            "1/2 [==============>...............] - ETA: 0s - loss: 0.4287 - accuracy: 0.8516\n",
            "Epoch 28: saving model to model/keypoint_classifier\\keypoint_classifier_SingleHand.hdf5\n",
            "2/2 [==============================] - 0s 71ms/step - loss: 0.4339 - accuracy: 0.8485 - val_loss: 0.3732 - val_accuracy: 0.9773\n",
            "Epoch 29/1000\n",
            "1/2 [==============>...............] - ETA: 0s - loss: 0.4213 - accuracy: 0.8906\n",
            "Epoch 29: saving model to model/keypoint_classifier\\keypoint_classifier_SingleHand.hdf5\n",
            "2/2 [==============================] - 0s 76ms/step - loss: 0.4195 - accuracy: 0.8939 - val_loss: 0.3636 - val_accuracy: 0.9773\n",
            "Epoch 30/1000\n",
            "1/2 [==============>...............] - ETA: 0s - loss: 0.4308 - accuracy: 0.8438\n",
            "Epoch 30: saving model to model/keypoint_classifier\\keypoint_classifier_SingleHand.hdf5\n",
            "2/2 [==============================] - 0s 65ms/step - loss: 0.4311 - accuracy: 0.8409 - val_loss: 0.3539 - val_accuracy: 0.9773\n",
            "Epoch 31/1000\n",
            "1/2 [==============>...............] - ETA: 0s - loss: 0.4017 - accuracy: 0.8906\n",
            "Epoch 31: saving model to model/keypoint_classifier\\keypoint_classifier_SingleHand.hdf5\n",
            "2/2 [==============================] - 0s 79ms/step - loss: 0.4032 - accuracy: 0.8939 - val_loss: 0.3435 - val_accuracy: 0.9773\n",
            "Epoch 32/1000\n",
            "1/2 [==============>...............] - ETA: 0s - loss: 0.3895 - accuracy: 0.9141\n",
            "Epoch 32: saving model to model/keypoint_classifier\\keypoint_classifier_SingleHand.hdf5\n",
            "2/2 [==============================] - 0s 66ms/step - loss: 0.3867 - accuracy: 0.9167 - val_loss: 0.3321 - val_accuracy: 0.9773\n",
            "Epoch 33/1000\n",
            "1/2 [==============>...............] - ETA: 0s - loss: 0.3766 - accuracy: 0.8984\n",
            "Epoch 33: saving model to model/keypoint_classifier\\keypoint_classifier_SingleHand.hdf5\n",
            "2/2 [==============================] - 0s 57ms/step - loss: 0.3723 - accuracy: 0.9015 - val_loss: 0.3202 - val_accuracy: 0.9773\n",
            "Epoch 34/1000\n",
            "1/2 [==============>...............] - ETA: 0s - loss: 0.3622 - accuracy: 0.9141\n",
            "Epoch 34: saving model to model/keypoint_classifier\\keypoint_classifier_SingleHand.hdf5\n",
            "2/2 [==============================] - 0s 62ms/step - loss: 0.3621 - accuracy: 0.9167 - val_loss: 0.3081 - val_accuracy: 0.9773\n",
            "Epoch 35/1000\n",
            "1/2 [==============>...............] - ETA: 0s - loss: 0.3665 - accuracy: 0.8828\n",
            "Epoch 35: saving model to model/keypoint_classifier\\keypoint_classifier_SingleHand.hdf5\n",
            "2/2 [==============================] - 0s 55ms/step - loss: 0.3619 - accuracy: 0.8864 - val_loss: 0.2960 - val_accuracy: 0.9773\n",
            "Epoch 36/1000\n",
            "1/2 [==============>...............] - ETA: 0s - loss: 0.3774 - accuracy: 0.8750\n",
            "Epoch 36: saving model to model/keypoint_classifier\\keypoint_classifier_SingleHand.hdf5\n",
            "2/2 [==============================] - 0s 69ms/step - loss: 0.3714 - accuracy: 0.8788 - val_loss: 0.2846 - val_accuracy: 0.9773\n",
            "Epoch 37/1000\n",
            "1/2 [==============>...............] - ETA: 0s - loss: 0.3116 - accuracy: 0.9297\n",
            "Epoch 37: saving model to model/keypoint_classifier\\keypoint_classifier_SingleHand.hdf5\n",
            "2/2 [==============================] - 0s 62ms/step - loss: 0.3131 - accuracy: 0.9318 - val_loss: 0.2732 - val_accuracy: 0.9773\n",
            "Epoch 38/1000\n",
            "1/2 [==============>...............] - ETA: 0s - loss: 0.3332 - accuracy: 0.9141\n",
            "Epoch 38: saving model to model/keypoint_classifier\\keypoint_classifier_SingleHand.hdf5\n",
            "2/2 [==============================] - 0s 54ms/step - loss: 0.3320 - accuracy: 0.9167 - val_loss: 0.2620 - val_accuracy: 0.9773\n",
            "Epoch 39/1000\n",
            "1/2 [==============>...............] - ETA: 0s - loss: 0.3567 - accuracy: 0.8359\n",
            "Epoch 39: saving model to model/keypoint_classifier\\keypoint_classifier_SingleHand.hdf5\n",
            "2/2 [==============================] - 0s 66ms/step - loss: 0.3532 - accuracy: 0.8409 - val_loss: 0.2514 - val_accuracy: 0.9773\n",
            "Epoch 40/1000\n",
            "1/2 [==============>...............] - ETA: 0s - loss: 0.3355 - accuracy: 0.9219\n",
            "Epoch 40: saving model to model/keypoint_classifier\\keypoint_classifier_SingleHand.hdf5\n",
            "2/2 [==============================] - 0s 72ms/step - loss: 0.3354 - accuracy: 0.9242 - val_loss: 0.2406 - val_accuracy: 0.9773\n",
            "Epoch 41/1000\n",
            "1/2 [==============>...............] - ETA: 0s - loss: 0.2884 - accuracy: 0.9062\n",
            "Epoch 41: saving model to model/keypoint_classifier\\keypoint_classifier_SingleHand.hdf5\n",
            "2/2 [==============================] - 0s 73ms/step - loss: 0.2913 - accuracy: 0.9091 - val_loss: 0.2295 - val_accuracy: 0.9773\n",
            "Epoch 42/1000\n",
            "1/2 [==============>...............] - ETA: 0s - loss: 0.3126 - accuracy: 0.8906\n",
            "Epoch 42: saving model to model/keypoint_classifier\\keypoint_classifier_SingleHand.hdf5\n",
            "2/2 [==============================] - 0s 59ms/step - loss: 0.3128 - accuracy: 0.8939 - val_loss: 0.2178 - val_accuracy: 0.9773\n",
            "Epoch 43/1000\n",
            "1/2 [==============>...............] - ETA: 0s - loss: 0.2942 - accuracy: 0.8906\n",
            "Epoch 43: saving model to model/keypoint_classifier\\keypoint_classifier_SingleHand.hdf5\n",
            "2/2 [==============================] - 0s 66ms/step - loss: 0.2959 - accuracy: 0.8939 - val_loss: 0.2070 - val_accuracy: 0.9773\n",
            "Epoch 44/1000\n",
            "1/2 [==============>...............] - ETA: 0s - loss: 0.3073 - accuracy: 0.8906\n",
            "Epoch 44: saving model to model/keypoint_classifier\\keypoint_classifier_SingleHand.hdf5\n",
            "2/2 [==============================] - 0s 61ms/step - loss: 0.3133 - accuracy: 0.8864 - val_loss: 0.1966 - val_accuracy: 0.9773\n",
            "Epoch 45/1000\n",
            "1/2 [==============>...............] - ETA: 0s - loss: 0.2480 - accuracy: 0.9453\n",
            "Epoch 45: saving model to model/keypoint_classifier\\keypoint_classifier_SingleHand.hdf5\n",
            "2/2 [==============================] - 0s 71ms/step - loss: 0.2506 - accuracy: 0.9470 - val_loss: 0.1851 - val_accuracy: 0.9773\n",
            "Epoch 46/1000\n",
            "1/2 [==============>...............] - ETA: 0s - loss: 0.2396 - accuracy: 0.9219\n",
            "Epoch 46: saving model to model/keypoint_classifier\\keypoint_classifier_SingleHand.hdf5\n",
            "2/2 [==============================] - 0s 66ms/step - loss: 0.2393 - accuracy: 0.9242 - val_loss: 0.1737 - val_accuracy: 1.0000\n",
            "Epoch 47/1000\n",
            "1/2 [==============>...............] - ETA: 0s - loss: 0.2298 - accuracy: 0.9219\n",
            "Epoch 47: saving model to model/keypoint_classifier\\keypoint_classifier_SingleHand.hdf5\n",
            "2/2 [==============================] - 0s 69ms/step - loss: 0.2333 - accuracy: 0.9242 - val_loss: 0.1630 - val_accuracy: 1.0000\n",
            "Epoch 48/1000\n",
            "1/2 [==============>...............] - ETA: 0s - loss: 0.2464 - accuracy: 0.9297\n",
            "Epoch 48: saving model to model/keypoint_classifier\\keypoint_classifier_SingleHand.hdf5\n",
            "2/2 [==============================] - 0s 79ms/step - loss: 0.2414 - accuracy: 0.9318 - val_loss: 0.1530 - val_accuracy: 1.0000\n",
            "Epoch 49/1000\n",
            "1/2 [==============>...............] - ETA: 0s - loss: 0.2521 - accuracy: 0.9297\n",
            "Epoch 49: saving model to model/keypoint_classifier\\keypoint_classifier_SingleHand.hdf5\n",
            "2/2 [==============================] - 0s 86ms/step - loss: 0.2555 - accuracy: 0.9242 - val_loss: 0.1448 - val_accuracy: 1.0000\n",
            "Epoch 50/1000\n",
            "1/2 [==============>...............] - ETA: 0s - loss: 0.2661 - accuracy: 0.9062\n",
            "Epoch 50: saving model to model/keypoint_classifier\\keypoint_classifier_SingleHand.hdf5\n",
            "2/2 [==============================] - 0s 84ms/step - loss: 0.2627 - accuracy: 0.9091 - val_loss: 0.1378 - val_accuracy: 1.0000\n",
            "Epoch 51/1000\n",
            "1/2 [==============>...............] - ETA: 0s - loss: 0.2081 - accuracy: 0.9688\n",
            "Epoch 51: saving model to model/keypoint_classifier\\keypoint_classifier_SingleHand.hdf5\n",
            "2/2 [==============================] - 0s 78ms/step - loss: 0.2191 - accuracy: 0.9545 - val_loss: 0.1318 - val_accuracy: 1.0000\n",
            "Epoch 52/1000\n",
            "1/2 [==============>...............] - ETA: 0s - loss: 0.2411 - accuracy: 0.9062\n",
            "Epoch 52: saving model to model/keypoint_classifier\\keypoint_classifier_SingleHand.hdf5\n",
            "2/2 [==============================] - 0s 73ms/step - loss: 0.2364 - accuracy: 0.9091 - val_loss: 0.1264 - val_accuracy: 1.0000\n",
            "Epoch 53/1000\n",
            "1/2 [==============>...............] - ETA: 0s - loss: 0.2295 - accuracy: 0.9375\n",
            "Epoch 53: saving model to model/keypoint_classifier\\keypoint_classifier_SingleHand.hdf5\n",
            "2/2 [==============================] - 0s 68ms/step - loss: 0.2280 - accuracy: 0.9394 - val_loss: 0.1211 - val_accuracy: 1.0000\n",
            "Epoch 54/1000\n",
            "1/2 [==============>...............] - ETA: 0s - loss: 0.2087 - accuracy: 0.9141\n",
            "Epoch 54: saving model to model/keypoint_classifier\\keypoint_classifier_SingleHand.hdf5\n",
            "2/2 [==============================] - 0s 69ms/step - loss: 0.2036 - accuracy: 0.9167 - val_loss: 0.1162 - val_accuracy: 1.0000\n",
            "Epoch 55/1000\n",
            "1/2 [==============>...............] - ETA: 0s - loss: 0.1857 - accuracy: 0.9531\n",
            "Epoch 55: saving model to model/keypoint_classifier\\keypoint_classifier_SingleHand.hdf5\n",
            "2/2 [==============================] - 0s 71ms/step - loss: 0.1931 - accuracy: 0.9470 - val_loss: 0.1114 - val_accuracy: 1.0000\n",
            "Epoch 56/1000\n",
            "1/2 [==============>...............] - ETA: 0s - loss: 0.1609 - accuracy: 0.9844\n",
            "Epoch 56: saving model to model/keypoint_classifier\\keypoint_classifier_SingleHand.hdf5\n",
            "2/2 [==============================] - 0s 101ms/step - loss: 0.1595 - accuracy: 0.9848 - val_loss: 0.1067 - val_accuracy: 1.0000\n",
            "Epoch 57/1000\n",
            "1/2 [==============>...............] - ETA: 0s - loss: 0.1812 - accuracy: 0.9453\n",
            "Epoch 57: saving model to model/keypoint_classifier\\keypoint_classifier_SingleHand.hdf5\n",
            "2/2 [==============================] - 0s 104ms/step - loss: 0.1790 - accuracy: 0.9470 - val_loss: 0.1019 - val_accuracy: 1.0000\n",
            "Epoch 58/1000\n",
            "1/2 [==============>...............] - ETA: 0s - loss: 0.1584 - accuracy: 0.9688\n",
            "Epoch 58: saving model to model/keypoint_classifier\\keypoint_classifier_SingleHand.hdf5\n",
            "2/2 [==============================] - 0s 77ms/step - loss: 0.1557 - accuracy: 0.9697 - val_loss: 0.0966 - val_accuracy: 1.0000\n",
            "Epoch 59/1000\n",
            "1/2 [==============>...............] - ETA: 0s - loss: 0.1767 - accuracy: 0.9531\n",
            "Epoch 59: saving model to model/keypoint_classifier\\keypoint_classifier_SingleHand.hdf5\n",
            "2/2 [==============================] - 0s 76ms/step - loss: 0.1752 - accuracy: 0.9545 - val_loss: 0.0919 - val_accuracy: 1.0000\n",
            "Epoch 60/1000\n",
            "1/2 [==============>...............] - ETA: 0s - loss: 0.1677 - accuracy: 0.9688\n",
            "Epoch 60: saving model to model/keypoint_classifier\\keypoint_classifier_SingleHand.hdf5\n",
            "2/2 [==============================] - 0s 67ms/step - loss: 0.1705 - accuracy: 0.9697 - val_loss: 0.0874 - val_accuracy: 1.0000\n",
            "Epoch 61/1000\n",
            "1/2 [==============>...............] - ETA: 0s - loss: 0.1362 - accuracy: 0.9766\n",
            "Epoch 61: saving model to model/keypoint_classifier\\keypoint_classifier_SingleHand.hdf5\n",
            "2/2 [==============================] - 0s 70ms/step - loss: 0.1389 - accuracy: 0.9773 - val_loss: 0.0829 - val_accuracy: 1.0000\n",
            "Epoch 62/1000\n",
            "1/2 [==============>...............] - ETA: 0s - loss: 0.1561 - accuracy: 0.9531\n",
            "Epoch 62: saving model to model/keypoint_classifier\\keypoint_classifier_SingleHand.hdf5\n",
            "2/2 [==============================] - 0s 70ms/step - loss: 0.1633 - accuracy: 0.9470 - val_loss: 0.0790 - val_accuracy: 1.0000\n",
            "Epoch 63/1000\n",
            "1/2 [==============>...............] - ETA: 0s - loss: 0.1527 - accuracy: 0.9609\n",
            "Epoch 63: saving model to model/keypoint_classifier\\keypoint_classifier_SingleHand.hdf5\n",
            "2/2 [==============================] - 0s 74ms/step - loss: 0.1486 - accuracy: 0.9621 - val_loss: 0.0755 - val_accuracy: 1.0000\n",
            "Epoch 64/1000\n",
            "1/2 [==============>...............] - ETA: 0s - loss: 0.1484 - accuracy: 0.9453\n",
            "Epoch 64: saving model to model/keypoint_classifier\\keypoint_classifier_SingleHand.hdf5\n",
            "2/2 [==============================] - 0s 85ms/step - loss: 0.1542 - accuracy: 0.9394 - val_loss: 0.0727 - val_accuracy: 1.0000\n",
            "Epoch 65/1000\n",
            "1/2 [==============>...............] - ETA: 0s - loss: 0.1437 - accuracy: 0.9688\n",
            "Epoch 65: saving model to model/keypoint_classifier\\keypoint_classifier_SingleHand.hdf5\n",
            "2/2 [==============================] - 0s 78ms/step - loss: 0.1518 - accuracy: 0.9545 - val_loss: 0.0705 - val_accuracy: 1.0000\n",
            "Epoch 66/1000\n",
            "1/2 [==============>...............] - ETA: 0s - loss: 0.1283 - accuracy: 0.9766\n",
            "Epoch 66: saving model to model/keypoint_classifier\\keypoint_classifier_SingleHand.hdf5\n",
            "2/2 [==============================] - 0s 152ms/step - loss: 0.1317 - accuracy: 0.9697 - val_loss: 0.0683 - val_accuracy: 1.0000\n",
            "Epoch 67/1000\n",
            "1/2 [==============>...............] - ETA: 0s - loss: 0.1740 - accuracy: 0.9375\n",
            "Epoch 67: saving model to model/keypoint_classifier\\keypoint_classifier_SingleHand.hdf5\n",
            "2/2 [==============================] - 0s 75ms/step - loss: 0.1704 - accuracy: 0.9394 - val_loss: 0.0658 - val_accuracy: 1.0000\n",
            "Epoch 68/1000\n",
            "1/2 [==============>...............] - ETA: 0s - loss: 0.1345 - accuracy: 0.9531\n",
            "Epoch 68: saving model to model/keypoint_classifier\\keypoint_classifier_SingleHand.hdf5\n",
            "2/2 [==============================] - 0s 68ms/step - loss: 0.1386 - accuracy: 0.9470 - val_loss: 0.0632 - val_accuracy: 1.0000\n",
            "Epoch 69/1000\n",
            "1/2 [==============>...............] - ETA: 0s - loss: 0.1137 - accuracy: 0.9609\n",
            "Epoch 69: saving model to model/keypoint_classifier\\keypoint_classifier_SingleHand.hdf5\n",
            "2/2 [==============================] - 0s 95ms/step - loss: 0.1182 - accuracy: 0.9545 - val_loss: 0.0611 - val_accuracy: 1.0000\n",
            "Epoch 70/1000\n",
            "1/2 [==============>...............] - ETA: 0s - loss: 0.1415 - accuracy: 0.9609\n",
            "Epoch 70: saving model to model/keypoint_classifier\\keypoint_classifier_SingleHand.hdf5\n",
            "2/2 [==============================] - 0s 69ms/step - loss: 0.1383 - accuracy: 0.9621 - val_loss: 0.0592 - val_accuracy: 1.0000\n",
            "Epoch 71/1000\n",
            "1/2 [==============>...............] - ETA: 0s - loss: 0.1262 - accuracy: 0.9531\n",
            "Epoch 71: saving model to model/keypoint_classifier\\keypoint_classifier_SingleHand.hdf5\n",
            "2/2 [==============================] - 0s 63ms/step - loss: 0.1261 - accuracy: 0.9545 - val_loss: 0.0576 - val_accuracy: 1.0000\n",
            "Epoch 72/1000\n",
            "1/2 [==============>...............] - ETA: 0s - loss: 0.1274 - accuracy: 0.9609\n",
            "Epoch 72: saving model to model/keypoint_classifier\\keypoint_classifier_SingleHand.hdf5\n",
            "2/2 [==============================] - 0s 73ms/step - loss: 0.1262 - accuracy: 0.9621 - val_loss: 0.0561 - val_accuracy: 1.0000\n",
            "Epoch 73/1000\n",
            "1/2 [==============>...............] - ETA: 0s - loss: 0.1296 - accuracy: 0.9375\n",
            "Epoch 73: saving model to model/keypoint_classifier\\keypoint_classifier_SingleHand.hdf5\n",
            "2/2 [==============================] - 0s 74ms/step - loss: 0.1270 - accuracy: 0.9394 - val_loss: 0.0547 - val_accuracy: 1.0000\n",
            "Epoch 74/1000\n",
            "1/2 [==============>...............] - ETA: 0s - loss: 0.1032 - accuracy: 0.9766\n",
            "Epoch 74: saving model to model/keypoint_classifier\\keypoint_classifier_SingleHand.hdf5\n",
            "2/2 [==============================] - 0s 62ms/step - loss: 0.1065 - accuracy: 0.9697 - val_loss: 0.0535 - val_accuracy: 1.0000\n",
            "Epoch 75/1000\n",
            "1/2 [==============>...............] - ETA: 0s - loss: 0.1443 - accuracy: 0.9531\n",
            "Epoch 75: saving model to model/keypoint_classifier\\keypoint_classifier_SingleHand.hdf5\n",
            "2/2 [==============================] - 0s 61ms/step - loss: 0.1472 - accuracy: 0.9545 - val_loss: 0.0524 - val_accuracy: 1.0000\n",
            "Epoch 76/1000\n",
            "1/2 [==============>...............] - ETA: 0s - loss: 0.1311 - accuracy: 0.9531\n",
            "Epoch 76: saving model to model/keypoint_classifier\\keypoint_classifier_SingleHand.hdf5\n",
            "2/2 [==============================] - 0s 62ms/step - loss: 0.1284 - accuracy: 0.9545 - val_loss: 0.0510 - val_accuracy: 1.0000\n",
            "Epoch 77/1000\n",
            "1/2 [==============>...............] - ETA: 0s - loss: 0.1310 - accuracy: 0.9453\n",
            "Epoch 77: saving model to model/keypoint_classifier\\keypoint_classifier_SingleHand.hdf5\n",
            "2/2 [==============================] - 0s 68ms/step - loss: 0.1282 - accuracy: 0.9470 - val_loss: 0.0496 - val_accuracy: 1.0000\n",
            "Epoch 78/1000\n",
            "1/2 [==============>...............] - ETA: 0s - loss: 0.0920 - accuracy: 0.9922\n",
            "Epoch 78: saving model to model/keypoint_classifier\\keypoint_classifier_SingleHand.hdf5\n",
            "2/2 [==============================] - 0s 60ms/step - loss: 0.0904 - accuracy: 0.9924 - val_loss: 0.0484 - val_accuracy: 1.0000\n",
            "Epoch 79/1000\n",
            "1/2 [==============>...............] - ETA: 0s - loss: 0.1325 - accuracy: 0.9609\n",
            "Epoch 79: saving model to model/keypoint_classifier\\keypoint_classifier_SingleHand.hdf5\n",
            "2/2 [==============================] - 0s 66ms/step - loss: 0.1338 - accuracy: 0.9621 - val_loss: 0.0471 - val_accuracy: 1.0000\n",
            "Epoch 80/1000\n",
            "1/2 [==============>...............] - ETA: 0s - loss: 0.1216 - accuracy: 0.9766\n",
            "Epoch 80: saving model to model/keypoint_classifier\\keypoint_classifier_SingleHand.hdf5\n",
            "2/2 [==============================] - 0s 61ms/step - loss: 0.1258 - accuracy: 0.9773 - val_loss: 0.0450 - val_accuracy: 1.0000\n",
            "Epoch 81/1000\n",
            "1/2 [==============>...............] - ETA: 0s - loss: 0.0948 - accuracy: 0.9688\n",
            "Epoch 81: saving model to model/keypoint_classifier\\keypoint_classifier_SingleHand.hdf5\n",
            "2/2 [==============================] - 0s 69ms/step - loss: 0.0991 - accuracy: 0.9621 - val_loss: 0.0433 - val_accuracy: 1.0000\n",
            "Epoch 82/1000\n",
            "1/2 [==============>...............] - ETA: 0s - loss: 0.0992 - accuracy: 0.9844\n",
            "Epoch 82: saving model to model/keypoint_classifier\\keypoint_classifier_SingleHand.hdf5\n",
            "2/2 [==============================] - 0s 69ms/step - loss: 0.0974 - accuracy: 0.9848 - val_loss: 0.0423 - val_accuracy: 1.0000\n",
            "Epoch 83/1000\n",
            "1/2 [==============>...............] - ETA: 0s - loss: 0.1035 - accuracy: 0.9688\n",
            "Epoch 83: saving model to model/keypoint_classifier\\keypoint_classifier_SingleHand.hdf5\n",
            "2/2 [==============================] - 0s 95ms/step - loss: 0.1008 - accuracy: 0.9697 - val_loss: 0.0411 - val_accuracy: 1.0000\n",
            "Epoch 84/1000\n",
            "1/2 [==============>...............] - ETA: 0s - loss: 0.0986 - accuracy: 0.9609\n",
            "Epoch 84: saving model to model/keypoint_classifier\\keypoint_classifier_SingleHand.hdf5\n",
            "2/2 [==============================] - 0s 64ms/step - loss: 0.0976 - accuracy: 0.9621 - val_loss: 0.0400 - val_accuracy: 1.0000\n",
            "Epoch 85/1000\n",
            "1/2 [==============>...............] - ETA: 0s - loss: 0.1313 - accuracy: 0.9453\n",
            "Epoch 85: saving model to model/keypoint_classifier\\keypoint_classifier_SingleHand.hdf5\n",
            "2/2 [==============================] - 0s 58ms/step - loss: 0.1307 - accuracy: 0.9470 - val_loss: 0.0389 - val_accuracy: 1.0000\n",
            "Epoch 86/1000\n",
            "1/2 [==============>...............] - ETA: 0s - loss: 0.1195 - accuracy: 0.9609\n",
            "Epoch 86: saving model to model/keypoint_classifier\\keypoint_classifier_SingleHand.hdf5\n",
            "2/2 [==============================] - 0s 72ms/step - loss: 0.1172 - accuracy: 0.9621 - val_loss: 0.0377 - val_accuracy: 1.0000\n",
            "Epoch 87/1000\n",
            "1/2 [==============>...............] - ETA: 0s - loss: 0.0803 - accuracy: 0.9922\n",
            "Epoch 87: saving model to model/keypoint_classifier\\keypoint_classifier_SingleHand.hdf5\n",
            "2/2 [==============================] - 0s 95ms/step - loss: 0.0783 - accuracy: 0.9924 - val_loss: 0.0362 - val_accuracy: 1.0000\n",
            "Epoch 88/1000\n",
            "1/2 [==============>...............] - ETA: 0s - loss: 0.0818 - accuracy: 0.9844\n",
            "Epoch 88: saving model to model/keypoint_classifier\\keypoint_classifier_SingleHand.hdf5\n",
            "2/2 [==============================] - 0s 120ms/step - loss: 0.0802 - accuracy: 0.9848 - val_loss: 0.0349 - val_accuracy: 1.0000\n",
            "Epoch 89/1000\n",
            "1/2 [==============>...............] - ETA: 0s - loss: 0.1153 - accuracy: 0.9688\n",
            "Epoch 89: saving model to model/keypoint_classifier\\keypoint_classifier_SingleHand.hdf5\n",
            "2/2 [==============================] - 0s 97ms/step - loss: 0.1123 - accuracy: 0.9697 - val_loss: 0.0336 - val_accuracy: 1.0000\n",
            "Epoch 90/1000\n",
            "1/2 [==============>...............] - ETA: 0s - loss: 0.1025 - accuracy: 0.9766\n",
            "Epoch 90: saving model to model/keypoint_classifier\\keypoint_classifier_SingleHand.hdf5\n",
            "2/2 [==============================] - 0s 89ms/step - loss: 0.1021 - accuracy: 0.9773 - val_loss: 0.0326 - val_accuracy: 1.0000\n",
            "Epoch 91/1000\n",
            "1/2 [==============>...............] - ETA: 0s - loss: 0.0953 - accuracy: 0.9766\n",
            "Epoch 91: saving model to model/keypoint_classifier\\keypoint_classifier_SingleHand.hdf5\n",
            "2/2 [==============================] - 0s 70ms/step - loss: 0.0960 - accuracy: 0.9773 - val_loss: 0.0315 - val_accuracy: 1.0000\n",
            "Epoch 92/1000\n",
            "1/2 [==============>...............] - ETA: 0s - loss: 0.0986 - accuracy: 0.9688\n",
            "Epoch 92: saving model to model/keypoint_classifier\\keypoint_classifier_SingleHand.hdf5\n",
            "2/2 [==============================] - 0s 78ms/step - loss: 0.1016 - accuracy: 0.9697 - val_loss: 0.0306 - val_accuracy: 1.0000\n",
            "Epoch 93/1000\n",
            "1/2 [==============>...............] - ETA: 0s - loss: 0.0740 - accuracy: 0.9766\n",
            "Epoch 93: saving model to model/keypoint_classifier\\keypoint_classifier_SingleHand.hdf5\n",
            "2/2 [==============================] - 0s 82ms/step - loss: 0.0727 - accuracy: 0.9773 - val_loss: 0.0299 - val_accuracy: 1.0000\n",
            "Epoch 94/1000\n",
            "1/2 [==============>...............] - ETA: 0s - loss: 0.0892 - accuracy: 0.9766\n",
            "Epoch 94: saving model to model/keypoint_classifier\\keypoint_classifier_SingleHand.hdf5\n",
            "2/2 [==============================] - 0s 75ms/step - loss: 0.0982 - accuracy: 0.9773 - val_loss: 0.0285 - val_accuracy: 1.0000\n",
            "Epoch 95/1000\n",
            "1/2 [==============>...............] - ETA: 0s - loss: 0.0847 - accuracy: 0.9844\n",
            "Epoch 95: saving model to model/keypoint_classifier\\keypoint_classifier_SingleHand.hdf5\n",
            "2/2 [==============================] - 0s 83ms/step - loss: 0.0822 - accuracy: 0.9848 - val_loss: 0.0269 - val_accuracy: 1.0000\n",
            "Epoch 96/1000\n",
            "1/2 [==============>...............] - ETA: 0s - loss: 0.1008 - accuracy: 0.9766\n",
            "Epoch 96: saving model to model/keypoint_classifier\\keypoint_classifier_SingleHand.hdf5\n",
            "2/2 [==============================] - 0s 70ms/step - loss: 0.1008 - accuracy: 0.9773 - val_loss: 0.0253 - val_accuracy: 1.0000\n",
            "Epoch 97/1000\n",
            "1/2 [==============>...............] - ETA: 0s - loss: 0.0902 - accuracy: 0.9688\n",
            "Epoch 97: saving model to model/keypoint_classifier\\keypoint_classifier_SingleHand.hdf5\n",
            "2/2 [==============================] - 0s 103ms/step - loss: 0.0877 - accuracy: 0.9697 - val_loss: 0.0239 - val_accuracy: 1.0000\n",
            "Epoch 98/1000\n",
            "1/2 [==============>...............] - ETA: 0s - loss: 0.0750 - accuracy: 0.9766\n",
            "Epoch 98: saving model to model/keypoint_classifier\\keypoint_classifier_SingleHand.hdf5\n",
            "2/2 [==============================] - 0s 75ms/step - loss: 0.0728 - accuracy: 0.9773 - val_loss: 0.0230 - val_accuracy: 1.0000\n",
            "Epoch 99/1000\n",
            "1/2 [==============>...............] - ETA: 0s - loss: 0.0728 - accuracy: 0.9844\n",
            "Epoch 99: saving model to model/keypoint_classifier\\keypoint_classifier_SingleHand.hdf5\n",
            "2/2 [==============================] - 0s 89ms/step - loss: 0.0724 - accuracy: 0.9848 - val_loss: 0.0224 - val_accuracy: 1.0000\n",
            "Epoch 100/1000\n",
            "1/2 [==============>...............] - ETA: 0s - loss: 0.0549 - accuracy: 0.9922\n",
            "Epoch 100: saving model to model/keypoint_classifier\\keypoint_classifier_SingleHand.hdf5\n",
            "2/2 [==============================] - 0s 93ms/step - loss: 0.0566 - accuracy: 0.9924 - val_loss: 0.0217 - val_accuracy: 1.0000\n",
            "Epoch 101/1000\n",
            "1/2 [==============>...............] - ETA: 0s - loss: 0.0595 - accuracy: 0.9844\n",
            "Epoch 101: saving model to model/keypoint_classifier\\keypoint_classifier_SingleHand.hdf5\n",
            "2/2 [==============================] - 0s 75ms/step - loss: 0.0578 - accuracy: 0.9848 - val_loss: 0.0210 - val_accuracy: 1.0000\n",
            "Epoch 102/1000\n",
            "1/2 [==============>...............] - ETA: 0s - loss: 0.1114 - accuracy: 0.9531\n",
            "Epoch 102: saving model to model/keypoint_classifier\\keypoint_classifier_SingleHand.hdf5\n",
            "2/2 [==============================] - 0s 64ms/step - loss: 0.1093 - accuracy: 0.9545 - val_loss: 0.0204 - val_accuracy: 1.0000\n",
            "Epoch 103/1000\n",
            "1/2 [==============>...............] - ETA: 0s - loss: 0.0679 - accuracy: 0.9766\n",
            "Epoch 103: saving model to model/keypoint_classifier\\keypoint_classifier_SingleHand.hdf5\n",
            "2/2 [==============================] - 0s 65ms/step - loss: 0.0673 - accuracy: 0.9773 - val_loss: 0.0199 - val_accuracy: 1.0000\n",
            "Epoch 104/1000\n",
            "1/2 [==============>...............] - ETA: 0s - loss: 0.0790 - accuracy: 0.9844\n",
            "Epoch 104: saving model to model/keypoint_classifier\\keypoint_classifier_SingleHand.hdf5\n",
            "2/2 [==============================] - 0s 87ms/step - loss: 0.0770 - accuracy: 0.9848 - val_loss: 0.0195 - val_accuracy: 1.0000\n",
            "Epoch 105/1000\n",
            "1/2 [==============>...............] - ETA: 0s - loss: 0.0561 - accuracy: 0.9844\n",
            "Epoch 105: saving model to model/keypoint_classifier\\keypoint_classifier_SingleHand.hdf5\n",
            "2/2 [==============================] - 0s 93ms/step - loss: 0.0550 - accuracy: 0.9848 - val_loss: 0.0193 - val_accuracy: 1.0000\n",
            "Epoch 106/1000\n",
            "1/2 [==============>...............] - ETA: 0s - loss: 0.0736 - accuracy: 0.9766\n",
            "Epoch 106: saving model to model/keypoint_classifier\\keypoint_classifier_SingleHand.hdf5\n",
            "2/2 [==============================] - 0s 78ms/step - loss: 0.0718 - accuracy: 0.9773 - val_loss: 0.0192 - val_accuracy: 1.0000\n",
            "Epoch 107/1000\n",
            "1/2 [==============>...............] - ETA: 0s - loss: 0.0903 - accuracy: 0.9766\n",
            "Epoch 107: saving model to model/keypoint_classifier\\keypoint_classifier_SingleHand.hdf5\n",
            "2/2 [==============================] - 0s 71ms/step - loss: 0.0882 - accuracy: 0.9773 - val_loss: 0.0190 - val_accuracy: 1.0000\n",
            "Epoch 108/1000\n",
            "1/2 [==============>...............] - ETA: 0s - loss: 0.1236 - accuracy: 0.9766\n",
            "Epoch 108: saving model to model/keypoint_classifier\\keypoint_classifier_SingleHand.hdf5\n",
            "2/2 [==============================] - 0s 90ms/step - loss: 0.1220 - accuracy: 0.9773 - val_loss: 0.0190 - val_accuracy: 1.0000\n",
            "Epoch 109/1000\n",
            "1/2 [==============>...............] - ETA: 0s - loss: 0.1232 - accuracy: 0.9375\n",
            "Epoch 109: saving model to model/keypoint_classifier\\keypoint_classifier_SingleHand.hdf5\n",
            "2/2 [==============================] - 0s 62ms/step - loss: 0.1198 - accuracy: 0.9394 - val_loss: 0.0191 - val_accuracy: 1.0000\n",
            "Epoch 110/1000\n",
            "1/2 [==============>...............] - ETA: 0s - loss: 0.1043 - accuracy: 0.9688\n",
            "Epoch 110: saving model to model/keypoint_classifier\\keypoint_classifier_SingleHand.hdf5\n",
            "2/2 [==============================] - 0s 55ms/step - loss: 0.1042 - accuracy: 0.9697 - val_loss: 0.0191 - val_accuracy: 1.0000\n",
            "Epoch 111/1000\n",
            "1/2 [==============>...............] - ETA: 0s - loss: 0.0619 - accuracy: 0.9844\n",
            "Epoch 111: saving model to model/keypoint_classifier\\keypoint_classifier_SingleHand.hdf5\n",
            "2/2 [==============================] - 0s 54ms/step - loss: 0.0649 - accuracy: 0.9848 - val_loss: 0.0194 - val_accuracy: 1.0000\n",
            "Epoch 112/1000\n",
            "1/2 [==============>...............] - ETA: 0s - loss: 0.0828 - accuracy: 0.9688\n",
            "Epoch 112: saving model to model/keypoint_classifier\\keypoint_classifier_SingleHand.hdf5\n",
            "2/2 [==============================] - 0s 62ms/step - loss: 0.0807 - accuracy: 0.9697 - val_loss: 0.0197 - val_accuracy: 1.0000\n",
            "Epoch 113/1000\n",
            "1/2 [==============>...............] - ETA: 0s - loss: 0.0862 - accuracy: 0.9688\n",
            "Epoch 113: saving model to model/keypoint_classifier\\keypoint_classifier_SingleHand.hdf5\n",
            "2/2 [==============================] - 0s 67ms/step - loss: 0.0842 - accuracy: 0.9697 - val_loss: 0.0199 - val_accuracy: 1.0000\n",
            "Epoch 114/1000\n",
            "1/2 [==============>...............] - ETA: 0s - loss: 0.1618 - accuracy: 0.9297\n",
            "Epoch 114: saving model to model/keypoint_classifier\\keypoint_classifier_SingleHand.hdf5\n",
            "2/2 [==============================] - 0s 68ms/step - loss: 0.1578 - accuracy: 0.9318 - val_loss: 0.0205 - val_accuracy: 1.0000\n",
            "Epoch 115/1000\n",
            "1/2 [==============>...............] - ETA: 0s - loss: 0.0630 - accuracy: 0.9609\n",
            "Epoch 115: saving model to model/keypoint_classifier\\keypoint_classifier_SingleHand.hdf5\n",
            "2/2 [==============================] - 0s 58ms/step - loss: 0.0627 - accuracy: 0.9621 - val_loss: 0.0209 - val_accuracy: 1.0000\n",
            "Epoch 116/1000\n",
            "1/2 [==============>...............] - ETA: 0s - loss: 0.0525 - accuracy: 0.9766\n",
            "Epoch 116: saving model to model/keypoint_classifier\\keypoint_classifier_SingleHand.hdf5\n",
            "2/2 [==============================] - 0s 64ms/step - loss: 0.0511 - accuracy: 0.9773 - val_loss: 0.0207 - val_accuracy: 1.0000\n",
            "Epoch 117/1000\n",
            "1/2 [==============>...............] - ETA: 0s - loss: 0.0595 - accuracy: 0.9766\n",
            "Epoch 117: saving model to model/keypoint_classifier\\keypoint_classifier_SingleHand.hdf5\n",
            "2/2 [==============================] - 0s 64ms/step - loss: 0.0586 - accuracy: 0.9773 - val_loss: 0.0203 - val_accuracy: 1.0000\n",
            "Epoch 118/1000\n",
            "1/2 [==============>...............] - ETA: 0s - loss: 0.0763 - accuracy: 0.9766\n",
            "Epoch 118: saving model to model/keypoint_classifier\\keypoint_classifier_SingleHand.hdf5\n",
            "2/2 [==============================] - 0s 69ms/step - loss: 0.0754 - accuracy: 0.9773 - val_loss: 0.0200 - val_accuracy: 1.0000\n",
            "Epoch 119/1000\n",
            "1/2 [==============>...............] - ETA: 0s - loss: 0.0708 - accuracy: 0.9766\n",
            "Epoch 119: saving model to model/keypoint_classifier\\keypoint_classifier_SingleHand.hdf5\n",
            "2/2 [==============================] - 0s 70ms/step - loss: 0.0752 - accuracy: 0.9697 - val_loss: 0.0187 - val_accuracy: 1.0000\n",
            "Epoch 120/1000\n",
            "1/2 [==============>...............] - ETA: 0s - loss: 0.0368 - accuracy: 0.9922\n",
            "Epoch 120: saving model to model/keypoint_classifier\\keypoint_classifier_SingleHand.hdf5\n",
            "2/2 [==============================] - 0s 69ms/step - loss: 0.0380 - accuracy: 0.9924 - val_loss: 0.0164 - val_accuracy: 1.0000\n",
            "Epoch 121/1000\n",
            "1/2 [==============>...............] - ETA: 0s - loss: 0.0778 - accuracy: 0.9766\n",
            "Epoch 121: saving model to model/keypoint_classifier\\keypoint_classifier_SingleHand.hdf5\n",
            "2/2 [==============================] - 0s 62ms/step - loss: 0.0933 - accuracy: 0.9697 - val_loss: 0.0143 - val_accuracy: 1.0000\n",
            "Epoch 122/1000\n",
            "1/2 [==============>...............] - ETA: 0s - loss: 0.0542 - accuracy: 0.9922\n",
            "Epoch 122: saving model to model/keypoint_classifier\\keypoint_classifier_SingleHand.hdf5\n",
            "2/2 [==============================] - 0s 100ms/step - loss: 0.0609 - accuracy: 0.9848 - val_loss: 0.0134 - val_accuracy: 1.0000\n",
            "Epoch 123/1000\n",
            "1/2 [==============>...............] - ETA: 0s - loss: 0.0355 - accuracy: 1.0000\n",
            "Epoch 123: saving model to model/keypoint_classifier\\keypoint_classifier_SingleHand.hdf5\n",
            "2/2 [==============================] - 0s 80ms/step - loss: 0.0347 - accuracy: 1.0000 - val_loss: 0.0131 - val_accuracy: 1.0000\n",
            "Epoch 124/1000\n",
            "1/2 [==============>...............] - ETA: 0s - loss: 0.0691 - accuracy: 0.9688\n",
            "Epoch 124: saving model to model/keypoint_classifier\\keypoint_classifier_SingleHand.hdf5\n",
            "2/2 [==============================] - 0s 95ms/step - loss: 0.0683 - accuracy: 0.9697 - val_loss: 0.0128 - val_accuracy: 1.0000\n",
            "Epoch 125/1000\n",
            "1/2 [==============>...............] - ETA: 0s - loss: 0.0508 - accuracy: 0.9844\n",
            "Epoch 125: saving model to model/keypoint_classifier\\keypoint_classifier_SingleHand.hdf5\n",
            "2/2 [==============================] - 0s 70ms/step - loss: 0.0495 - accuracy: 0.9848 - val_loss: 0.0126 - val_accuracy: 1.0000\n",
            "Epoch 126/1000\n",
            "1/2 [==============>...............] - ETA: 0s - loss: 0.0455 - accuracy: 0.9922\n",
            "Epoch 126: saving model to model/keypoint_classifier\\keypoint_classifier_SingleHand.hdf5\n",
            "2/2 [==============================] - 0s 67ms/step - loss: 0.0521 - accuracy: 0.9848 - val_loss: 0.0123 - val_accuracy: 1.0000\n",
            "Epoch 127/1000\n",
            "1/2 [==============>...............] - ETA: 0s - loss: 0.0599 - accuracy: 0.9766\n",
            "Epoch 127: saving model to model/keypoint_classifier\\keypoint_classifier_SingleHand.hdf5\n",
            "2/2 [==============================] - 0s 68ms/step - loss: 0.0584 - accuracy: 0.9773 - val_loss: 0.0121 - val_accuracy: 1.0000\n",
            "Epoch 128/1000\n",
            "1/2 [==============>...............] - ETA: 0s - loss: 0.0716 - accuracy: 0.9766\n",
            "Epoch 128: saving model to model/keypoint_classifier\\keypoint_classifier_SingleHand.hdf5\n",
            "2/2 [==============================] - 0s 61ms/step - loss: 0.0703 - accuracy: 0.9773 - val_loss: 0.0121 - val_accuracy: 1.0000\n",
            "Epoch 129/1000\n",
            "1/2 [==============>...............] - ETA: 0s - loss: 0.0702 - accuracy: 0.9688\n",
            "Epoch 129: saving model to model/keypoint_classifier\\keypoint_classifier_SingleHand.hdf5\n",
            "2/2 [==============================] - 0s 63ms/step - loss: 0.0688 - accuracy: 0.9697 - val_loss: 0.0123 - val_accuracy: 1.0000\n",
            "Epoch 130/1000\n",
            "1/2 [==============>...............] - ETA: 0s - loss: 0.0450 - accuracy: 0.9844\n",
            "Epoch 130: saving model to model/keypoint_classifier\\keypoint_classifier_SingleHand.hdf5\n",
            "2/2 [==============================] - 0s 70ms/step - loss: 0.0519 - accuracy: 0.9848 - val_loss: 0.0128 - val_accuracy: 1.0000\n",
            "Epoch 131/1000\n",
            "1/2 [==============>...............] - ETA: 0s - loss: 0.0617 - accuracy: 0.9922\n",
            "Epoch 131: saving model to model/keypoint_classifier\\keypoint_classifier_SingleHand.hdf5\n",
            "2/2 [==============================] - 0s 73ms/step - loss: 0.0618 - accuracy: 0.9924 - val_loss: 0.0138 - val_accuracy: 1.0000\n",
            "Epoch 132/1000\n",
            "1/2 [==============>...............] - ETA: 0s - loss: 0.0453 - accuracy: 1.0000\n",
            "Epoch 132: saving model to model/keypoint_classifier\\keypoint_classifier_SingleHand.hdf5\n",
            "2/2 [==============================] - 0s 64ms/step - loss: 0.0441 - accuracy: 1.0000 - val_loss: 0.0149 - val_accuracy: 1.0000\n",
            "Epoch 133/1000\n",
            "1/2 [==============>...............] - ETA: 0s - loss: 0.0649 - accuracy: 0.9922\n",
            "Epoch 133: saving model to model/keypoint_classifier\\keypoint_classifier_SingleHand.hdf5\n",
            "2/2 [==============================] - 0s 68ms/step - loss: 0.0632 - accuracy: 0.9924 - val_loss: 0.0159 - val_accuracy: 1.0000\n",
            "Epoch 134/1000\n",
            "1/2 [==============>...............] - ETA: 0s - loss: 0.0533 - accuracy: 0.9844\n",
            "Epoch 134: saving model to model/keypoint_classifier\\keypoint_classifier_SingleHand.hdf5\n",
            "2/2 [==============================] - 0s 80ms/step - loss: 0.0520 - accuracy: 0.9848 - val_loss: 0.0167 - val_accuracy: 1.0000\n",
            "Epoch 135/1000\n",
            "1/2 [==============>...............] - ETA: 0s - loss: 0.0687 - accuracy: 0.9766\n",
            "Epoch 135: saving model to model/keypoint_classifier\\keypoint_classifier_SingleHand.hdf5\n",
            "2/2 [==============================] - 0s 112ms/step - loss: 0.0678 - accuracy: 0.9773 - val_loss: 0.0173 - val_accuracy: 1.0000\n",
            "Epoch 136/1000\n",
            "1/2 [==============>...............] - ETA: 0s - loss: 0.0420 - accuracy: 0.9922\n",
            "Epoch 136: saving model to model/keypoint_classifier\\keypoint_classifier_SingleHand.hdf5\n",
            "2/2 [==============================] - 0s 79ms/step - loss: 0.0429 - accuracy: 0.9924 - val_loss: 0.0171 - val_accuracy: 1.0000\n",
            "Epoch 137/1000\n",
            "1/2 [==============>...............] - ETA: 0s - loss: 0.0475 - accuracy: 0.9844\n",
            "Epoch 137: saving model to model/keypoint_classifier\\keypoint_classifier_SingleHand.hdf5\n",
            "2/2 [==============================] - 0s 83ms/step - loss: 0.0467 - accuracy: 0.9848 - val_loss: 0.0161 - val_accuracy: 1.0000\n",
            "Epoch 138/1000\n",
            "1/2 [==============>...............] - ETA: 0s - loss: 0.0519 - accuracy: 0.9844\n",
            "Epoch 138: saving model to model/keypoint_classifier\\keypoint_classifier_SingleHand.hdf5\n",
            "2/2 [==============================] - 0s 66ms/step - loss: 0.0763 - accuracy: 0.9773 - val_loss: 0.0144 - val_accuracy: 1.0000\n",
            "Epoch 139/1000\n",
            "1/2 [==============>...............] - ETA: 0s - loss: 0.0594 - accuracy: 0.9844\n",
            "Epoch 139: saving model to model/keypoint_classifier\\keypoint_classifier_SingleHand.hdf5\n",
            "2/2 [==============================] - 0s 67ms/step - loss: 0.0581 - accuracy: 0.9848 - val_loss: 0.0126 - val_accuracy: 1.0000\n",
            "Epoch 140/1000\n",
            "1/2 [==============>...............] - ETA: 0s - loss: 0.0579 - accuracy: 0.9766\n",
            "Epoch 140: saving model to model/keypoint_classifier\\keypoint_classifier_SingleHand.hdf5\n",
            "2/2 [==============================] - 0s 69ms/step - loss: 0.0576 - accuracy: 0.9773 - val_loss: 0.0113 - val_accuracy: 1.0000\n",
            "Epoch 141/1000\n",
            "1/2 [==============>...............] - ETA: 0s - loss: 0.0244 - accuracy: 1.0000\n",
            "Epoch 141: saving model to model/keypoint_classifier\\keypoint_classifier_SingleHand.hdf5\n",
            "2/2 [==============================] - 0s 58ms/step - loss: 0.0307 - accuracy: 0.9924 - val_loss: 0.0109 - val_accuracy: 1.0000\n",
            "Epoch 142/1000\n",
            "1/2 [==============>...............] - ETA: 0s - loss: 0.0496 - accuracy: 0.9844\n",
            "Epoch 142: saving model to model/keypoint_classifier\\keypoint_classifier_SingleHand.hdf5\n",
            "2/2 [==============================] - 0s 69ms/step - loss: 0.0497 - accuracy: 0.9848 - val_loss: 0.0111 - val_accuracy: 1.0000\n",
            "Epoch 143/1000\n",
            "1/2 [==============>...............] - ETA: 0s - loss: 0.0661 - accuracy: 0.9922\n",
            "Epoch 143: saving model to model/keypoint_classifier\\keypoint_classifier_SingleHand.hdf5\n",
            "2/2 [==============================] - 0s 63ms/step - loss: 0.0642 - accuracy: 0.9924 - val_loss: 0.0114 - val_accuracy: 1.0000\n",
            "Epoch 144/1000\n",
            "1/2 [==============>...............] - ETA: 0s - loss: 0.0421 - accuracy: 0.9922\n",
            "Epoch 144: saving model to model/keypoint_classifier\\keypoint_classifier_SingleHand.hdf5\n",
            "2/2 [==============================] - 0s 65ms/step - loss: 0.0408 - accuracy: 0.9924 - val_loss: 0.0116 - val_accuracy: 1.0000\n",
            "Epoch 145/1000\n",
            "1/2 [==============>...............] - ETA: 0s - loss: 0.0537 - accuracy: 0.9688\n",
            "Epoch 145: saving model to model/keypoint_classifier\\keypoint_classifier_SingleHand.hdf5\n",
            "2/2 [==============================] - 0s 65ms/step - loss: 0.0546 - accuracy: 0.9697 - val_loss: 0.0119 - val_accuracy: 1.0000\n",
            "Epoch 146/1000\n",
            "1/2 [==============>...............] - ETA: 0s - loss: 0.0888 - accuracy: 0.9688\n",
            "Epoch 146: saving model to model/keypoint_classifier\\keypoint_classifier_SingleHand.hdf5\n",
            "2/2 [==============================] - 0s 61ms/step - loss: 0.0869 - accuracy: 0.9697 - val_loss: 0.0122 - val_accuracy: 1.0000\n",
            "Epoch 147/1000\n",
            "1/2 [==============>...............] - ETA: 0s - loss: 0.0379 - accuracy: 0.9922\n",
            "Epoch 147: saving model to model/keypoint_classifier\\keypoint_classifier_SingleHand.hdf5\n",
            "2/2 [==============================] - 0s 62ms/step - loss: 0.0370 - accuracy: 0.9924 - val_loss: 0.0125 - val_accuracy: 1.0000\n",
            "Epoch 148/1000\n",
            "1/2 [==============>...............] - ETA: 0s - loss: 0.0758 - accuracy: 0.9688\n",
            "Epoch 148: saving model to model/keypoint_classifier\\keypoint_classifier_SingleHand.hdf5\n",
            "2/2 [==============================] - 0s 72ms/step - loss: 0.0746 - accuracy: 0.9697 - val_loss: 0.0126 - val_accuracy: 1.0000\n",
            "Epoch 149/1000\n",
            "1/2 [==============>...............] - ETA: 0s - loss: 0.0497 - accuracy: 0.9844\n",
            "Epoch 149: saving model to model/keypoint_classifier\\keypoint_classifier_SingleHand.hdf5\n",
            "2/2 [==============================] - 0s 87ms/step - loss: 0.0489 - accuracy: 0.9848 - val_loss: 0.0126 - val_accuracy: 1.0000\n",
            "Epoch 150/1000\n",
            "1/2 [==============>...............] - ETA: 0s - loss: 0.0425 - accuracy: 0.9844\n",
            "Epoch 150: saving model to model/keypoint_classifier\\keypoint_classifier_SingleHand.hdf5\n",
            "2/2 [==============================] - 0s 105ms/step - loss: 0.0414 - accuracy: 0.9848 - val_loss: 0.0123 - val_accuracy: 1.0000\n",
            "Epoch 151/1000\n",
            "1/2 [==============>...............] - ETA: 0s - loss: 0.0375 - accuracy: 0.9922\n",
            "Epoch 151: saving model to model/keypoint_classifier\\keypoint_classifier_SingleHand.hdf5\n",
            "2/2 [==============================] - 0s 79ms/step - loss: 0.0364 - accuracy: 0.9924 - val_loss: 0.0121 - val_accuracy: 1.0000\n",
            "Epoch 152/1000\n",
            "1/2 [==============>...............] - ETA: 0s - loss: 0.0655 - accuracy: 0.9766\n",
            "Epoch 152: saving model to model/keypoint_classifier\\keypoint_classifier_SingleHand.hdf5\n",
            "2/2 [==============================] - 0s 76ms/step - loss: 0.0778 - accuracy: 0.9697 - val_loss: 0.0112 - val_accuracy: 1.0000\n",
            "Epoch 153/1000\n",
            "1/2 [==============>...............] - ETA: 0s - loss: 0.0518 - accuracy: 0.9922\n",
            "Epoch 153: saving model to model/keypoint_classifier\\keypoint_classifier_SingleHand.hdf5\n",
            "2/2 [==============================] - 0s 61ms/step - loss: 0.0515 - accuracy: 0.9924 - val_loss: 0.0099 - val_accuracy: 1.0000\n",
            "Epoch 154/1000\n",
            "1/2 [==============>...............] - ETA: 0s - loss: 0.0691 - accuracy: 0.9766\n",
            "Epoch 154: saving model to model/keypoint_classifier\\keypoint_classifier_SingleHand.hdf5\n",
            "2/2 [==============================] - 0s 71ms/step - loss: 0.0672 - accuracy: 0.9773 - val_loss: 0.0090 - val_accuracy: 1.0000\n",
            "Epoch 155/1000\n",
            "1/2 [==============>...............] - ETA: 0s - loss: 0.0456 - accuracy: 0.9922\n",
            "Epoch 155: saving model to model/keypoint_classifier\\keypoint_classifier_SingleHand.hdf5\n",
            "2/2 [==============================] - 0s 58ms/step - loss: 0.0464 - accuracy: 0.9924 - val_loss: 0.0083 - val_accuracy: 1.0000\n",
            "Epoch 156/1000\n",
            "1/2 [==============>...............] - ETA: 0s - loss: 0.0431 - accuracy: 0.9844\n",
            "Epoch 156: saving model to model/keypoint_classifier\\keypoint_classifier_SingleHand.hdf5\n",
            "2/2 [==============================] - 0s 66ms/step - loss: 0.0426 - accuracy: 0.9848 - val_loss: 0.0077 - val_accuracy: 1.0000\n",
            "Epoch 157/1000\n",
            "1/2 [==============>...............] - ETA: 0s - loss: 0.0232 - accuracy: 1.0000\n",
            "Epoch 157: saving model to model/keypoint_classifier\\keypoint_classifier_SingleHand.hdf5\n",
            "2/2 [==============================] - 0s 67ms/step - loss: 0.0264 - accuracy: 1.0000 - val_loss: 0.0072 - val_accuracy: 1.0000\n",
            "Epoch 158/1000\n",
            "1/2 [==============>...............] - ETA: 0s - loss: 0.0366 - accuracy: 0.9922\n",
            "Epoch 158: saving model to model/keypoint_classifier\\keypoint_classifier_SingleHand.hdf5\n",
            "2/2 [==============================] - 0s 62ms/step - loss: 0.0357 - accuracy: 0.9924 - val_loss: 0.0067 - val_accuracy: 1.0000\n",
            "Epoch 159/1000\n",
            "1/2 [==============>...............] - ETA: 0s - loss: 0.0333 - accuracy: 0.9922\n",
            "Epoch 159: saving model to model/keypoint_classifier\\keypoint_classifier_SingleHand.hdf5\n",
            "2/2 [==============================] - 0s 68ms/step - loss: 0.0329 - accuracy: 0.9924 - val_loss: 0.0064 - val_accuracy: 1.0000\n",
            "Epoch 160/1000\n",
            "1/2 [==============>...............] - ETA: 0s - loss: 0.0543 - accuracy: 0.9766\n",
            "Epoch 160: saving model to model/keypoint_classifier\\keypoint_classifier_SingleHand.hdf5\n",
            "2/2 [==============================] - 0s 58ms/step - loss: 0.0536 - accuracy: 0.9773 - val_loss: 0.0061 - val_accuracy: 1.0000\n",
            "Epoch 161/1000\n",
            "1/2 [==============>...............] - ETA: 0s - loss: 0.0440 - accuracy: 0.9922\n",
            "Epoch 161: saving model to model/keypoint_classifier\\keypoint_classifier_SingleHand.hdf5\n",
            "2/2 [==============================] - 0s 105ms/step - loss: 0.0430 - accuracy: 0.9924 - val_loss: 0.0060 - val_accuracy: 1.0000\n",
            "Epoch 162/1000\n",
            "1/2 [==============>...............] - ETA: 0s - loss: 0.0710 - accuracy: 0.9766\n",
            "Epoch 162: saving model to model/keypoint_classifier\\keypoint_classifier_SingleHand.hdf5\n",
            "2/2 [==============================] - 0s 107ms/step - loss: 0.0690 - accuracy: 0.9773 - val_loss: 0.0058 - val_accuracy: 1.0000\n",
            "Epoch 163/1000\n",
            "1/2 [==============>...............] - ETA: 0s - loss: 0.0544 - accuracy: 0.9844\n",
            "Epoch 163: saving model to model/keypoint_classifier\\keypoint_classifier_SingleHand.hdf5\n",
            "2/2 [==============================] - 0s 93ms/step - loss: 0.0572 - accuracy: 0.9848 - val_loss: 0.0057 - val_accuracy: 1.0000\n",
            "Epoch 164/1000\n",
            "1/2 [==============>...............] - ETA: 0s - loss: 0.0283 - accuracy: 1.0000\n",
            "Epoch 164: saving model to model/keypoint_classifier\\keypoint_classifier_SingleHand.hdf5\n",
            "2/2 [==============================] - 0s 77ms/step - loss: 0.0275 - accuracy: 1.0000 - val_loss: 0.0058 - val_accuracy: 1.0000\n",
            "Epoch 165/1000\n",
            "1/2 [==============>...............] - ETA: 0s - loss: 0.0508 - accuracy: 0.9766\n",
            "Epoch 165: saving model to model/keypoint_classifier\\keypoint_classifier_SingleHand.hdf5\n",
            "2/2 [==============================] - 0s 71ms/step - loss: 0.0493 - accuracy: 0.9773 - val_loss: 0.0058 - val_accuracy: 1.0000\n",
            "Epoch 166/1000\n",
            "1/2 [==============>...............] - ETA: 0s - loss: 0.0319 - accuracy: 1.0000\n",
            "Epoch 166: saving model to model/keypoint_classifier\\keypoint_classifier_SingleHand.hdf5\n",
            "2/2 [==============================] - 0s 73ms/step - loss: 0.0309 - accuracy: 1.0000 - val_loss: 0.0059 - val_accuracy: 1.0000\n",
            "Epoch 167/1000\n",
            "1/2 [==============>...............] - ETA: 0s - loss: 0.0432 - accuracy: 0.9844\n",
            "Epoch 167: saving model to model/keypoint_classifier\\keypoint_classifier_SingleHand.hdf5\n",
            "2/2 [==============================] - 0s 76ms/step - loss: 0.0419 - accuracy: 0.9848 - val_loss: 0.0059 - val_accuracy: 1.0000\n",
            "Epoch 168/1000\n",
            "1/2 [==============>...............] - ETA: 0s - loss: 0.0672 - accuracy: 0.9609\n",
            "Epoch 168: saving model to model/keypoint_classifier\\keypoint_classifier_SingleHand.hdf5\n",
            "2/2 [==============================] - 0s 90ms/step - loss: 0.0704 - accuracy: 0.9621 - val_loss: 0.0060 - val_accuracy: 1.0000\n",
            "Epoch 169/1000\n",
            "1/2 [==============>...............] - ETA: 0s - loss: 0.0207 - accuracy: 1.0000\n",
            "Epoch 169: saving model to model/keypoint_classifier\\keypoint_classifier_SingleHand.hdf5\n",
            "2/2 [==============================] - 0s 84ms/step - loss: 0.0215 - accuracy: 1.0000 - val_loss: 0.0060 - val_accuracy: 1.0000\n",
            "Epoch 170/1000\n",
            "1/2 [==============>...............] - ETA: 0s - loss: 0.0466 - accuracy: 0.9844\n",
            "Epoch 170: saving model to model/keypoint_classifier\\keypoint_classifier_SingleHand.hdf5\n",
            "2/2 [==============================] - 0s 82ms/step - loss: 0.0453 - accuracy: 0.9848 - val_loss: 0.0060 - val_accuracy: 1.0000\n",
            "Epoch 171/1000\n",
            "1/2 [==============>...............] - ETA: 0s - loss: 0.0311 - accuracy: 1.0000\n",
            "Epoch 171: saving model to model/keypoint_classifier\\keypoint_classifier_SingleHand.hdf5\n",
            "2/2 [==============================] - 0s 71ms/step - loss: 0.0308 - accuracy: 1.0000 - val_loss: 0.0059 - val_accuracy: 1.0000\n",
            "Epoch 172/1000\n",
            "1/2 [==============>...............] - ETA: 0s - loss: 0.0425 - accuracy: 0.9844\n",
            "Epoch 172: saving model to model/keypoint_classifier\\keypoint_classifier_SingleHand.hdf5\n",
            "2/2 [==============================] - 0s 67ms/step - loss: 0.0452 - accuracy: 0.9848 - val_loss: 0.0060 - val_accuracy: 1.0000\n",
            "Epoch 173/1000\n",
            "1/2 [==============>...............] - ETA: 0s - loss: 0.0295 - accuracy: 0.9922\n",
            "Epoch 173: saving model to model/keypoint_classifier\\keypoint_classifier_SingleHand.hdf5\n",
            "2/2 [==============================] - 0s 89ms/step - loss: 0.0349 - accuracy: 0.9848 - val_loss: 0.0060 - val_accuracy: 1.0000\n",
            "Epoch 174/1000\n",
            "1/2 [==============>...............] - ETA: 0s - loss: 0.0434 - accuracy: 0.9844\n",
            "Epoch 174: saving model to model/keypoint_classifier\\keypoint_classifier_SingleHand.hdf5\n",
            "2/2 [==============================] - 0s 85ms/step - loss: 0.0503 - accuracy: 0.9773 - val_loss: 0.0062 - val_accuracy: 1.0000\n",
            "Epoch 175/1000\n",
            "1/2 [==============>...............] - ETA: 0s - loss: 0.0633 - accuracy: 0.9766\n",
            "Epoch 175: saving model to model/keypoint_classifier\\keypoint_classifier_SingleHand.hdf5\n",
            "2/2 [==============================] - 0s 87ms/step - loss: 0.0615 - accuracy: 0.9773 - val_loss: 0.0068 - val_accuracy: 1.0000\n",
            "Epoch 176/1000\n",
            "1/2 [==============>...............] - ETA: 0s - loss: 0.0336 - accuracy: 0.9922\n",
            "Epoch 176: saving model to model/keypoint_classifier\\keypoint_classifier_SingleHand.hdf5\n",
            "2/2 [==============================] - 0s 77ms/step - loss: 0.0328 - accuracy: 0.9924 - val_loss: 0.0074 - val_accuracy: 1.0000\n",
            "Epoch 177/1000\n",
            "1/2 [==============>...............] - ETA: 0s - loss: 0.0463 - accuracy: 0.9844\n",
            "Epoch 177: saving model to model/keypoint_classifier\\keypoint_classifier_SingleHand.hdf5\n",
            "2/2 [==============================] - 0s 76ms/step - loss: 0.0498 - accuracy: 0.9848 - val_loss: 0.0076 - val_accuracy: 1.0000\n",
            "Epoch 178/1000\n",
            "1/2 [==============>...............] - ETA: 0s - loss: 0.0816 - accuracy: 0.9766\n",
            "Epoch 178: saving model to model/keypoint_classifier\\keypoint_classifier_SingleHand.hdf5\n",
            "2/2 [==============================] - 0s 66ms/step - loss: 0.0792 - accuracy: 0.9773 - val_loss: 0.0076 - val_accuracy: 1.0000\n",
            "Epoch 179/1000\n",
            "1/2 [==============>...............] - ETA: 0s - loss: 0.0435 - accuracy: 0.9844\n",
            "Epoch 179: saving model to model/keypoint_classifier\\keypoint_classifier_SingleHand.hdf5\n",
            "2/2 [==============================] - 0s 66ms/step - loss: 0.0423 - accuracy: 0.9848 - val_loss: 0.0075 - val_accuracy: 1.0000\n",
            "Epoch 180/1000\n",
            "1/2 [==============>...............] - ETA: 0s - loss: 0.0365 - accuracy: 0.9922\n",
            "Epoch 180: saving model to model/keypoint_classifier\\keypoint_classifier_SingleHand.hdf5\n",
            "2/2 [==============================] - 0s 71ms/step - loss: 0.0355 - accuracy: 0.9924 - val_loss: 0.0073 - val_accuracy: 1.0000\n",
            "Epoch 181/1000\n",
            "1/2 [==============>...............] - ETA: 0s - loss: 0.0325 - accuracy: 0.9922\n",
            "Epoch 181: saving model to model/keypoint_classifier\\keypoint_classifier_SingleHand.hdf5\n",
            "2/2 [==============================] - 0s 68ms/step - loss: 0.0406 - accuracy: 0.9848 - val_loss: 0.0065 - val_accuracy: 1.0000\n",
            "Epoch 182/1000\n",
            "1/2 [==============>...............] - ETA: 0s - loss: 0.0358 - accuracy: 0.9844\n",
            "Epoch 182: saving model to model/keypoint_classifier\\keypoint_classifier_SingleHand.hdf5\n",
            "2/2 [==============================] - 0s 67ms/step - loss: 0.0352 - accuracy: 0.9848 - val_loss: 0.0055 - val_accuracy: 1.0000\n",
            "Epoch 183/1000\n",
            "1/2 [==============>...............] - ETA: 0s - loss: 0.0447 - accuracy: 0.9766\n",
            "Epoch 183: saving model to model/keypoint_classifier\\keypoint_classifier_SingleHand.hdf5\n",
            "2/2 [==============================] - 0s 57ms/step - loss: 0.0436 - accuracy: 0.9773 - val_loss: 0.0048 - val_accuracy: 1.0000\n",
            "Epoch 184/1000\n",
            "1/2 [==============>...............] - ETA: 0s - loss: 0.0946 - accuracy: 0.9844\n",
            "Epoch 184: saving model to model/keypoint_classifier\\keypoint_classifier_SingleHand.hdf5\n",
            "2/2 [==============================] - 0s 72ms/step - loss: 0.0919 - accuracy: 0.9848 - val_loss: 0.0044 - val_accuracy: 1.0000\n",
            "Epoch 185/1000\n",
            "1/2 [==============>...............] - ETA: 0s - loss: 0.0358 - accuracy: 0.9844\n",
            "Epoch 185: saving model to model/keypoint_classifier\\keypoint_classifier_SingleHand.hdf5\n",
            "2/2 [==============================] - 0s 67ms/step - loss: 0.0347 - accuracy: 0.9848 - val_loss: 0.0041 - val_accuracy: 1.0000\n",
            "Epoch 186/1000\n",
            "1/2 [==============>...............] - ETA: 0s - loss: 0.0471 - accuracy: 0.9766\n",
            "Epoch 186: saving model to model/keypoint_classifier\\keypoint_classifier_SingleHand.hdf5\n",
            "2/2 [==============================] - 0s 75ms/step - loss: 0.0475 - accuracy: 0.9773 - val_loss: 0.0039 - val_accuracy: 1.0000\n",
            "Epoch 187/1000\n",
            "1/2 [==============>...............] - ETA: 0s - loss: 0.0625 - accuracy: 0.9766\n",
            "Epoch 187: saving model to model/keypoint_classifier\\keypoint_classifier_SingleHand.hdf5\n",
            "2/2 [==============================] - 0s 90ms/step - loss: 0.0609 - accuracy: 0.9773 - val_loss: 0.0037 - val_accuracy: 1.0000\n",
            "Epoch 188/1000\n",
            "1/2 [==============>...............] - ETA: 0s - loss: 0.0201 - accuracy: 1.0000\n",
            "Epoch 188: saving model to model/keypoint_classifier\\keypoint_classifier_SingleHand.hdf5\n",
            "2/2 [==============================] - 0s 97ms/step - loss: 0.0196 - accuracy: 1.0000 - val_loss: 0.0036 - val_accuracy: 1.0000\n",
            "Epoch 189/1000\n",
            "1/2 [==============>...............] - ETA: 0s - loss: 0.0221 - accuracy: 1.0000\n",
            "Epoch 189: saving model to model/keypoint_classifier\\keypoint_classifier_SingleHand.hdf5\n",
            "2/2 [==============================] - 0s 74ms/step - loss: 0.0218 - accuracy: 1.0000 - val_loss: 0.0035 - val_accuracy: 1.0000\n",
            "Epoch 190/1000\n",
            "1/2 [==============>...............] - ETA: 0s - loss: 0.0338 - accuracy: 0.9844\n",
            "Epoch 190: saving model to model/keypoint_classifier\\keypoint_classifier_SingleHand.hdf5\n",
            "2/2 [==============================] - 0s 78ms/step - loss: 0.0329 - accuracy: 0.9848 - val_loss: 0.0034 - val_accuracy: 1.0000\n",
            "Epoch 191/1000\n",
            "1/2 [==============>...............] - ETA: 0s - loss: 0.0577 - accuracy: 0.9766\n",
            "Epoch 191: saving model to model/keypoint_classifier\\keypoint_classifier_SingleHand.hdf5\n",
            "2/2 [==============================] - 0s 76ms/step - loss: 0.0561 - accuracy: 0.9773 - val_loss: 0.0033 - val_accuracy: 1.0000\n",
            "Epoch 192/1000\n",
            "1/2 [==============>...............] - ETA: 0s - loss: 0.0466 - accuracy: 0.9766\n",
            "Epoch 192: saving model to model/keypoint_classifier\\keypoint_classifier_SingleHand.hdf5\n",
            "2/2 [==============================] - 0s 58ms/step - loss: 0.0453 - accuracy: 0.9773 - val_loss: 0.0033 - val_accuracy: 1.0000\n",
            "Epoch 193/1000\n",
            "1/2 [==============>...............] - ETA: 0s - loss: 0.0340 - accuracy: 0.9922\n",
            "Epoch 193: saving model to model/keypoint_classifier\\keypoint_classifier_SingleHand.hdf5\n",
            "2/2 [==============================] - 0s 70ms/step - loss: 0.0331 - accuracy: 0.9924 - val_loss: 0.0032 - val_accuracy: 1.0000\n",
            "Epoch 194/1000\n",
            "1/2 [==============>...............] - ETA: 0s - loss: 0.0403 - accuracy: 0.9922\n",
            "Epoch 194: saving model to model/keypoint_classifier\\keypoint_classifier_SingleHand.hdf5\n",
            "2/2 [==============================] - 0s 59ms/step - loss: 0.0393 - accuracy: 0.9924 - val_loss: 0.0032 - val_accuracy: 1.0000\n",
            "Epoch 195/1000\n",
            "1/2 [==============>...............] - ETA: 0s - loss: 0.0621 - accuracy: 0.9844\n",
            "Epoch 195: saving model to model/keypoint_classifier\\keypoint_classifier_SingleHand.hdf5\n",
            "2/2 [==============================] - 0s 74ms/step - loss: 0.0604 - accuracy: 0.9848 - val_loss: 0.0031 - val_accuracy: 1.0000\n",
            "Epoch 196/1000\n",
            "1/2 [==============>...............] - ETA: 0s - loss: 0.0184 - accuracy: 1.0000\n",
            "Epoch 196: saving model to model/keypoint_classifier\\keypoint_classifier_SingleHand.hdf5\n",
            "2/2 [==============================] - 0s 75ms/step - loss: 0.0273 - accuracy: 0.9924 - val_loss: 0.0032 - val_accuracy: 1.0000\n",
            "Epoch 197/1000\n",
            "1/2 [==============>...............] - ETA: 0s - loss: 0.0529 - accuracy: 0.9922\n",
            "Epoch 197: saving model to model/keypoint_classifier\\keypoint_classifier_SingleHand.hdf5\n",
            "2/2 [==============================] - 0s 73ms/step - loss: 0.0515 - accuracy: 0.9924 - val_loss: 0.0034 - val_accuracy: 1.0000\n",
            "Epoch 198/1000\n",
            "1/2 [==============>...............] - ETA: 0s - loss: 0.0386 - accuracy: 0.9844\n",
            "Epoch 198: saving model to model/keypoint_classifier\\keypoint_classifier_SingleHand.hdf5\n",
            "2/2 [==============================] - 0s 82ms/step - loss: 0.0375 - accuracy: 0.9848 - val_loss: 0.0036 - val_accuracy: 1.0000\n",
            "Epoch 199/1000\n",
            "1/2 [==============>...............] - ETA: 0s - loss: 0.0417 - accuracy: 0.9844\n",
            "Epoch 199: saving model to model/keypoint_classifier\\keypoint_classifier_SingleHand.hdf5\n",
            "2/2 [==============================] - 0s 72ms/step - loss: 0.0590 - accuracy: 0.9773 - val_loss: 0.0042 - val_accuracy: 1.0000\n",
            "Epoch 200/1000\n",
            "1/2 [==============>...............] - ETA: 0s - loss: 0.0404 - accuracy: 0.9844\n",
            "Epoch 200: saving model to model/keypoint_classifier\\keypoint_classifier_SingleHand.hdf5\n",
            "2/2 [==============================] - 0s 91ms/step - loss: 0.0470 - accuracy: 0.9773 - val_loss: 0.0054 - val_accuracy: 1.0000\n",
            "Epoch 201/1000\n",
            "1/2 [==============>...............] - ETA: 0s - loss: 0.0525 - accuracy: 0.9766\n",
            "Epoch 201: saving model to model/keypoint_classifier\\keypoint_classifier_SingleHand.hdf5\n",
            "2/2 [==============================] - 0s 67ms/step - loss: 0.0522 - accuracy: 0.9773 - val_loss: 0.0070 - val_accuracy: 1.0000\n",
            "Epoch 202/1000\n",
            "1/2 [==============>...............] - ETA: 0s - loss: 0.0965 - accuracy: 0.9922\n",
            "Epoch 202: saving model to model/keypoint_classifier\\keypoint_classifier_SingleHand.hdf5\n",
            "2/2 [==============================] - 0s 58ms/step - loss: 0.0954 - accuracy: 0.9924 - val_loss: 0.0088 - val_accuracy: 1.0000\n",
            "Epoch 203/1000\n",
            "1/2 [==============>...............] - ETA: 0s - loss: 0.0312 - accuracy: 0.9922\n",
            "Epoch 203: saving model to model/keypoint_classifier\\keypoint_classifier_SingleHand.hdf5\n",
            "2/2 [==============================] - 0s 57ms/step - loss: 0.0303 - accuracy: 0.9924 - val_loss: 0.0106 - val_accuracy: 1.0000\n",
            "Epoch 204/1000\n",
            "1/2 [==============>...............] - ETA: 0s - loss: 0.0805 - accuracy: 0.9531\n",
            "Epoch 204: saving model to model/keypoint_classifier\\keypoint_classifier_SingleHand.hdf5\n",
            "2/2 [==============================] - 0s 60ms/step - loss: 0.0783 - accuracy: 0.9545 - val_loss: 0.0120 - val_accuracy: 1.0000\n",
            "Epoch 205/1000\n",
            "1/2 [==============>...............] - ETA: 0s - loss: 0.0566 - accuracy: 0.9766\n",
            "Epoch 205: saving model to model/keypoint_classifier\\keypoint_classifier_SingleHand.hdf5\n",
            "2/2 [==============================] - 0s 86ms/step - loss: 0.0554 - accuracy: 0.9773 - val_loss: 0.0131 - val_accuracy: 1.0000\n",
            "Epoch 206/1000\n",
            "1/2 [==============>...............] - ETA: 0s - loss: 0.0537 - accuracy: 0.9766\n",
            "Epoch 206: saving model to model/keypoint_classifier\\keypoint_classifier_SingleHand.hdf5\n",
            "2/2 [==============================] - 0s 84ms/step - loss: 0.0540 - accuracy: 0.9773 - val_loss: 0.0134 - val_accuracy: 1.0000\n",
            "Epoch 207/1000\n",
            "1/2 [==============>...............] - ETA: 0s - loss: 0.0515 - accuracy: 0.9766\n",
            "Epoch 207: saving model to model/keypoint_classifier\\keypoint_classifier_SingleHand.hdf5\n",
            "2/2 [==============================] - 0s 75ms/step - loss: 0.0500 - accuracy: 0.9773 - val_loss: 0.0127 - val_accuracy: 1.0000\n",
            "Epoch 208/1000\n",
            "1/2 [==============>...............] - ETA: 0s - loss: 0.0493 - accuracy: 0.9688\n",
            "Epoch 208: saving model to model/keypoint_classifier\\keypoint_classifier_SingleHand.hdf5\n",
            "2/2 [==============================] - 0s 63ms/step - loss: 0.0481 - accuracy: 0.9697 - val_loss: 0.0119 - val_accuracy: 1.0000\n",
            "Epoch 209/1000\n",
            "1/2 [==============>...............] - ETA: 0s - loss: 0.0377 - accuracy: 0.9922\n",
            "Epoch 209: saving model to model/keypoint_classifier\\keypoint_classifier_SingleHand.hdf5\n",
            "2/2 [==============================] - 0s 67ms/step - loss: 0.0368 - accuracy: 0.9924 - val_loss: 0.0112 - val_accuracy: 1.0000\n",
            "Epoch 210/1000\n",
            "1/2 [==============>...............] - ETA: 0s - loss: 0.0734 - accuracy: 0.9609\n",
            "Epoch 210: saving model to model/keypoint_classifier\\keypoint_classifier_SingleHand.hdf5\n",
            "2/2 [==============================] - 0s 57ms/step - loss: 0.0923 - accuracy: 0.9545 - val_loss: 0.0095 - val_accuracy: 1.0000\n",
            "Epoch 211/1000\n",
            "1/2 [==============>...............] - ETA: 0s - loss: 0.0434 - accuracy: 0.9766\n",
            "Epoch 211: saving model to model/keypoint_classifier\\keypoint_classifier_SingleHand.hdf5\n",
            "2/2 [==============================] - 0s 78ms/step - loss: 0.0422 - accuracy: 0.9773 - val_loss: 0.0075 - val_accuracy: 1.0000\n",
            "Epoch 212/1000\n",
            "1/2 [==============>...............] - ETA: 0s - loss: 0.0323 - accuracy: 1.0000\n",
            "Epoch 212: saving model to model/keypoint_classifier\\keypoint_classifier_SingleHand.hdf5\n",
            "2/2 [==============================] - 0s 59ms/step - loss: 0.0340 - accuracy: 1.0000 - val_loss: 0.0060 - val_accuracy: 1.0000\n",
            "Epoch 213/1000\n",
            "1/2 [==============>...............] - ETA: 0s - loss: 0.0482 - accuracy: 0.9766\n",
            "Epoch 213: saving model to model/keypoint_classifier\\keypoint_classifier_SingleHand.hdf5\n",
            "2/2 [==============================] - 0s 58ms/step - loss: 0.0470 - accuracy: 0.9773 - val_loss: 0.0049 - val_accuracy: 1.0000\n",
            "Epoch 214/1000\n",
            "1/2 [==============>...............] - ETA: 0s - loss: 0.0264 - accuracy: 1.0000\n",
            "Epoch 214: saving model to model/keypoint_classifier\\keypoint_classifier_SingleHand.hdf5\n",
            "2/2 [==============================] - 0s 63ms/step - loss: 0.0257 - accuracy: 1.0000 - val_loss: 0.0042 - val_accuracy: 1.0000\n",
            "Epoch 215/1000\n",
            "1/2 [==============>...............] - ETA: 0s - loss: 0.0454 - accuracy: 0.9766\n",
            "Epoch 215: saving model to model/keypoint_classifier\\keypoint_classifier_SingleHand.hdf5\n",
            "2/2 [==============================] - 0s 60ms/step - loss: 0.0442 - accuracy: 0.9773 - val_loss: 0.0037 - val_accuracy: 1.0000\n",
            "Epoch 215: early stopping\n"
          ]
        },
        {
          "data": {
            "text/plain": [
              "<keras.callbacks.History at 0x21c11b1d2d0>"
            ]
          },
          "execution_count": 182,
          "metadata": {},
          "output_type": "execute_result"
        }
      ],
      "source": [
        "model.fit(\n",
        "    X_train,\n",
        "    y_train,\n",
        "    epochs=1000,\n",
        "    batch_size=128,\n",
        "    validation_data=(X_test, y_test),\n",
        "    callbacks=[cp_callback, es_callback]\n",
        ")"
      ]
    },
    {
      "cell_type": "code",
      "execution_count": 183,
      "metadata": {
        "colab": {
          "base_uri": "https://localhost:8080/"
        },
        "id": "pxvb2Y299hE3",
        "outputId": "59eb3185-2e37-4b9e-bc9d-ab1b8ac29b7f"
      },
      "outputs": [
        {
          "name": "stdout",
          "output_type": "stream",
          "text": [
            "1/1 [==============================] - 0s 25ms/step - loss: 0.0037 - accuracy: 1.0000\n"
          ]
        }
      ],
      "source": [
        "# Model evaluation\n",
        "val_loss, val_acc = model.evaluate(X_test, y_test, batch_size=128)"
      ]
    },
    {
      "cell_type": "code",
      "execution_count": 184,
      "metadata": {
        "id": "RBkmDeUW9hE4"
      },
      "outputs": [],
      "source": [
        "# Loading the saved model\n",
        "model = tf.keras.models.load_model(model_save_path)"
      ]
    },
    {
      "cell_type": "code",
      "execution_count": 185,
      "metadata": {
        "colab": {
          "base_uri": "https://localhost:8080/"
        },
        "id": "tFz9Tb0I9hE4",
        "outputId": "1c3b3528-54ae-4ee2-ab04-77429211cbef"
      },
      "outputs": [
        {
          "name": "stdout",
          "output_type": "stream",
          "text": [
            "1/1 [==============================] - 0s 84ms/step\n",
            "[9.9974507e-01 2.5494467e-04]\n",
            "0\n"
          ]
        }
      ],
      "source": [
        "# Inference test\n",
        "predict_result = model.predict(np.array([X_test[0]]))\n",
        "print(np.squeeze(predict_result))\n",
        "print(np.argmax(np.squeeze(predict_result)))"
      ]
    },
    {
      "cell_type": "markdown",
      "metadata": {
        "id": "S3U4yNWx9hE4"
      },
      "source": [
        "# Confusion matrix"
      ]
    },
    {
      "cell_type": "code",
      "execution_count": 186,
      "metadata": {
        "colab": {
          "base_uri": "https://localhost:8080/",
          "height": 582
        },
        "id": "AP1V6SCk9hE5",
        "outputId": "08e41a80-7a4a-4619-8125-ecc371368d19"
      },
      "outputs": [
        {
          "name": "stdout",
          "output_type": "stream",
          "text": [
            "2/2 [==============================] - 0s 2ms/step\n"
          ]
        },
        {
          "data": {
            "image/png": "[encoded data removed]",
            "text/plain": [
              "<Figure size 700x600 with 2 Axes>"
            ]
          },
          "metadata": {},
          "output_type": "display_data"
        },
        {
          "name": "stdout",
          "output_type": "stream",
          "text": [
            "Classification Report\n",
            "              precision    recall  f1-score   support\n",
            "\n",
            "           0       1.00      1.00      1.00        24\n",
            "           1       1.00      1.00      1.00        20\n",
            "\n",
            "    accuracy                           1.00        44\n",
            "   macro avg       1.00      1.00      1.00        44\n",
            "weighted avg       1.00      1.00      1.00        44\n",
            "\n"
          ]
        }
      ],
      "source": [
        "import pandas as pd\n",
        "import seaborn as sns\n",
        "import matplotlib.pyplot as plt\n",
        "from sklearn.metrics import confusion_matrix, classification_report\n",
        "\n",
        "def print_confusion_matrix(y_true, y_pred, report=True):\n",
        "    labels = sorted(list(set(y_true)))\n",
        "    cmx_data = confusion_matrix(y_true, y_pred, labels=labels)\n",
        "    \n",
        "    df_cmx = pd.DataFrame(cmx_data, index=labels, columns=labels)\n",
        " \n",
        "    fig, ax = plt.subplots(figsize=(7, 6))\n",
        "    sns.heatmap(df_cmx, annot=True, fmt='g' ,square=False)\n",
        "    ax.set_ylim(len(set(y_true)), 0)\n",
        "    plt.show()\n",
        "    \n",
        "    if report:\n",
        "        print('Classification Report')\n",
        "        print(classification_report(y_test, y_pred))\n",
        "\n",
        "Y_pred = model.predict(X_test)\n",
        "y_pred = np.argmax(Y_pred, axis=1)\n",
        "\n",
        "print_confusion_matrix(y_test, y_pred)"
      ]
    },
    {
      "cell_type": "markdown",
      "metadata": {
        "id": "FNP6aqzc9hE5"
      },
      "source": [
        "# Convert to model for Tensorflow-Lite"
      ]
    },
    {
      "cell_type": "code",
      "execution_count": 187,
      "metadata": {
        "id": "ODjnYyld9hE6"
      },
      "outputs": [],
      "source": [
        "# Save as a model dedicated to inference\n",
        "model.save(model_save_path, include_optimizer=False)"
      ]
    },
    {
      "cell_type": "code",
      "execution_count": 188,
      "metadata": {
        "colab": {
          "base_uri": "https://localhost:8080/"
        },
        "id": "zRfuK8Y59hE6",
        "outputId": "a4ca585c-b5d5-4244-8291-8674063209bb"
      },
      "outputs": [
        {
          "name": "stderr",
          "output_type": "stream",
          "text": [
            "WARNING:absl:Found untraced functions such as _update_step_xla while saving (showing 1 of 1). These functions will not be directly callable after loading.\n"
          ]
        },
        {
          "name": "stdout",
          "output_type": "stream",
          "text": [
            "INFO:tensorflow:Assets written to: C:\\Users\\jonas\\AppData\\Local\\Temp\\tmp96abwxkp\\assets\n"
          ]
        },
        {
          "name": "stderr",
          "output_type": "stream",
          "text": [
            "INFO:tensorflow:Assets written to: C:\\Users\\jonas\\AppData\\Local\\Temp\\tmp96abwxkp\\assets\n"
          ]
        },
        {
          "data": {
            "text/plain": [
              "7544"
            ]
          },
          "execution_count": 188,
          "metadata": {},
          "output_type": "execute_result"
        }
      ],
      "source": [
        "# Transform model (quantization)\n",
        "\n",
        "converter = tf.lite.TFLiteConverter.from_keras_model(model)\n",
        "converter.optimizations = [tf.lite.Optimize.DEFAULT]\n",
        "tflite_quantized_model = converter.convert()\n",
        "\n",
        "open(tflite_save_path, 'wb').write(tflite_quantized_model)"
      ]
    },
    {
      "cell_type": "markdown",
      "metadata": {
        "id": "CHBPBXdx9hE6"
      },
      "source": [
        "# Inference test"
      ]
    },
    {
      "cell_type": "code",
      "execution_count": 189,
      "metadata": {
        "id": "mGAzLocO9hE7"
      },
      "outputs": [],
      "source": [
        "interpreter = tf.lite.Interpreter(model_path=tflite_save_path)\n",
        "interpreter.allocate_tensors()"
      ]
    },
    {
      "cell_type": "code",
      "execution_count": 190,
      "metadata": {
        "id": "oQuDK8YS9hE7"
      },
      "outputs": [],
      "source": [
        "# Get I / O tensor\n",
        "input_details = interpreter.get_input_details()\n",
        "output_details = interpreter.get_output_details()"
      ]
    },
    {
      "cell_type": "code",
      "execution_count": 191,
      "metadata": {
        "id": "2_ixAf_l9hE7"
      },
      "outputs": [],
      "source": [
        "interpreter.set_tensor(input_details[0]['index'], np.array([X_test[0]]))"
      ]
    },
    {
      "cell_type": "code",
      "execution_count": 192,
      "metadata": {
        "colab": {
          "base_uri": "https://localhost:8080/"
        },
        "id": "s4FoAnuc9hE7",
        "outputId": "91f18257-8d8b-4ef3-c558-e9b5f94fabbf",
        "scrolled": true
      },
      "outputs": [
        {
          "name": "stdout",
          "output_type": "stream",
          "text": [
            "CPU times: total: 0 ns\n",
            "Wall time: 0 ns\n"
          ]
        }
      ],
      "source": [
        "%%time\n",
        "# Inference implementation\n",
        "interpreter.invoke()\n",
        "tflite_results = interpreter.get_tensor(output_details[0]['index'])"
      ]
    },
    {
      "cell_type": "code",
      "execution_count": 193,
      "metadata": {
        "colab": {
          "base_uri": "https://localhost:8080/"
        },
        "id": "vONjp19J9hE8",
        "outputId": "77205e24-fd00-42c4-f7b6-e06e527c2cba"
      },
      "outputs": [
        {
          "name": "stdout",
          "output_type": "stream",
          "text": [
            "[9.997404e-01 2.595848e-04]\n",
            "0\n"
          ]
        }
      ],
      "source": [
        "print(np.squeeze(tflite_results))\n",
        "print(np.argmax(np.squeeze(tflite_results)))"
      ]
    }
  ],
  "metadata": {
    "accelerator": "GPU",
    "colab": {
      "collapsed_sections": [],
      "name": "keypoint_classification_EN.ipynb",
      "provenance": [],
      "toc_visible": true
    },
    "kernelspec": {
      "display_name": "Python 3",
      "language": "python",
      "name": "python3"
    },
    "language_info": {
      "codemirror_mode": {
        "name": "ipython",
        "version": 3
      },
      "file_extension": ".py",
      "mimetype": "text/x-python",
      "name": "python",
      "nbconvert_exporter": "python",
      "pygments_lexer": "ipython3",
      "version": "3.10.7"
    },
    "vscode": {
      "interpreter": {
        "hash": "683e9bbf599fde3b00e37a0db68ad40a268db525b46af3924c3427b16ddb8792"
      }
    }
  },
  "nbformat": 4,
  "nbformat_minor": 0
}
