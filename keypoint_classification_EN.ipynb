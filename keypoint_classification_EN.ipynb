{
  "cells": [
    {
      "cell_type": "code",
      "execution_count": 545,
      "metadata": {
        "id": "igMyGnjE9hEp"
      },
      "outputs": [],
      "source": [
        "import csv\n",
        "\n",
        "import numpy as np\n",
        "import tensorflow as tf\n",
        "from sklearn.model_selection import train_test_split\n",
        "\n",
        "RANDOM_SEED = 42"
      ]
    },
    {
      "cell_type": "markdown",
      "metadata": {
        "id": "t2HDvhIu9hEr"
      },
      "source": [
        "# Specify each path"
      ]
    },
    {
      "cell_type": "code",
      "execution_count": 546,
      "metadata": {
        "id": "9NvZP2Zn9hEy"
      },
      "outputs": [],
      "source": [
        "dataset = 'model/keypoint_classifier/keypoint.csv'\n",
        "model_save_path = 'model/keypoint_classifier/keypoint_classifier.hdf5'\n",
        "tflite_save_path = 'model/keypoint_classifier/keypoint_classifier.tflite'"
      ]
    },
    {
      "cell_type": "markdown",
      "metadata": {
        "id": "s5oMH7x19hEz"
      },
      "source": [
        "# Set number of classes"
      ]
    },
    {
      "cell_type": "code",
      "execution_count": 547,
      "metadata": {
        "id": "du4kodXL9hEz"
      },
      "outputs": [],
      "source": [
        "NUM_CLASSES = 25"
      ]
    },
    {
      "cell_type": "markdown",
      "metadata": {
        "id": "XjnL0uso9hEz"
      },
      "source": [
        "# Dataset reading"
      ]
    },
    {
      "cell_type": "code",
      "execution_count": 548,
      "metadata": {
        "id": "QT5ZqtEz9hE0"
      },
      "outputs": [],
      "source": [
        "X_dataset = np.loadtxt(dataset, delimiter=',', dtype='float32', usecols=list(range(1, (21 * 2*2) + 1)))"
      ]
    },
    {
      "cell_type": "code",
      "execution_count": 549,
      "metadata": {
        "id": "QmoKFsp49hE0"
      },
      "outputs": [],
      "source": [
        "y_dataset = np.loadtxt(dataset, delimiter=',', dtype='int32', usecols=(0))"
      ]
    },
    {
      "cell_type": "code",
      "execution_count": 550,
      "metadata": {
        "id": "xQU7JTZ_9hE0"
      },
      "outputs": [],
      "source": [
        "X_train, X_test, y_train, y_test = train_test_split(X_dataset, y_dataset, train_size=0.75, random_state=RANDOM_SEED)"
      ]
    },
    {
      "cell_type": "markdown",
      "metadata": {
        "id": "mxK_lETT9hE0"
      },
      "source": [
        "# Model building"
      ]
    },
    {
      "cell_type": "code",
      "execution_count": 551,
      "metadata": {
        "id": "vHBmUf1t9hE1"
      },
      "outputs": [],
      "source": [
        "model = tf.keras.models.Sequential([\n",
        "    tf.keras.layers.Input((21 * 2*2, )),\n",
        "    tf.keras.layers.Dropout(0.2),\n",
        "    tf.keras.layers.Dense(30, activation='relu'),\n",
        "    tf.keras.layers.Dropout(0.4),\n",
        "    tf.keras.layers.Dense(20, activation='relu'),\n",
        "    tf.keras.layers.Dense(NUM_CLASSES, activation='softmax')\n",
        "])"
      ]
    },
    {
      "cell_type": "code",
      "execution_count": 552,
      "metadata": {
        "colab": {
          "base_uri": "https://localhost:8080/"
        },
        "id": "ypqky9tc9hE1",
        "outputId": "5db082bb-30e3-4110-bf63-a1ee777ecd46"
      },
      "outputs": [
        {
          "name": "stdout",
          "output_type": "stream",
          "text": [
            "Model: \"sequential_27\"\n",
            "_________________________________________________________________\n",
            " Layer (type)                Output Shape              Param #   \n",
            "=================================================================\n",
            " dropout_54 (Dropout)        (None, 84)                0         \n",
            "                                                                 \n",
            " dense_81 (Dense)            (None, 30)                2550      \n",
            "                                                                 \n",
            " dropout_55 (Dropout)        (None, 30)                0         \n",
            "                                                                 \n",
            " dense_82 (Dense)            (None, 20)                620       \n",
            "                                                                 \n",
            " dense_83 (Dense)            (None, 25)                525       \n",
            "                                                                 \n",
            "=================================================================\n",
            "Total params: 3,695\n",
            "Trainable params: 3,695\n",
            "Non-trainable params: 0\n",
            "_________________________________________________________________\n"
          ]
        }
      ],
      "source": [
        "model.summary()  # tf.keras.utils.plot_model(model, show_shapes=True)"
      ]
    },
    {
      "cell_type": "code",
      "execution_count": 553,
      "metadata": {
        "id": "MbMjOflQ9hE1"
      },
      "outputs": [],
      "source": [
        "# Model checkpoint callback\n",
        "cp_callback = tf.keras.callbacks.ModelCheckpoint(\n",
        "    model_save_path, verbose=1, save_weights_only=False)\n",
        "# Callback for early stopping\n",
        "es_callback = tf.keras.callbacks.EarlyStopping(patience=20, verbose=1)"
      ]
    },
    {
      "cell_type": "code",
      "execution_count": 554,
      "metadata": {
        "id": "c3Dac0M_9hE2"
      },
      "outputs": [],
      "source": [
        "# Model compilation\n",
        "model.compile(\n",
        "    optimizer='adam',\n",
        "    #loss='mean_squared_error',\n",
        "    loss='sparse_categorical_crossentropy',\n",
        "    metrics=['accuracy']\n",
        ")"
      ]
    },
    {
      "cell_type": "markdown",
      "metadata": {
        "id": "7XI0j1Iu9hE2"
      },
      "source": [
        "# Model training"
      ]
    },
    {
      "cell_type": "code",
      "execution_count": 555,
      "metadata": {
        "colab": {
          "base_uri": "https://localhost:8080/"
        },
        "id": "WirBl-JE9hE3",
        "outputId": "71b30ca2-8294-4d9d-8aa2-800d90d399de",
        "scrolled": true
      },
      "outputs": [
        {
          "name": "stdout",
          "output_type": "stream",
          "text": [
            "Epoch 1/1000\n",
            "46/66 [===================>..........] - ETA: 0s - loss: 3.1910 - accuracy: 0.0760\n",
            "Epoch 1: saving model to model/keypoint_classifier\\keypoint_classifier.hdf5\n",
            "66/66 [==============================] - 1s 7ms/step - loss: 3.1282 - accuracy: 0.1013 - val_loss: 2.8289 - val_accuracy: 0.2140\n",
            "Epoch 2/1000\n",
            "59/66 [=========================>....] - ETA: 0s - loss: 2.6750 - accuracy: 0.2144\n",
            "Epoch 2: saving model to model/keypoint_classifier\\keypoint_classifier.hdf5\n",
            "66/66 [==============================] - 0s 4ms/step - loss: 2.6533 - accuracy: 0.2171 - val_loss: 2.1739 - val_accuracy: 0.3214\n",
            "Epoch 3/1000\n",
            "65/66 [============================>.] - ETA: 0s - loss: 2.1422 - accuracy: 0.3344\n",
            "Epoch 3: saving model to model/keypoint_classifier\\keypoint_classifier.hdf5\n",
            "66/66 [==============================] - 0s 4ms/step - loss: 2.1401 - accuracy: 0.3346 - val_loss: 1.5544 - val_accuracy: 0.5689\n",
            "Epoch 4/1000\n",
            "63/66 [===========================>..] - ETA: 0s - loss: 1.7449 - accuracy: 0.4327\n",
            "Epoch 4: saving model to model/keypoint_classifier\\keypoint_classifier.hdf5\n",
            "66/66 [==============================] - 0s 4ms/step - loss: 1.7347 - accuracy: 0.4359 - val_loss: 1.1150 - val_accuracy: 0.7197\n",
            "Epoch 5/1000\n",
            "48/66 [====================>.........] - ETA: 0s - loss: 1.4675 - accuracy: 0.5140\n",
            "Epoch 5: saving model to model/keypoint_classifier\\keypoint_classifier.hdf5\n",
            "66/66 [==============================] - 0s 3ms/step - loss: 1.4401 - accuracy: 0.5211 - val_loss: 0.8174 - val_accuracy: 0.8638\n",
            "Epoch 6/1000\n",
            "47/66 [====================>.........] - ETA: 0s - loss: 1.2609 - accuracy: 0.5772\n",
            "Epoch 6: saving model to model/keypoint_classifier\\keypoint_classifier.hdf5\n",
            "66/66 [==============================] - 0s 4ms/step - loss: 1.2402 - accuracy: 0.5817 - val_loss: 0.6260 - val_accuracy: 0.9229\n",
            "Epoch 7/1000\n",
            "62/66 [===========================>..] - ETA: 0s - loss: 1.1131 - accuracy: 0.6206\n",
            "Epoch 7: saving model to model/keypoint_classifier\\keypoint_classifier.hdf5\n",
            "66/66 [==============================] - 0s 4ms/step - loss: 1.1098 - accuracy: 0.6210 - val_loss: 0.5025 - val_accuracy: 0.9380\n",
            "Epoch 8/1000\n",
            "65/66 [============================>.] - ETA: 0s - loss: 0.9975 - accuracy: 0.6540\n",
            "Epoch 8: saving model to model/keypoint_classifier\\keypoint_classifier.hdf5\n",
            "66/66 [==============================] - 0s 4ms/step - loss: 0.9960 - accuracy: 0.6549 - val_loss: 0.4249 - val_accuracy: 0.9460\n",
            "Epoch 9/1000\n",
            "64/66 [============================>.] - ETA: 0s - loss: 0.9376 - accuracy: 0.6816\n",
            "Epoch 9: saving model to model/keypoint_classifier\\keypoint_classifier.hdf5\n",
            "66/66 [==============================] - 0s 4ms/step - loss: 0.9357 - accuracy: 0.6825 - val_loss: 0.3761 - val_accuracy: 0.9509\n",
            "Epoch 10/1000\n",
            "62/66 [===========================>..] - ETA: 0s - loss: 0.8709 - accuracy: 0.7040\n",
            "Epoch 10: saving model to model/keypoint_classifier\\keypoint_classifier.hdf5\n",
            "66/66 [==============================] - 0s 4ms/step - loss: 0.8690 - accuracy: 0.7038 - val_loss: 0.3195 - val_accuracy: 0.9594\n",
            "Epoch 11/1000\n",
            "43/66 [==================>...........] - ETA: 0s - loss: 0.8244 - accuracy: 0.7176\n",
            "Epoch 11: saving model to model/keypoint_classifier\\keypoint_classifier.hdf5\n",
            "66/66 [==============================] - 0s 3ms/step - loss: 0.8197 - accuracy: 0.7187 - val_loss: 0.2916 - val_accuracy: 0.9530\n",
            "Epoch 12/1000\n",
            "45/66 [===================>..........] - ETA: 0s - loss: 0.7923 - accuracy: 0.7255\n",
            "Epoch 12: saving model to model/keypoint_classifier\\keypoint_classifier.hdf5\n",
            "66/66 [==============================] - 0s 3ms/step - loss: 0.7930 - accuracy: 0.7226 - val_loss: 0.2647 - val_accuracy: 0.9699\n",
            "Epoch 13/1000\n",
            "46/66 [===================>..........] - ETA: 0s - loss: 0.7578 - accuracy: 0.7411\n",
            "Epoch 13: saving model to model/keypoint_classifier\\keypoint_classifier.hdf5\n",
            "66/66 [==============================] - 0s 3ms/step - loss: 0.7582 - accuracy: 0.7405 - val_loss: 0.2473 - val_accuracy: 0.9517\n",
            "Epoch 14/1000\n",
            "62/66 [===========================>..] - ETA: 0s - loss: 0.7264 - accuracy: 0.7487\n",
            "Epoch 14: saving model to model/keypoint_classifier\\keypoint_classifier.hdf5\n",
            "66/66 [==============================] - 0s 4ms/step - loss: 0.7240 - accuracy: 0.7494 - val_loss: 0.2194 - val_accuracy: 0.9519\n",
            "Epoch 15/1000\n",
            "63/66 [===========================>..] - ETA: 0s - loss: 0.7009 - accuracy: 0.7548\n",
            "Epoch 15: saving model to model/keypoint_classifier\\keypoint_classifier.hdf5\n",
            "66/66 [==============================] - 0s 3ms/step - loss: 0.6985 - accuracy: 0.7563 - val_loss: 0.2036 - val_accuracy: 0.9754\n",
            "Epoch 16/1000\n",
            "48/66 [====================>.........] - ETA: 0s - loss: 0.6983 - accuracy: 0.7551\n",
            "Epoch 16: saving model to model/keypoint_classifier\\keypoint_classifier.hdf5\n",
            "66/66 [==============================] - 0s 3ms/step - loss: 0.6902 - accuracy: 0.7601 - val_loss: 0.1916 - val_accuracy: 0.9681\n",
            "Epoch 17/1000\n",
            "46/66 [===================>..........] - ETA: 0s - loss: 0.6641 - accuracy: 0.7645\n",
            "Epoch 17: saving model to model/keypoint_classifier\\keypoint_classifier.hdf5\n",
            "66/66 [==============================] - 0s 3ms/step - loss: 0.6564 - accuracy: 0.7683 - val_loss: 0.1803 - val_accuracy: 0.9760\n",
            "Epoch 18/1000\n",
            "46/66 [===================>..........] - ETA: 0s - loss: 0.6512 - accuracy: 0.7756\n",
            "Epoch 18: saving model to model/keypoint_classifier\\keypoint_classifier.hdf5\n",
            "66/66 [==============================] - 0s 3ms/step - loss: 0.6450 - accuracy: 0.7776 - val_loss: 0.1686 - val_accuracy: 0.9797\n",
            "Epoch 19/1000\n",
            "60/66 [==========================>...] - ETA: 0s - loss: 0.6221 - accuracy: 0.7825\n",
            "Epoch 19: saving model to model/keypoint_classifier\\keypoint_classifier.hdf5\n",
            "66/66 [==============================] - 0s 4ms/step - loss: 0.6225 - accuracy: 0.7829 - val_loss: 0.1609 - val_accuracy: 0.9788\n",
            "Epoch 20/1000\n",
            "48/66 [====================>.........] - ETA: 0s - loss: 0.6181 - accuracy: 0.7819\n",
            "Epoch 20: saving model to model/keypoint_classifier\\keypoint_classifier.hdf5\n",
            "66/66 [==============================] - 0s 3ms/step - loss: 0.6150 - accuracy: 0.7851 - val_loss: 0.1537 - val_accuracy: 0.9763\n",
            "Epoch 21/1000\n",
            "56/66 [========================>.....] - ETA: 0s - loss: 0.6048 - accuracy: 0.7890\n",
            "Epoch 21: saving model to model/keypoint_classifier\\keypoint_classifier.hdf5\n",
            "66/66 [==============================] - 0s 4ms/step - loss: 0.6062 - accuracy: 0.7885 - val_loss: 0.1428 - val_accuracy: 0.9882\n",
            "Epoch 22/1000\n",
            "64/66 [============================>.] - ETA: 0s - loss: 0.5887 - accuracy: 0.7950\n",
            "Epoch 22: saving model to model/keypoint_classifier\\keypoint_classifier.hdf5\n",
            "66/66 [==============================] - 0s 4ms/step - loss: 0.5881 - accuracy: 0.7946 - val_loss: 0.1427 - val_accuracy: 0.9676\n",
            "Epoch 23/1000\n",
            "46/66 [===================>..........] - ETA: 0s - loss: 0.5690 - accuracy: 0.8034\n",
            "Epoch 23: saving model to model/keypoint_classifier\\keypoint_classifier.hdf5\n",
            "66/66 [==============================] - 0s 3ms/step - loss: 0.5710 - accuracy: 0.8018 - val_loss: 0.1316 - val_accuracy: 0.9804\n",
            "Epoch 24/1000\n",
            "47/66 [====================>.........] - ETA: 0s - loss: 0.5637 - accuracy: 0.8049\n",
            "Epoch 24: saving model to model/keypoint_classifier\\keypoint_classifier.hdf5\n",
            "66/66 [==============================] - 0s 3ms/step - loss: 0.5638 - accuracy: 0.8043 - val_loss: 0.1241 - val_accuracy: 0.9801\n",
            "Epoch 25/1000\n",
            "47/66 [====================>.........] - ETA: 0s - loss: 0.5577 - accuracy: 0.8074\n",
            "Epoch 25: saving model to model/keypoint_classifier\\keypoint_classifier.hdf5\n",
            "66/66 [==============================] - 0s 3ms/step - loss: 0.5509 - accuracy: 0.8092 - val_loss: 0.1159 - val_accuracy: 0.9843\n",
            "Epoch 26/1000\n",
            "46/66 [===================>..........] - ETA: 0s - loss: 0.5584 - accuracy: 0.8064\n",
            "Epoch 26: saving model to model/keypoint_classifier\\keypoint_classifier.hdf5\n",
            "66/66 [==============================] - 0s 4ms/step - loss: 0.5513 - accuracy: 0.8107 - val_loss: 0.1112 - val_accuracy: 0.9858\n",
            "Epoch 27/1000\n",
            "46/66 [===================>..........] - ETA: 0s - loss: 0.5380 - accuracy: 0.8140\n",
            "Epoch 27: saving model to model/keypoint_classifier\\keypoint_classifier.hdf5\n",
            "66/66 [==============================] - 0s 3ms/step - loss: 0.5365 - accuracy: 0.8150 - val_loss: 0.1084 - val_accuracy: 0.9975\n",
            "Epoch 28/1000\n",
            "47/66 [====================>.........] - ETA: 0s - loss: 0.5217 - accuracy: 0.8165\n",
            "Epoch 28: saving model to model/keypoint_classifier\\keypoint_classifier.hdf5\n",
            "66/66 [==============================] - 0s 4ms/step - loss: 0.5176 - accuracy: 0.8196 - val_loss: 0.1024 - val_accuracy: 0.9884\n",
            "Epoch 29/1000\n",
            "43/66 [==================>...........] - ETA: 0s - loss: 0.5099 - accuracy: 0.8250\n",
            "Epoch 29: saving model to model/keypoint_classifier\\keypoint_classifier.hdf5\n",
            "66/66 [==============================] - 0s 3ms/step - loss: 0.5126 - accuracy: 0.8231 - val_loss: 0.1023 - val_accuracy: 0.9938\n",
            "Epoch 30/1000\n",
            "47/66 [====================>.........] - ETA: 0s - loss: 0.5063 - accuracy: 0.8266\n",
            "Epoch 30: saving model to model/keypoint_classifier\\keypoint_classifier.hdf5\n",
            "66/66 [==============================] - 0s 3ms/step - loss: 0.5111 - accuracy: 0.8247 - val_loss: 0.0954 - val_accuracy: 0.9980\n",
            "Epoch 31/1000\n",
            "45/66 [===================>..........] - ETA: 0s - loss: 0.5054 - accuracy: 0.8250\n",
            "Epoch 31: saving model to model/keypoint_classifier\\keypoint_classifier.hdf5\n",
            "66/66 [==============================] - 0s 3ms/step - loss: 0.5046 - accuracy: 0.8251 - val_loss: 0.0936 - val_accuracy: 0.9991\n",
            "Epoch 32/1000\n",
            "59/66 [=========================>....] - ETA: 0s - loss: 0.4969 - accuracy: 0.8267\n",
            "Epoch 32: saving model to model/keypoint_classifier\\keypoint_classifier.hdf5\n",
            "66/66 [==============================] - 0s 4ms/step - loss: 0.4972 - accuracy: 0.8271 - val_loss: 0.0878 - val_accuracy: 0.9995\n",
            "Epoch 33/1000\n",
            "65/66 [============================>.] - ETA: 0s - loss: 0.5103 - accuracy: 0.8247\n",
            "Epoch 33: saving model to model/keypoint_classifier\\keypoint_classifier.hdf5\n",
            "66/66 [==============================] - 0s 4ms/step - loss: 0.5099 - accuracy: 0.8248 - val_loss: 0.0912 - val_accuracy: 0.9988\n",
            "Epoch 34/1000\n",
            "65/66 [============================>.] - ETA: 0s - loss: 0.4882 - accuracy: 0.8322\n",
            "Epoch 34: saving model to model/keypoint_classifier\\keypoint_classifier.hdf5\n",
            "66/66 [==============================] - 0s 4ms/step - loss: 0.4879 - accuracy: 0.8321 - val_loss: 0.0812 - val_accuracy: 0.9995\n",
            "Epoch 35/1000\n",
            "46/66 [===================>..........] - ETA: 0s - loss: 0.4853 - accuracy: 0.8328\n",
            "Epoch 35: saving model to model/keypoint_classifier\\keypoint_classifier.hdf5\n",
            "66/66 [==============================] - 0s 3ms/step - loss: 0.4832 - accuracy: 0.8333 - val_loss: 0.0818 - val_accuracy: 0.9995\n",
            "Epoch 36/1000\n",
            "46/66 [===================>..........] - ETA: 0s - loss: 0.4920 - accuracy: 0.8306\n",
            "Epoch 36: saving model to model/keypoint_classifier\\keypoint_classifier.hdf5\n",
            "66/66 [==============================] - 0s 4ms/step - loss: 0.4880 - accuracy: 0.8330 - val_loss: 0.0809 - val_accuracy: 0.9995\n",
            "Epoch 37/1000\n",
            "45/66 [===================>..........] - ETA: 0s - loss: 0.4809 - accuracy: 0.8327\n",
            "Epoch 37: saving model to model/keypoint_classifier\\keypoint_classifier.hdf5\n",
            "66/66 [==============================] - 0s 3ms/step - loss: 0.4777 - accuracy: 0.8355 - val_loss: 0.0767 - val_accuracy: 0.9995\n",
            "Epoch 38/1000\n",
            "61/66 [==========================>...] - ETA: 0s - loss: 0.4743 - accuracy: 0.8381\n",
            "Epoch 38: saving model to model/keypoint_classifier\\keypoint_classifier.hdf5\n",
            "66/66 [==============================] - 0s 4ms/step - loss: 0.4754 - accuracy: 0.8375 - val_loss: 0.0726 - val_accuracy: 0.9995\n",
            "Epoch 39/1000\n",
            "63/66 [===========================>..] - ETA: 0s - loss: 0.4668 - accuracy: 0.8380\n",
            "Epoch 39: saving model to model/keypoint_classifier\\keypoint_classifier.hdf5\n",
            "66/66 [==============================] - 0s 4ms/step - loss: 0.4668 - accuracy: 0.8382 - val_loss: 0.0726 - val_accuracy: 0.9998\n",
            "Epoch 40/1000\n",
            "46/66 [===================>..........] - ETA: 0s - loss: 0.4613 - accuracy: 0.8388\n",
            "Epoch 40: saving model to model/keypoint_classifier\\keypoint_classifier.hdf5\n",
            "66/66 [==============================] - 0s 3ms/step - loss: 0.4608 - accuracy: 0.8399 - val_loss: 0.0703 - val_accuracy: 0.9988\n",
            "Epoch 41/1000\n",
            "51/66 [======================>.......] - ETA: 0s - loss: 0.4599 - accuracy: 0.8399\n",
            "Epoch 41: saving model to model/keypoint_classifier\\keypoint_classifier.hdf5\n",
            "66/66 [==============================] - 0s 4ms/step - loss: 0.4608 - accuracy: 0.8403 - val_loss: 0.0690 - val_accuracy: 0.9996\n",
            "Epoch 42/1000\n",
            "45/66 [===================>..........] - ETA: 0s - loss: 0.4576 - accuracy: 0.8449\n",
            "Epoch 42: saving model to model/keypoint_classifier\\keypoint_classifier.hdf5\n",
            "66/66 [==============================] - 0s 4ms/step - loss: 0.4532 - accuracy: 0.8460 - val_loss: 0.0646 - val_accuracy: 0.9995\n",
            "Epoch 43/1000\n",
            "58/66 [=========================>....] - ETA: 0s - loss: 0.4686 - accuracy: 0.8404\n",
            "Epoch 43: saving model to model/keypoint_classifier\\keypoint_classifier.hdf5\n",
            "66/66 [==============================] - 0s 4ms/step - loss: 0.4705 - accuracy: 0.8395 - val_loss: 0.0711 - val_accuracy: 0.9996\n",
            "Epoch 44/1000\n",
            "45/66 [===================>..........] - ETA: 0s - loss: 0.4492 - accuracy: 0.8487\n",
            "Epoch 44: saving model to model/keypoint_classifier\\keypoint_classifier.hdf5\n",
            "66/66 [==============================] - 0s 3ms/step - loss: 0.4487 - accuracy: 0.8480 - val_loss: 0.0680 - val_accuracy: 1.0000\n",
            "Epoch 45/1000\n",
            "65/66 [============================>.] - ETA: 0s - loss: 0.4442 - accuracy: 0.8458\n",
            "Epoch 45: saving model to model/keypoint_classifier\\keypoint_classifier.hdf5\n",
            "66/66 [==============================] - 0s 4ms/step - loss: 0.4441 - accuracy: 0.8459 - val_loss: 0.0649 - val_accuracy: 0.9995\n",
            "Epoch 46/1000\n",
            "66/66 [==============================] - ETA: 0s - loss: 0.4515 - accuracy: 0.8439\n",
            "Epoch 46: saving model to model/keypoint_classifier\\keypoint_classifier.hdf5\n",
            "66/66 [==============================] - 0s 4ms/step - loss: 0.4515 - accuracy: 0.8439 - val_loss: 0.0632 - val_accuracy: 1.0000\n",
            "Epoch 47/1000\n",
            "63/66 [===========================>..] - ETA: 0s - loss: 0.4352 - accuracy: 0.8517\n",
            "Epoch 47: saving model to model/keypoint_classifier\\keypoint_classifier.hdf5\n",
            "66/66 [==============================] - 0s 4ms/step - loss: 0.4319 - accuracy: 0.8529 - val_loss: 0.0593 - val_accuracy: 0.9995\n",
            "Epoch 48/1000\n",
            "45/66 [===================>..........] - ETA: 0s - loss: 0.4204 - accuracy: 0.8557\n",
            "Epoch 48: saving model to model/keypoint_classifier\\keypoint_classifier.hdf5\n",
            "66/66 [==============================] - 0s 3ms/step - loss: 0.4242 - accuracy: 0.8563 - val_loss: 0.0605 - val_accuracy: 0.9995\n",
            "Epoch 49/1000\n",
            "44/66 [===================>..........] - ETA: 0s - loss: 0.4331 - accuracy: 0.8535\n",
            "Epoch 49: saving model to model/keypoint_classifier\\keypoint_classifier.hdf5\n",
            "66/66 [==============================] - 0s 3ms/step - loss: 0.4364 - accuracy: 0.8520 - val_loss: 0.0599 - val_accuracy: 0.9998\n",
            "Epoch 50/1000\n",
            "49/66 [=====================>........] - ETA: 0s - loss: 0.4230 - accuracy: 0.8557\n",
            "Epoch 50: saving model to model/keypoint_classifier\\keypoint_classifier.hdf5\n",
            "66/66 [==============================] - 0s 3ms/step - loss: 0.4294 - accuracy: 0.8545 - val_loss: 0.0597 - val_accuracy: 0.9998\n",
            "Epoch 51/1000\n",
            "58/66 [=========================>....] - ETA: 0s - loss: 0.4255 - accuracy: 0.8541\n",
            "Epoch 51: saving model to model/keypoint_classifier\\keypoint_classifier.hdf5\n",
            "66/66 [==============================] - 0s 4ms/step - loss: 0.4259 - accuracy: 0.8536 - val_loss: 0.0568 - val_accuracy: 0.9996\n",
            "Epoch 52/1000\n",
            "59/66 [=========================>....] - ETA: 0s - loss: 0.4259 - accuracy: 0.8538\n",
            "Epoch 52: saving model to model/keypoint_classifier\\keypoint_classifier.hdf5\n",
            "66/66 [==============================] - 0s 4ms/step - loss: 0.4261 - accuracy: 0.8533 - val_loss: 0.0547 - val_accuracy: 1.0000\n",
            "Epoch 53/1000\n",
            "47/66 [====================>.........] - ETA: 0s - loss: 0.4139 - accuracy: 0.8566\n",
            "Epoch 53: saving model to model/keypoint_classifier\\keypoint_classifier.hdf5\n",
            "66/66 [==============================] - 0s 3ms/step - loss: 0.4183 - accuracy: 0.8553 - val_loss: 0.0566 - val_accuracy: 1.0000\n",
            "Epoch 54/1000\n",
            "45/66 [===================>..........] - ETA: 0s - loss: 0.4210 - accuracy: 0.8573\n",
            "Epoch 54: saving model to model/keypoint_classifier\\keypoint_classifier.hdf5\n",
            "66/66 [==============================] - 0s 3ms/step - loss: 0.4115 - accuracy: 0.8598 - val_loss: 0.0497 - val_accuracy: 1.0000\n",
            "Epoch 55/1000\n",
            "48/66 [====================>.........] - ETA: 0s - loss: 0.4037 - accuracy: 0.8610\n",
            "Epoch 55: saving model to model/keypoint_classifier\\keypoint_classifier.hdf5\n",
            "66/66 [==============================] - 0s 3ms/step - loss: 0.4017 - accuracy: 0.8616 - val_loss: 0.0537 - val_accuracy: 1.0000\n",
            "Epoch 56/1000\n",
            "59/66 [=========================>....] - ETA: 0s - loss: 0.4130 - accuracy: 0.8602\n",
            "Epoch 56: saving model to model/keypoint_classifier\\keypoint_classifier.hdf5\n",
            "66/66 [==============================] - 0s 4ms/step - loss: 0.4131 - accuracy: 0.8593 - val_loss: 0.0504 - val_accuracy: 1.0000\n",
            "Epoch 57/1000\n",
            "62/66 [===========================>..] - ETA: 0s - loss: 0.4110 - accuracy: 0.8591\n",
            "Epoch 57: saving model to model/keypoint_classifier\\keypoint_classifier.hdf5\n",
            "66/66 [==============================] - 0s 4ms/step - loss: 0.4094 - accuracy: 0.8596 - val_loss: 0.0472 - val_accuracy: 0.9996\n",
            "Epoch 58/1000\n",
            "46/66 [===================>..........] - ETA: 0s - loss: 0.4018 - accuracy: 0.8573\n",
            "Epoch 58: saving model to model/keypoint_classifier\\keypoint_classifier.hdf5\n",
            "66/66 [==============================] - 0s 3ms/step - loss: 0.4031 - accuracy: 0.8584 - val_loss: 0.0493 - val_accuracy: 0.9995\n",
            "Epoch 59/1000\n",
            "45/66 [===================>..........] - ETA: 0s - loss: 0.4017 - accuracy: 0.8607\n",
            "Epoch 59: saving model to model/keypoint_classifier\\keypoint_classifier.hdf5\n",
            "66/66 [==============================] - 0s 4ms/step - loss: 0.4038 - accuracy: 0.8577 - val_loss: 0.0474 - val_accuracy: 1.0000\n",
            "Epoch 60/1000\n",
            "57/66 [========================>.....] - ETA: 0s - loss: 0.4009 - accuracy: 0.8636\n",
            "Epoch 60: saving model to model/keypoint_classifier\\keypoint_classifier.hdf5\n",
            "66/66 [==============================] - 0s 4ms/step - loss: 0.3998 - accuracy: 0.8645 - val_loss: 0.0492 - val_accuracy: 1.0000\n",
            "Epoch 61/1000\n",
            "57/66 [========================>.....] - ETA: 0s - loss: 0.4064 - accuracy: 0.8602\n",
            "Epoch 61: saving model to model/keypoint_classifier\\keypoint_classifier.hdf5\n",
            "66/66 [==============================] - 0s 4ms/step - loss: 0.4028 - accuracy: 0.8609 - val_loss: 0.0481 - val_accuracy: 1.0000\n",
            "Epoch 62/1000\n",
            "63/66 [===========================>..] - ETA: 0s - loss: 0.4026 - accuracy: 0.8647\n",
            "Epoch 62: saving model to model/keypoint_classifier\\keypoint_classifier.hdf5\n",
            "66/66 [==============================] - 0s 4ms/step - loss: 0.4040 - accuracy: 0.8636 - val_loss: 0.0456 - val_accuracy: 1.0000\n",
            "Epoch 63/1000\n",
            "47/66 [====================>.........] - ETA: 0s - loss: 0.4023 - accuracy: 0.8641\n",
            "Epoch 63: saving model to model/keypoint_classifier\\keypoint_classifier.hdf5\n",
            "66/66 [==============================] - 0s 3ms/step - loss: 0.4027 - accuracy: 0.8632 - val_loss: 0.0497 - val_accuracy: 1.0000\n",
            "Epoch 64/1000\n",
            "46/66 [===================>..........] - ETA: 0s - loss: 0.3969 - accuracy: 0.8646\n",
            "Epoch 64: saving model to model/keypoint_classifier\\keypoint_classifier.hdf5\n",
            "66/66 [==============================] - 0s 3ms/step - loss: 0.3951 - accuracy: 0.8648 - val_loss: 0.0487 - val_accuracy: 1.0000\n",
            "Epoch 65/1000\n",
            "55/66 [========================>.....] - ETA: 0s - loss: 0.3874 - accuracy: 0.8646\n",
            "Epoch 65: saving model to model/keypoint_classifier\\keypoint_classifier.hdf5\n",
            "66/66 [==============================] - 0s 4ms/step - loss: 0.3884 - accuracy: 0.8645 - val_loss: 0.0453 - val_accuracy: 1.0000\n",
            "Epoch 66/1000\n",
            "51/66 [======================>.......] - ETA: 0s - loss: 0.3864 - accuracy: 0.8677\n",
            "Epoch 66: saving model to model/keypoint_classifier\\keypoint_classifier.hdf5\n",
            "66/66 [==============================] - 0s 4ms/step - loss: 0.3853 - accuracy: 0.8683 - val_loss: 0.0439 - val_accuracy: 0.9995\n",
            "Epoch 67/1000\n",
            "64/66 [============================>.] - ETA: 0s - loss: 0.3942 - accuracy: 0.8691\n",
            "Epoch 67: saving model to model/keypoint_classifier\\keypoint_classifier.hdf5\n",
            "66/66 [==============================] - 0s 4ms/step - loss: 0.3948 - accuracy: 0.8690 - val_loss: 0.0438 - val_accuracy: 0.9995\n",
            "Epoch 68/1000\n",
            "50/66 [=====================>........] - ETA: 0s - loss: 0.3928 - accuracy: 0.8658\n",
            "Epoch 68: saving model to model/keypoint_classifier\\keypoint_classifier.hdf5\n",
            "66/66 [==============================] - 0s 3ms/step - loss: 0.3931 - accuracy: 0.8651 - val_loss: 0.0459 - val_accuracy: 0.9996\n",
            "Epoch 69/1000\n",
            "48/66 [====================>.........] - ETA: 0s - loss: 0.3882 - accuracy: 0.8643\n",
            "Epoch 69: saving model to model/keypoint_classifier\\keypoint_classifier.hdf5\n",
            "66/66 [==============================] - 0s 4ms/step - loss: 0.3813 - accuracy: 0.8686 - val_loss: 0.0414 - val_accuracy: 1.0000\n",
            "Epoch 70/1000\n",
            "51/66 [======================>.......] - ETA: 0s - loss: 0.3871 - accuracy: 0.8691\n",
            "Epoch 70: saving model to model/keypoint_classifier\\keypoint_classifier.hdf5\n",
            "66/66 [==============================] - 0s 4ms/step - loss: 0.3811 - accuracy: 0.8709 - val_loss: 0.0393 - val_accuracy: 0.9995\n",
            "Epoch 71/1000\n",
            "42/66 [==================>...........] - ETA: 0s - loss: 0.3786 - accuracy: 0.8710\n",
            "Epoch 71: saving model to model/keypoint_classifier\\keypoint_classifier.hdf5\n",
            "66/66 [==============================] - 0s 3ms/step - loss: 0.3768 - accuracy: 0.8725 - val_loss: 0.0427 - val_accuracy: 1.0000\n",
            "Epoch 72/1000\n",
            "45/66 [===================>..........] - ETA: 0s - loss: 0.3828 - accuracy: 0.8658\n",
            "Epoch 72: saving model to model/keypoint_classifier\\keypoint_classifier.hdf5\n",
            "66/66 [==============================] - 0s 4ms/step - loss: 0.3803 - accuracy: 0.8678 - val_loss: 0.0385 - val_accuracy: 1.0000\n",
            "Epoch 73/1000\n",
            "65/66 [============================>.] - ETA: 0s - loss: 0.3678 - accuracy: 0.8736\n",
            "Epoch 73: saving model to model/keypoint_classifier\\keypoint_classifier.hdf5\n",
            "66/66 [==============================] - 0s 4ms/step - loss: 0.3674 - accuracy: 0.8737 - val_loss: 0.0404 - val_accuracy: 1.0000\n",
            "Epoch 74/1000\n",
            "57/66 [========================>.....] - ETA: 0s - loss: 0.3787 - accuracy: 0.8727\n",
            "Epoch 74: saving model to model/keypoint_classifier\\keypoint_classifier.hdf5\n",
            "66/66 [==============================] - 0s 4ms/step - loss: 0.3755 - accuracy: 0.8734 - val_loss: 0.0351 - val_accuracy: 1.0000\n",
            "Epoch 75/1000\n",
            "59/66 [=========================>....] - ETA: 0s - loss: 0.3809 - accuracy: 0.8688\n",
            "Epoch 75: saving model to model/keypoint_classifier\\keypoint_classifier.hdf5\n",
            "66/66 [==============================] - 0s 4ms/step - loss: 0.3770 - accuracy: 0.8704 - val_loss: 0.0389 - val_accuracy: 1.0000\n",
            "Epoch 76/1000\n",
            "53/66 [=======================>......] - ETA: 0s - loss: 0.3706 - accuracy: 0.8732\n",
            "Epoch 76: saving model to model/keypoint_classifier\\keypoint_classifier.hdf5\n",
            "66/66 [==============================] - 0s 4ms/step - loss: 0.3722 - accuracy: 0.8716 - val_loss: 0.0385 - val_accuracy: 1.0000\n",
            "Epoch 77/1000\n",
            "53/66 [=======================>......] - ETA: 0s - loss: 0.3781 - accuracy: 0.8707\n",
            "Epoch 77: saving model to model/keypoint_classifier\\keypoint_classifier.hdf5\n",
            "66/66 [==============================] - 0s 4ms/step - loss: 0.3820 - accuracy: 0.8699 - val_loss: 0.0359 - val_accuracy: 1.0000\n",
            "Epoch 78/1000\n",
            "62/66 [===========================>..] - ETA: 0s - loss: 0.3672 - accuracy: 0.8740\n",
            "Epoch 78: saving model to model/keypoint_classifier\\keypoint_classifier.hdf5\n",
            "66/66 [==============================] - 0s 4ms/step - loss: 0.3687 - accuracy: 0.8731 - val_loss: 0.0399 - val_accuracy: 1.0000\n",
            "Epoch 79/1000\n",
            "61/66 [==========================>...] - ETA: 0s - loss: 0.3713 - accuracy: 0.8708\n",
            "Epoch 79: saving model to model/keypoint_classifier\\keypoint_classifier.hdf5\n",
            "66/66 [==============================] - 0s 5ms/step - loss: 0.3709 - accuracy: 0.8718 - val_loss: 0.0344 - val_accuracy: 1.0000\n",
            "Epoch 80/1000\n",
            "65/66 [============================>.] - ETA: 0s - loss: 0.3643 - accuracy: 0.8763\n",
            "Epoch 80: saving model to model/keypoint_classifier\\keypoint_classifier.hdf5\n",
            "66/66 [==============================] - 0s 5ms/step - loss: 0.3647 - accuracy: 0.8762 - val_loss: 0.0371 - val_accuracy: 1.0000\n",
            "Epoch 81/1000\n",
            "56/66 [========================>.....] - ETA: 0s - loss: 0.3650 - accuracy: 0.8767\n",
            "Epoch 81: saving model to model/keypoint_classifier\\keypoint_classifier.hdf5\n",
            "66/66 [==============================] - 0s 4ms/step - loss: 0.3658 - accuracy: 0.8759 - val_loss: 0.0352 - val_accuracy: 1.0000\n",
            "Epoch 82/1000\n",
            "66/66 [==============================] - ETA: 0s - loss: 0.3629 - accuracy: 0.8747\n",
            "Epoch 82: saving model to model/keypoint_classifier\\keypoint_classifier.hdf5\n",
            "66/66 [==============================] - 0s 4ms/step - loss: 0.3629 - accuracy: 0.8747 - val_loss: 0.0361 - val_accuracy: 1.0000\n",
            "Epoch 83/1000\n",
            "63/66 [===========================>..] - ETA: 0s - loss: 0.3672 - accuracy: 0.8712\n",
            "Epoch 83: saving model to model/keypoint_classifier\\keypoint_classifier.hdf5\n",
            "66/66 [==============================] - 0s 4ms/step - loss: 0.3666 - accuracy: 0.8721 - val_loss: 0.0341 - val_accuracy: 1.0000\n",
            "Epoch 84/1000\n",
            "49/66 [=====================>........] - ETA: 0s - loss: 0.3665 - accuracy: 0.8763\n",
            "Epoch 84: saving model to model/keypoint_classifier\\keypoint_classifier.hdf5\n",
            "66/66 [==============================] - 0s 4ms/step - loss: 0.3650 - accuracy: 0.8753 - val_loss: 0.0318 - val_accuracy: 1.0000\n",
            "Epoch 85/1000\n",
            "66/66 [==============================] - ETA: 0s - loss: 0.3621 - accuracy: 0.8770\n",
            "Epoch 85: saving model to model/keypoint_classifier\\keypoint_classifier.hdf5\n",
            "66/66 [==============================] - 0s 5ms/step - loss: 0.3621 - accuracy: 0.8770 - val_loss: 0.0333 - val_accuracy: 1.0000\n",
            "Epoch 86/1000\n",
            "65/66 [============================>.] - ETA: 0s - loss: 0.3603 - accuracy: 0.8771\n",
            "Epoch 86: saving model to model/keypoint_classifier\\keypoint_classifier.hdf5\n",
            "66/66 [==============================] - 0s 5ms/step - loss: 0.3605 - accuracy: 0.8770 - val_loss: 0.0371 - val_accuracy: 1.0000\n",
            "Epoch 87/1000\n",
            "55/66 [========================>.....] - ETA: 0s - loss: 0.3536 - accuracy: 0.8776\n",
            "Epoch 87: saving model to model/keypoint_classifier\\keypoint_classifier.hdf5\n",
            "66/66 [==============================] - 0s 5ms/step - loss: 0.3549 - accuracy: 0.8774 - val_loss: 0.0337 - val_accuracy: 1.0000\n",
            "Epoch 88/1000\n",
            "48/66 [====================>.........] - ETA: 0s - loss: 0.3411 - accuracy: 0.8840\n",
            "Epoch 88: saving model to model/keypoint_classifier\\keypoint_classifier.hdf5\n",
            "66/66 [==============================] - 0s 5ms/step - loss: 0.3387 - accuracy: 0.8847 - val_loss: 0.0314 - val_accuracy: 1.0000\n",
            "Epoch 89/1000\n",
            "62/66 [===========================>..] - ETA: 0s - loss: 0.3535 - accuracy: 0.8806\n",
            "Epoch 89: saving model to model/keypoint_classifier\\keypoint_classifier.hdf5\n",
            "66/66 [==============================] - 0s 4ms/step - loss: 0.3540 - accuracy: 0.8803 - val_loss: 0.0289 - val_accuracy: 1.0000\n",
            "Epoch 90/1000\n",
            "46/66 [===================>..........] - ETA: 0s - loss: 0.3392 - accuracy: 0.8853\n",
            "Epoch 90: saving model to model/keypoint_classifier\\keypoint_classifier.hdf5\n",
            "66/66 [==============================] - 0s 4ms/step - loss: 0.3527 - accuracy: 0.8801 - val_loss: 0.0334 - val_accuracy: 1.0000\n",
            "Epoch 91/1000\n",
            "59/66 [=========================>....] - ETA: 0s - loss: 0.3488 - accuracy: 0.8816\n",
            "Epoch 91: saving model to model/keypoint_classifier\\keypoint_classifier.hdf5\n",
            "66/66 [==============================] - 0s 4ms/step - loss: 0.3493 - accuracy: 0.8812 - val_loss: 0.0319 - val_accuracy: 1.0000\n",
            "Epoch 92/1000\n",
            "50/66 [=====================>........] - ETA: 0s - loss: 0.3458 - accuracy: 0.8818\n",
            "Epoch 92: saving model to model/keypoint_classifier\\keypoint_classifier.hdf5\n",
            "66/66 [==============================] - 0s 4ms/step - loss: 0.3472 - accuracy: 0.8822 - val_loss: 0.0339 - val_accuracy: 1.0000\n",
            "Epoch 93/1000\n",
            "48/66 [====================>.........] - ETA: 0s - loss: 0.3545 - accuracy: 0.8770\n",
            "Epoch 93: saving model to model/keypoint_classifier\\keypoint_classifier.hdf5\n",
            "66/66 [==============================] - 0s 4ms/step - loss: 0.3586 - accuracy: 0.8759 - val_loss: 0.0324 - val_accuracy: 1.0000\n",
            "Epoch 94/1000\n",
            "47/66 [====================>.........] - ETA: 0s - loss: 0.3498 - accuracy: 0.8808\n",
            "Epoch 94: saving model to model/keypoint_classifier\\keypoint_classifier.hdf5\n",
            "66/66 [==============================] - 0s 4ms/step - loss: 0.3464 - accuracy: 0.8817 - val_loss: 0.0293 - val_accuracy: 1.0000\n",
            "Epoch 95/1000\n",
            "51/66 [======================>.......] - ETA: 0s - loss: 0.3450 - accuracy: 0.8818\n",
            "Epoch 95: saving model to model/keypoint_classifier\\keypoint_classifier.hdf5\n",
            "66/66 [==============================] - 0s 4ms/step - loss: 0.3493 - accuracy: 0.8810 - val_loss: 0.0307 - val_accuracy: 1.0000\n",
            "Epoch 96/1000\n",
            "65/66 [============================>.] - ETA: 0s - loss: 0.3526 - accuracy: 0.8776\n",
            "Epoch 96: saving model to model/keypoint_classifier\\keypoint_classifier.hdf5\n",
            "66/66 [==============================] - 0s 4ms/step - loss: 0.3531 - accuracy: 0.8774 - val_loss: 0.0286 - val_accuracy: 1.0000\n",
            "Epoch 97/1000\n",
            "58/66 [=========================>....] - ETA: 0s - loss: 0.3524 - accuracy: 0.8784\n",
            "Epoch 97: saving model to model/keypoint_classifier\\keypoint_classifier.hdf5\n",
            "66/66 [==============================] - 0s 4ms/step - loss: 0.3520 - accuracy: 0.8782 - val_loss: 0.0284 - val_accuracy: 1.0000\n",
            "Epoch 98/1000\n",
            "45/66 [===================>..........] - ETA: 0s - loss: 0.3434 - accuracy: 0.8857\n",
            "Epoch 98: saving model to model/keypoint_classifier\\keypoint_classifier.hdf5\n",
            "66/66 [==============================] - 0s 3ms/step - loss: 0.3422 - accuracy: 0.8845 - val_loss: 0.0290 - val_accuracy: 1.0000\n",
            "Epoch 99/1000\n",
            "57/66 [========================>.....] - ETA: 0s - loss: 0.3530 - accuracy: 0.8788\n",
            "Epoch 99: saving model to model/keypoint_classifier\\keypoint_classifier.hdf5\n",
            "66/66 [==============================] - 0s 4ms/step - loss: 0.3487 - accuracy: 0.8803 - val_loss: 0.0284 - val_accuracy: 1.0000\n",
            "Epoch 100/1000\n",
            "64/66 [============================>.] - ETA: 0s - loss: 0.3465 - accuracy: 0.8826\n",
            "Epoch 100: saving model to model/keypoint_classifier\\keypoint_classifier.hdf5\n",
            "66/66 [==============================] - 0s 3ms/step - loss: 0.3469 - accuracy: 0.8823 - val_loss: 0.0279 - val_accuracy: 1.0000\n",
            "Epoch 101/1000\n",
            "56/66 [========================>.....] - ETA: 0s - loss: 0.3321 - accuracy: 0.8860\n",
            "Epoch 101: saving model to model/keypoint_classifier\\keypoint_classifier.hdf5\n",
            "66/66 [==============================] - 0s 3ms/step - loss: 0.3329 - accuracy: 0.8861 - val_loss: 0.0275 - val_accuracy: 1.0000\n",
            "Epoch 102/1000\n",
            "52/66 [======================>.......] - ETA: 0s - loss: 0.3502 - accuracy: 0.8788\n",
            "Epoch 102: saving model to model/keypoint_classifier\\keypoint_classifier.hdf5\n",
            "66/66 [==============================] - 0s 4ms/step - loss: 0.3528 - accuracy: 0.8788 - val_loss: 0.0283 - val_accuracy: 1.0000\n",
            "Epoch 103/1000\n",
            "61/66 [==========================>...] - ETA: 0s - loss: 0.3472 - accuracy: 0.8810\n",
            "Epoch 103: saving model to model/keypoint_classifier\\keypoint_classifier.hdf5\n",
            "66/66 [==============================] - 0s 3ms/step - loss: 0.3467 - accuracy: 0.8808 - val_loss: 0.0283 - val_accuracy: 1.0000\n",
            "Epoch 104/1000\n",
            "50/66 [=====================>........] - ETA: 0s - loss: 0.3378 - accuracy: 0.8823\n",
            "Epoch 104: saving model to model/keypoint_classifier\\keypoint_classifier.hdf5\n",
            "66/66 [==============================] - 0s 4ms/step - loss: 0.3420 - accuracy: 0.8818 - val_loss: 0.0288 - val_accuracy: 1.0000\n",
            "Epoch 105/1000\n",
            "50/66 [=====================>........] - ETA: 0s - loss: 0.3432 - accuracy: 0.8829\n",
            "Epoch 105: saving model to model/keypoint_classifier\\keypoint_classifier.hdf5\n",
            "66/66 [==============================] - 0s 3ms/step - loss: 0.3431 - accuracy: 0.8828 - val_loss: 0.0280 - val_accuracy: 1.0000\n",
            "Epoch 106/1000\n",
            "47/66 [====================>.........] - ETA: 0s - loss: 0.3477 - accuracy: 0.8804\n",
            "Epoch 106: saving model to model/keypoint_classifier\\keypoint_classifier.hdf5\n",
            "66/66 [==============================] - 0s 4ms/step - loss: 0.3416 - accuracy: 0.8838 - val_loss: 0.0298 - val_accuracy: 1.0000\n",
            "Epoch 107/1000\n",
            "45/66 [===================>..........] - ETA: 0s - loss: 0.3362 - accuracy: 0.8873\n",
            "Epoch 107: saving model to model/keypoint_classifier\\keypoint_classifier.hdf5\n",
            "66/66 [==============================] - 0s 3ms/step - loss: 0.3331 - accuracy: 0.8879 - val_loss: 0.0283 - val_accuracy: 1.0000\n",
            "Epoch 108/1000\n",
            "48/66 [====================>.........] - ETA: 0s - loss: 0.3398 - accuracy: 0.8831\n",
            "Epoch 108: saving model to model/keypoint_classifier\\keypoint_classifier.hdf5\n",
            "66/66 [==============================] - 0s 3ms/step - loss: 0.3395 - accuracy: 0.8835 - val_loss: 0.0260 - val_accuracy: 1.0000\n",
            "Epoch 109/1000\n",
            "49/66 [=====================>........] - ETA: 0s - loss: 0.3359 - accuracy: 0.8865\n",
            "Epoch 109: saving model to model/keypoint_classifier\\keypoint_classifier.hdf5\n",
            "66/66 [==============================] - 0s 4ms/step - loss: 0.3349 - accuracy: 0.8873 - val_loss: 0.0262 - val_accuracy: 1.0000\n",
            "Epoch 110/1000\n",
            "60/66 [==========================>...] - ETA: 0s - loss: 0.3386 - accuracy: 0.8837\n",
            "Epoch 110: saving model to model/keypoint_classifier\\keypoint_classifier.hdf5\n",
            "66/66 [==============================] - 0s 5ms/step - loss: 0.3356 - accuracy: 0.8847 - val_loss: 0.0270 - val_accuracy: 1.0000\n",
            "Epoch 111/1000\n",
            "56/66 [========================>.....] - ETA: 0s - loss: 0.3380 - accuracy: 0.8831\n",
            "Epoch 111: saving model to model/keypoint_classifier\\keypoint_classifier.hdf5\n",
            "66/66 [==============================] - 0s 4ms/step - loss: 0.3355 - accuracy: 0.8841 - val_loss: 0.0264 - val_accuracy: 1.0000\n",
            "Epoch 112/1000\n",
            "44/66 [===================>..........] - ETA: 0s - loss: 0.3442 - accuracy: 0.8838\n",
            "Epoch 112: saving model to model/keypoint_classifier\\keypoint_classifier.hdf5\n",
            "66/66 [==============================] - 0s 4ms/step - loss: 0.3359 - accuracy: 0.8872 - val_loss: 0.0259 - val_accuracy: 1.0000\n",
            "Epoch 113/1000\n",
            "64/66 [============================>.] - ETA: 0s - loss: 0.3282 - accuracy: 0.8902\n",
            "Epoch 113: saving model to model/keypoint_classifier\\keypoint_classifier.hdf5\n",
            "66/66 [==============================] - 0s 4ms/step - loss: 0.3302 - accuracy: 0.8895 - val_loss: 0.0285 - val_accuracy: 1.0000\n",
            "Epoch 114/1000\n",
            "58/66 [=========================>....] - ETA: 0s - loss: 0.3356 - accuracy: 0.8849\n",
            "Epoch 114: saving model to model/keypoint_classifier\\keypoint_classifier.hdf5\n",
            "66/66 [==============================] - 0s 4ms/step - loss: 0.3360 - accuracy: 0.8847 - val_loss: 0.0275 - val_accuracy: 1.0000\n",
            "Epoch 115/1000\n",
            "66/66 [==============================] - ETA: 0s - loss: 0.3346 - accuracy: 0.8853\n",
            "Epoch 115: saving model to model/keypoint_classifier\\keypoint_classifier.hdf5\n",
            "66/66 [==============================] - 0s 4ms/step - loss: 0.3346 - accuracy: 0.8853 - val_loss: 0.0297 - val_accuracy: 1.0000\n",
            "Epoch 116/1000\n",
            "64/66 [============================>.] - ETA: 0s - loss: 0.3269 - accuracy: 0.8862\n",
            "Epoch 116: saving model to model/keypoint_classifier\\keypoint_classifier.hdf5\n",
            "66/66 [==============================] - 0s 4ms/step - loss: 0.3278 - accuracy: 0.8860 - val_loss: 0.0275 - val_accuracy: 1.0000\n",
            "Epoch 117/1000\n",
            "63/66 [===========================>..] - ETA: 0s - loss: 0.3336 - accuracy: 0.8865\n",
            "Epoch 117: saving model to model/keypoint_classifier\\keypoint_classifier.hdf5\n",
            "66/66 [==============================] - 0s 5ms/step - loss: 0.3350 - accuracy: 0.8866 - val_loss: 0.0248 - val_accuracy: 1.0000\n",
            "Epoch 118/1000\n",
            "61/66 [==========================>...] - ETA: 0s - loss: 0.3369 - accuracy: 0.8841\n",
            "Epoch 118: saving model to model/keypoint_classifier\\keypoint_classifier.hdf5\n",
            "66/66 [==============================] - 0s 6ms/step - loss: 0.3364 - accuracy: 0.8843 - val_loss: 0.0268 - val_accuracy: 1.0000\n",
            "Epoch 119/1000\n",
            "66/66 [==============================] - ETA: 0s - loss: 0.3401 - accuracy: 0.8841\n",
            "Epoch 119: saving model to model/keypoint_classifier\\keypoint_classifier.hdf5\n",
            "66/66 [==============================] - 0s 4ms/step - loss: 0.3401 - accuracy: 0.8841 - val_loss: 0.0277 - val_accuracy: 1.0000\n",
            "Epoch 120/1000\n",
            "63/66 [===========================>..] - ETA: 0s - loss: 0.3230 - accuracy: 0.8909\n",
            "Epoch 120: saving model to model/keypoint_classifier\\keypoint_classifier.hdf5\n",
            "66/66 [==============================] - 0s 4ms/step - loss: 0.3237 - accuracy: 0.8904 - val_loss: 0.0249 - val_accuracy: 1.0000\n",
            "Epoch 121/1000\n",
            "42/66 [==================>...........] - ETA: 0s - loss: 0.3354 - accuracy: 0.8874\n",
            "Epoch 121: saving model to model/keypoint_classifier\\keypoint_classifier.hdf5\n",
            "66/66 [==============================] - 0s 4ms/step - loss: 0.3352 - accuracy: 0.8875 - val_loss: 0.0260 - val_accuracy: 1.0000\n",
            "Epoch 122/1000\n",
            "56/66 [========================>.....] - ETA: 0s - loss: 0.3253 - accuracy: 0.8880\n",
            "Epoch 122: saving model to model/keypoint_classifier\\keypoint_classifier.hdf5\n",
            "66/66 [==============================] - 0s 6ms/step - loss: 0.3250 - accuracy: 0.8888 - val_loss: 0.0290 - val_accuracy: 1.0000\n",
            "Epoch 123/1000\n",
            "66/66 [==============================] - ETA: 0s - loss: 0.3298 - accuracy: 0.8864\n",
            "Epoch 123: saving model to model/keypoint_classifier\\keypoint_classifier.hdf5\n",
            "66/66 [==============================] - 0s 6ms/step - loss: 0.3298 - accuracy: 0.8864 - val_loss: 0.0288 - val_accuracy: 1.0000\n",
            "Epoch 124/1000\n",
            "61/66 [==========================>...] - ETA: 0s - loss: 0.3268 - accuracy: 0.8875\n",
            "Epoch 124: saving model to model/keypoint_classifier\\keypoint_classifier.hdf5\n",
            "66/66 [==============================] - 0s 5ms/step - loss: 0.3265 - accuracy: 0.8873 - val_loss: 0.0237 - val_accuracy: 1.0000\n",
            "Epoch 125/1000\n",
            "55/66 [========================>.....] - ETA: 0s - loss: 0.3253 - accuracy: 0.8905\n",
            "Epoch 125: saving model to model/keypoint_classifier\\keypoint_classifier.hdf5\n",
            "66/66 [==============================] - 0s 5ms/step - loss: 0.3274 - accuracy: 0.8894 - val_loss: 0.0233 - val_accuracy: 1.0000\n",
            "Epoch 126/1000\n",
            "57/66 [========================>.....] - ETA: 0s - loss: 0.3265 - accuracy: 0.8886\n",
            "Epoch 126: saving model to model/keypoint_classifier\\keypoint_classifier.hdf5\n",
            "66/66 [==============================] - 0s 5ms/step - loss: 0.3242 - accuracy: 0.8895 - val_loss: 0.0260 - val_accuracy: 1.0000\n",
            "Epoch 127/1000\n",
            "55/66 [========================>.....] - ETA: 0s - loss: 0.3190 - accuracy: 0.8940\n",
            "Epoch 127: saving model to model/keypoint_classifier\\keypoint_classifier.hdf5\n",
            "66/66 [==============================] - 0s 5ms/step - loss: 0.3185 - accuracy: 0.8929 - val_loss: 0.0253 - val_accuracy: 1.0000\n",
            "Epoch 128/1000\n",
            "61/66 [==========================>...] - ETA: 0s - loss: 0.3321 - accuracy: 0.8863\n",
            "Epoch 128: saving model to model/keypoint_classifier\\keypoint_classifier.hdf5\n",
            "66/66 [==============================] - 0s 4ms/step - loss: 0.3324 - accuracy: 0.8862 - val_loss: 0.0250 - val_accuracy: 1.0000\n",
            "Epoch 129/1000\n",
            "61/66 [==========================>...] - ETA: 0s - loss: 0.3150 - accuracy: 0.8913\n",
            "Epoch 129: saving model to model/keypoint_classifier\\keypoint_classifier.hdf5\n",
            "66/66 [==============================] - 0s 5ms/step - loss: 0.3163 - accuracy: 0.8904 - val_loss: 0.0237 - val_accuracy: 1.0000\n",
            "Epoch 130/1000\n",
            "57/66 [========================>.....] - ETA: 0s - loss: 0.3228 - accuracy: 0.8905\n",
            "Epoch 130: saving model to model/keypoint_classifier\\keypoint_classifier.hdf5\n",
            "66/66 [==============================] - 0s 3ms/step - loss: 0.3259 - accuracy: 0.8890 - val_loss: 0.0234 - val_accuracy: 1.0000\n",
            "Epoch 131/1000\n",
            "50/66 [=====================>........] - ETA: 0s - loss: 0.3292 - accuracy: 0.8877\n",
            "Epoch 131: saving model to model/keypoint_classifier\\keypoint_classifier.hdf5\n",
            "66/66 [==============================] - 0s 3ms/step - loss: 0.3279 - accuracy: 0.8889 - val_loss: 0.0239 - val_accuracy: 1.0000\n",
            "Epoch 132/1000\n",
            "49/66 [=====================>........] - ETA: 0s - loss: 0.3115 - accuracy: 0.8932\n",
            "Epoch 132: saving model to model/keypoint_classifier\\keypoint_classifier.hdf5\n",
            "66/66 [==============================] - 0s 4ms/step - loss: 0.3145 - accuracy: 0.8915 - val_loss: 0.0233 - val_accuracy: 1.0000\n",
            "Epoch 133/1000\n",
            "52/66 [======================>.......] - ETA: 0s - loss: 0.3321 - accuracy: 0.8873\n",
            "Epoch 133: saving model to model/keypoint_classifier\\keypoint_classifier.hdf5\n",
            "66/66 [==============================] - 0s 4ms/step - loss: 0.3285 - accuracy: 0.8886 - val_loss: 0.0250 - val_accuracy: 1.0000\n",
            "Epoch 134/1000\n",
            "58/66 [=========================>....] - ETA: 0s - loss: 0.3280 - accuracy: 0.8902\n",
            "Epoch 134: saving model to model/keypoint_classifier\\keypoint_classifier.hdf5\n",
            "66/66 [==============================] - 0s 5ms/step - loss: 0.3219 - accuracy: 0.8915 - val_loss: 0.0236 - val_accuracy: 1.0000\n",
            "Epoch 135/1000\n",
            "47/66 [====================>.........] - ETA: 0s - loss: 0.3172 - accuracy: 0.8934\n",
            "Epoch 135: saving model to model/keypoint_classifier\\keypoint_classifier.hdf5\n",
            "66/66 [==============================] - 0s 5ms/step - loss: 0.3217 - accuracy: 0.8907 - val_loss: 0.0276 - val_accuracy: 1.0000\n",
            "Epoch 136/1000\n",
            "60/66 [==========================>...] - ETA: 0s - loss: 0.3279 - accuracy: 0.8900\n",
            "Epoch 136: saving model to model/keypoint_classifier\\keypoint_classifier.hdf5\n",
            "66/66 [==============================] - 0s 5ms/step - loss: 0.3270 - accuracy: 0.8900 - val_loss: 0.0233 - val_accuracy: 1.0000\n",
            "Epoch 137/1000\n",
            "65/66 [============================>.] - ETA: 0s - loss: 0.3178 - accuracy: 0.8922\n",
            "Epoch 137: saving model to model/keypoint_classifier\\keypoint_classifier.hdf5\n",
            "66/66 [==============================] - 0s 5ms/step - loss: 0.3180 - accuracy: 0.8922 - val_loss: 0.0254 - val_accuracy: 1.0000\n",
            "Epoch 138/1000\n",
            "59/66 [=========================>....] - ETA: 0s - loss: 0.3247 - accuracy: 0.8888\n",
            "Epoch 138: saving model to model/keypoint_classifier\\keypoint_classifier.hdf5\n",
            "66/66 [==============================] - 0s 5ms/step - loss: 0.3212 - accuracy: 0.8899 - val_loss: 0.0246 - val_accuracy: 1.0000\n",
            "Epoch 139/1000\n",
            "61/66 [==========================>...] - ETA: 0s - loss: 0.3180 - accuracy: 0.8918\n",
            "Epoch 139: saving model to model/keypoint_classifier\\keypoint_classifier.hdf5\n",
            "66/66 [==============================] - 0s 6ms/step - loss: 0.3187 - accuracy: 0.8918 - val_loss: 0.0242 - val_accuracy: 1.0000\n",
            "Epoch 140/1000\n",
            "55/66 [========================>.....] - ETA: 0s - loss: 0.3239 - accuracy: 0.8885\n",
            "Epoch 140: saving model to model/keypoint_classifier\\keypoint_classifier.hdf5\n",
            "66/66 [==============================] - 0s 6ms/step - loss: 0.3208 - accuracy: 0.8902 - val_loss: 0.0240 - val_accuracy: 1.0000\n",
            "Epoch 141/1000\n",
            "50/66 [=====================>........] - ETA: 0s - loss: 0.3058 - accuracy: 0.8984\n",
            "Epoch 141: saving model to model/keypoint_classifier\\keypoint_classifier.hdf5\n",
            "66/66 [==============================] - 0s 3ms/step - loss: 0.3101 - accuracy: 0.8969 - val_loss: 0.0218 - val_accuracy: 1.0000\n",
            "Epoch 142/1000\n",
            "40/66 [=================>............] - ETA: 0s - loss: 0.3213 - accuracy: 0.8908\n",
            "Epoch 142: saving model to model/keypoint_classifier\\keypoint_classifier.hdf5\n",
            "66/66 [==============================] - 0s 4ms/step - loss: 0.3121 - accuracy: 0.8933 - val_loss: 0.0202 - val_accuracy: 1.0000\n",
            "Epoch 143/1000\n",
            "49/66 [=====================>........] - ETA: 0s - loss: 0.3221 - accuracy: 0.8880\n",
            "Epoch 143: saving model to model/keypoint_classifier\\keypoint_classifier.hdf5\n",
            "66/66 [==============================] - 0s 4ms/step - loss: 0.3175 - accuracy: 0.8894 - val_loss: 0.0215 - val_accuracy: 1.0000\n",
            "Epoch 144/1000\n",
            "50/66 [=====================>........] - ETA: 0s - loss: 0.3172 - accuracy: 0.8942\n",
            "Epoch 144: saving model to model/keypoint_classifier\\keypoint_classifier.hdf5\n",
            "66/66 [==============================] - 0s 4ms/step - loss: 0.3141 - accuracy: 0.8951 - val_loss: 0.0237 - val_accuracy: 1.0000\n",
            "Epoch 145/1000\n",
            "62/66 [===========================>..] - ETA: 0s - loss: 0.3141 - accuracy: 0.8903\n",
            "Epoch 145: saving model to model/keypoint_classifier\\keypoint_classifier.hdf5\n",
            "66/66 [==============================] - 0s 4ms/step - loss: 0.3131 - accuracy: 0.8910 - val_loss: 0.0226 - val_accuracy: 1.0000\n",
            "Epoch 146/1000\n",
            "64/66 [============================>.] - ETA: 0s - loss: 0.3192 - accuracy: 0.8904\n",
            "Epoch 146: saving model to model/keypoint_classifier\\keypoint_classifier.hdf5\n",
            "66/66 [==============================] - 0s 4ms/step - loss: 0.3185 - accuracy: 0.8904 - val_loss: 0.0205 - val_accuracy: 1.0000\n",
            "Epoch 147/1000\n",
            "51/66 [======================>.......] - ETA: 0s - loss: 0.3079 - accuracy: 0.8966\n",
            "Epoch 147: saving model to model/keypoint_classifier\\keypoint_classifier.hdf5\n",
            "66/66 [==============================] - 0s 4ms/step - loss: 0.3078 - accuracy: 0.8956 - val_loss: 0.0225 - val_accuracy: 1.0000\n",
            "Epoch 148/1000\n",
            "56/66 [========================>.....] - ETA: 0s - loss: 0.3119 - accuracy: 0.8913\n",
            "Epoch 148: saving model to model/keypoint_classifier\\keypoint_classifier.hdf5\n",
            "66/66 [==============================] - 0s 4ms/step - loss: 0.3141 - accuracy: 0.8913 - val_loss: 0.0248 - val_accuracy: 1.0000\n",
            "Epoch 149/1000\n",
            "52/66 [======================>.......] - ETA: 0s - loss: 0.3133 - accuracy: 0.8905\n",
            "Epoch 149: saving model to model/keypoint_classifier\\keypoint_classifier.hdf5\n",
            "66/66 [==============================] - 0s 4ms/step - loss: 0.3114 - accuracy: 0.8915 - val_loss: 0.0259 - val_accuracy: 1.0000\n",
            "Epoch 150/1000\n",
            "43/66 [==================>...........] - ETA: 0s - loss: 0.3097 - accuracy: 0.8956\n",
            "Epoch 150: saving model to model/keypoint_classifier\\keypoint_classifier.hdf5\n",
            "66/66 [==============================] - 0s 4ms/step - loss: 0.3094 - accuracy: 0.8948 - val_loss: 0.0216 - val_accuracy: 1.0000\n",
            "Epoch 151/1000\n",
            "53/66 [=======================>......] - ETA: 0s - loss: 0.3211 - accuracy: 0.8906\n",
            "Epoch 151: saving model to model/keypoint_classifier\\keypoint_classifier.hdf5\n",
            "66/66 [==============================] - 0s 3ms/step - loss: 0.3181 - accuracy: 0.8913 - val_loss: 0.0214 - val_accuracy: 1.0000\n",
            "Epoch 152/1000\n",
            "55/66 [========================>.....] - ETA: 0s - loss: 0.3095 - accuracy: 0.8960\n",
            "Epoch 152: saving model to model/keypoint_classifier\\keypoint_classifier.hdf5\n",
            "66/66 [==============================] - 0s 3ms/step - loss: 0.3132 - accuracy: 0.8955 - val_loss: 0.0187 - val_accuracy: 1.0000\n",
            "Epoch 153/1000\n",
            "57/66 [========================>.....] - ETA: 0s - loss: 0.3072 - accuracy: 0.8969\n",
            "Epoch 153: saving model to model/keypoint_classifier\\keypoint_classifier.hdf5\n",
            "66/66 [==============================] - 0s 4ms/step - loss: 0.3098 - accuracy: 0.8955 - val_loss: 0.0223 - val_accuracy: 1.0000\n",
            "Epoch 154/1000\n",
            "58/66 [=========================>....] - ETA: 0s - loss: 0.3192 - accuracy: 0.8900\n",
            "Epoch 154: saving model to model/keypoint_classifier\\keypoint_classifier.hdf5\n",
            "66/66 [==============================] - 0s 4ms/step - loss: 0.3201 - accuracy: 0.8894 - val_loss: 0.0205 - val_accuracy: 1.0000\n",
            "Epoch 155/1000\n",
            "49/66 [=====================>........] - ETA: 0s - loss: 0.2982 - accuracy: 0.8947\n",
            "Epoch 155: saving model to model/keypoint_classifier\\keypoint_classifier.hdf5\n",
            "66/66 [==============================] - 0s 4ms/step - loss: 0.3012 - accuracy: 0.8942 - val_loss: 0.0219 - val_accuracy: 1.0000\n",
            "Epoch 156/1000\n",
            "47/66 [====================>.........] - ETA: 0s - loss: 0.3090 - accuracy: 0.8943\n",
            "Epoch 156: saving model to model/keypoint_classifier\\keypoint_classifier.hdf5\n",
            "66/66 [==============================] - 0s 4ms/step - loss: 0.3102 - accuracy: 0.8936 - val_loss: 0.0236 - val_accuracy: 1.0000\n",
            "Epoch 157/1000\n",
            "49/66 [=====================>........] - ETA: 0s - loss: 0.3150 - accuracy: 0.8940\n",
            "Epoch 157: saving model to model/keypoint_classifier\\keypoint_classifier.hdf5\n",
            "66/66 [==============================] - 0s 4ms/step - loss: 0.3162 - accuracy: 0.8936 - val_loss: 0.0222 - val_accuracy: 1.0000\n",
            "Epoch 158/1000\n",
            "52/66 [======================>.......] - ETA: 0s - loss: 0.3112 - accuracy: 0.8966\n",
            "Epoch 158: saving model to model/keypoint_classifier\\keypoint_classifier.hdf5\n",
            "66/66 [==============================] - 0s 4ms/step - loss: 0.3121 - accuracy: 0.8953 - val_loss: 0.0221 - val_accuracy: 1.0000\n",
            "Epoch 159/1000\n",
            "48/66 [====================>.........] - ETA: 0s - loss: 0.3080 - accuracy: 0.8942\n",
            "Epoch 159: saving model to model/keypoint_classifier\\keypoint_classifier.hdf5\n",
            "66/66 [==============================] - 0s 4ms/step - loss: 0.3057 - accuracy: 0.8945 - val_loss: 0.0240 - val_accuracy: 1.0000\n",
            "Epoch 160/1000\n",
            "66/66 [==============================] - ETA: 0s - loss: 0.3111 - accuracy: 0.8934\n",
            "Epoch 160: saving model to model/keypoint_classifier\\keypoint_classifier.hdf5\n",
            "66/66 [==============================] - 0s 4ms/step - loss: 0.3111 - accuracy: 0.8934 - val_loss: 0.0237 - val_accuracy: 1.0000\n",
            "Epoch 161/1000\n",
            "66/66 [==============================] - ETA: 0s - loss: 0.3030 - accuracy: 0.8953\n",
            "Epoch 161: saving model to model/keypoint_classifier\\keypoint_classifier.hdf5\n",
            "66/66 [==============================] - 0s 4ms/step - loss: 0.3030 - accuracy: 0.8953 - val_loss: 0.0215 - val_accuracy: 1.0000\n",
            "Epoch 162/1000\n",
            "41/66 [=================>............] - ETA: 0s - loss: 0.3037 - accuracy: 0.8980\n",
            "Epoch 162: saving model to model/keypoint_classifier\\keypoint_classifier.hdf5\n",
            "66/66 [==============================] - 0s 4ms/step - loss: 0.3035 - accuracy: 0.8974 - val_loss: 0.0228 - val_accuracy: 1.0000\n",
            "Epoch 163/1000\n",
            "42/66 [==================>...........] - ETA: 0s - loss: 0.3231 - accuracy: 0.8917\n",
            "Epoch 163: saving model to model/keypoint_classifier\\keypoint_classifier.hdf5\n",
            "66/66 [==============================] - 0s 4ms/step - loss: 0.3219 - accuracy: 0.8930 - val_loss: 0.0245 - val_accuracy: 1.0000\n",
            "Epoch 164/1000\n",
            "49/66 [=====================>........] - ETA: 0s - loss: 0.2997 - accuracy: 0.8991\n",
            "Epoch 164: saving model to model/keypoint_classifier\\keypoint_classifier.hdf5\n",
            "66/66 [==============================] - 0s 3ms/step - loss: 0.3035 - accuracy: 0.8974 - val_loss: 0.0216 - val_accuracy: 1.0000\n",
            "Epoch 165/1000\n",
            "45/66 [===================>..........] - ETA: 0s - loss: 0.3014 - accuracy: 0.8993\n",
            "Epoch 165: saving model to model/keypoint_classifier\\keypoint_classifier.hdf5\n",
            "66/66 [==============================] - 0s 4ms/step - loss: 0.3064 - accuracy: 0.8984 - val_loss: 0.0278 - val_accuracy: 0.9980\n",
            "Epoch 166/1000\n",
            "54/66 [=======================>......] - ETA: 0s - loss: 0.3287 - accuracy: 0.8898\n",
            "Epoch 166: saving model to model/keypoint_classifier\\keypoint_classifier.hdf5\n",
            "66/66 [==============================] - 0s 5ms/step - loss: 0.3214 - accuracy: 0.8924 - val_loss: 0.0225 - val_accuracy: 1.0000\n",
            "Epoch 167/1000\n",
            "58/66 [=========================>....] - ETA: 0s - loss: 0.2990 - accuracy: 0.8980\n",
            "Epoch 167: saving model to model/keypoint_classifier\\keypoint_classifier.hdf5\n",
            "66/66 [==============================] - 0s 4ms/step - loss: 0.2954 - accuracy: 0.8991 - val_loss: 0.0217 - val_accuracy: 1.0000\n",
            "Epoch 168/1000\n",
            "40/66 [=================>............] - ETA: 0s - loss: 0.3151 - accuracy: 0.8926\n",
            "Epoch 168: saving model to model/keypoint_classifier\\keypoint_classifier.hdf5\n",
            "66/66 [==============================] - 0s 4ms/step - loss: 0.3088 - accuracy: 0.8939 - val_loss: 0.0216 - val_accuracy: 1.0000\n",
            "Epoch 169/1000\n",
            "44/66 [===================>..........] - ETA: 0s - loss: 0.3079 - accuracy: 0.8986\n",
            "Epoch 169: saving model to model/keypoint_classifier\\keypoint_classifier.hdf5\n",
            "66/66 [==============================] - 0s 4ms/step - loss: 0.3077 - accuracy: 0.8976 - val_loss: 0.0228 - val_accuracy: 1.0000\n",
            "Epoch 170/1000\n",
            "53/66 [=======================>......] - ETA: 0s - loss: 0.3029 - accuracy: 0.8977\n",
            "Epoch 170: saving model to model/keypoint_classifier\\keypoint_classifier.hdf5\n",
            "66/66 [==============================] - 0s 5ms/step - loss: 0.3034 - accuracy: 0.8968 - val_loss: 0.0242 - val_accuracy: 1.0000\n",
            "Epoch 171/1000\n",
            "45/66 [===================>..........] - ETA: 0s - loss: 0.2971 - accuracy: 0.8956\n",
            "Epoch 171: saving model to model/keypoint_classifier\\keypoint_classifier.hdf5\n",
            "66/66 [==============================] - 0s 4ms/step - loss: 0.3002 - accuracy: 0.8953 - val_loss: 0.0266 - val_accuracy: 0.9988\n",
            "Epoch 172/1000\n",
            "48/66 [====================>.........] - ETA: 0s - loss: 0.3080 - accuracy: 0.8950\n",
            "Epoch 172: saving model to model/keypoint_classifier\\keypoint_classifier.hdf5\n",
            "66/66 [==============================] - 0s 4ms/step - loss: 0.3033 - accuracy: 0.8965 - val_loss: 0.0241 - val_accuracy: 0.9988\n",
            "Epoch 172: early stopping\n"
          ]
        },
        {
          "data": {
            "text/plain": [
              "<keras.callbacks.History at 0x26ee6aebd60>"
            ]
          },
          "execution_count": 555,
          "metadata": {},
          "output_type": "execute_result"
        }
      ],
      "source": [
        "model.fit(\n",
        "    X_train,\n",
        "    y_train,\n",
        "    epochs=1000,\n",
        "    batch_size=256,\n",
        "    validation_data=(X_test, y_test),\n",
        "    callbacks=[cp_callback, es_callback]\n",
        ")"
      ]
    },
    {
      "cell_type": "code",
      "execution_count": 556,
      "metadata": {
        "colab": {
          "base_uri": "https://localhost:8080/"
        },
        "id": "pxvb2Y299hE3",
        "outputId": "59eb3185-2e37-4b9e-bc9d-ab1b8ac29b7f"
      },
      "outputs": [
        {
          "name": "stdout",
          "output_type": "stream",
          "text": [
            "44/44 [==============================] - 0s 1ms/step - loss: 0.0241 - accuracy: 0.9988\n"
          ]
        }
      ],
      "source": [
        "# Model evaluation\n",
        "val_loss, val_acc = model.evaluate(X_test, y_test, batch_size=128)"
      ]
    },
    {
      "cell_type": "code",
      "execution_count": 557,
      "metadata": {
        "id": "RBkmDeUW9hE4"
      },
      "outputs": [],
      "source": [
        "# Loading the saved model\n",
        "model = tf.keras.models.load_model(model_save_path)"
      ]
    },
    {
      "cell_type": "code",
      "execution_count": 558,
      "metadata": {
        "colab": {
          "base_uri": "https://localhost:8080/"
        },
        "id": "tFz9Tb0I9hE4",
        "outputId": "1c3b3528-54ae-4ee2-ab04-77429211cbef"
      },
      "outputs": [
        {
          "name": "stdout",
          "output_type": "stream",
          "text": [
            "1/1 [==============================] - 0s 94ms/step\n",
            "[8.3574747e-08 1.0163761e-12 2.0500717e-09 7.8739312e-08 7.0660433e-05\n",
            " 2.8745517e-13 1.1602903e-13 5.2600524e-13 8.6588853e-18 1.0584858e-03\n",
            " 1.0463150e-10 2.0582863e-14 1.6871727e-13 1.8154370e-07 4.7547935e-08\n",
            " 2.2179653e-18 3.0702333e-21 2.0158805e-12 4.8193814e-16 2.7939418e-15\n",
            " 1.7083119e-16 1.2146841e-22 9.9887055e-01 6.6263234e-10 2.4466802e-12]\n",
            "22\n"
          ]
        }
      ],
      "source": [
        "# Inference test\n",
        "predict_result = model.predict(np.array([X_test[0]]))\n",
        "print(np.squeeze(predict_result))\n",
        "print(np.argmax(np.squeeze(predict_result)))"
      ]
    },
    {
      "cell_type": "markdown",
      "metadata": {
        "id": "S3U4yNWx9hE4"
      },
      "source": [
        "# Confusion matrix"
      ]
    },
    {
      "cell_type": "code",
      "execution_count": 559,
      "metadata": {
        "colab": {
          "base_uri": "https://localhost:8080/",
          "height": 582
        },
        "id": "AP1V6SCk9hE5",
        "outputId": "08e41a80-7a4a-4619-8125-ecc371368d19"
      },
      "outputs": [
        {
          "name": "stdout",
          "output_type": "stream",
          "text": [
            "176/176 [==============================] - 0s 895us/step\n"
          ]
        },
        {
          "data": {
            "image/png": "[encoded data removed]",
            "text/plain": [
              "<Figure size 700x600 with 2 Axes>"
            ]
          },
          "metadata": {},
          "output_type": "display_data"
        },
        {
          "name": "stdout",
          "output_type": "stream",
          "text": [
            "Classification Report\n",
            "              precision    recall  f1-score   support\n",
            "\n",
            "           0       1.00      1.00      1.00       395\n",
            "           1       1.00      1.00      1.00       158\n",
            "           2       0.97      1.00      0.99       237\n",
            "           3       1.00      1.00      1.00       232\n",
            "           4       1.00      1.00      1.00       208\n",
            "           5       1.00      1.00      1.00       144\n",
            "           6       1.00      1.00      1.00       373\n",
            "           7       1.00      1.00      1.00       186\n",
            "           8       1.00      1.00      1.00       151\n",
            "           9       1.00      1.00      1.00       185\n",
            "          10       1.00      1.00      1.00       150\n",
            "          11       1.00      1.00      1.00       169\n",
            "          12       1.00      1.00      1.00       155\n",
            "          13       1.00      1.00      1.00       185\n",
            "          14       1.00      0.95      0.97       133\n",
            "          15       1.00      1.00      1.00       340\n",
            "          16       1.00      1.00      1.00       375\n",
            "          17       1.00      1.00      1.00       400\n",
            "          18       1.00      1.00      1.00       145\n",
            "          19       1.00      1.00      1.00       153\n",
            "          20       1.00      1.00      1.00       192\n",
            "          21       1.00      1.00      1.00       171\n",
            "          22       1.00      1.00      1.00       265\n",
            "          23       1.00      1.00      1.00       176\n",
            "          24       1.00      1.00      1.00       338\n",
            "\n",
            "    accuracy                           1.00      5616\n",
            "   macro avg       1.00      1.00      1.00      5616\n",
            "weighted avg       1.00      1.00      1.00      5616\n",
            "\n"
          ]
        }
      ],
      "source": [
        "import pandas as pd\n",
        "import seaborn as sns\n",
        "import matplotlib.pyplot as plt\n",
        "from sklearn.metrics import confusion_matrix, classification_report\n",
        "\n",
        "def print_confusion_matrix(y_true, y_pred, report=True):\n",
        "    labels = sorted(list(set(y_true)))\n",
        "    cmx_data = confusion_matrix(y_true, y_pred, labels=labels)\n",
        "    \n",
        "    df_cmx = pd.DataFrame(cmx_data, index=labels, columns=labels)\n",
        " \n",
        "    fig, ax = plt.subplots(figsize=(7, 6))\n",
        "    sns.heatmap(df_cmx, annot=True, fmt='g' ,square=False)\n",
        "    ax.set_ylim(len(set(y_true)), 0)\n",
        "    plt.show()\n",
        "    \n",
        "    if report:\n",
        "        print('Classification Report')\n",
        "        print(classification_report(y_test, y_pred))\n",
        "\n",
        "Y_pred = model.predict(X_test)\n",
        "y_pred = np.argmax(Y_pred, axis=1)\n",
        "\n",
        "print_confusion_matrix(y_test, y_pred)"
      ]
    },
    {
      "cell_type": "markdown",
      "metadata": {
        "id": "FNP6aqzc9hE5"
      },
      "source": [
        "# Convert to model for Tensorflow-Lite"
      ]
    },
    {
      "cell_type": "code",
      "execution_count": 560,
      "metadata": {
        "id": "ODjnYyld9hE6"
      },
      "outputs": [],
      "source": [
        "# Save as a model dedicated to inference\n",
        "model.save(model_save_path, include_optimizer=False)"
      ]
    },
    {
      "cell_type": "code",
      "execution_count": 561,
      "metadata": {
        "colab": {
          "base_uri": "https://localhost:8080/"
        },
        "id": "zRfuK8Y59hE6",
        "outputId": "a4ca585c-b5d5-4244-8291-8674063209bb"
      },
      "outputs": [
        {
          "name": "stderr",
          "output_type": "stream",
          "text": [
            "WARNING:absl:Found untraced functions such as _update_step_xla while saving (showing 1 of 1). These functions will not be directly callable after loading.\n"
          ]
        },
        {
          "name": "stdout",
          "output_type": "stream",
          "text": [
            "INFO:tensorflow:Assets written to: C:\\Users\\jonas\\AppData\\Local\\Temp\\tmptjec_s6r\\assets\n"
          ]
        },
        {
          "name": "stderr",
          "output_type": "stream",
          "text": [
            "INFO:tensorflow:Assets written to: C:\\Users\\jonas\\AppData\\Local\\Temp\\tmptjec_s6r\\assets\n"
          ]
        },
        {
          "data": {
            "text/plain": [
              "9488"
            ]
          },
          "execution_count": 561,
          "metadata": {},
          "output_type": "execute_result"
        }
      ],
      "source": [
        "# Transform model (quantization)\n",
        "\n",
        "converter = tf.lite.TFLiteConverter.from_keras_model(model)\n",
        "converter.optimizations = [tf.lite.Optimize.DEFAULT]\n",
        "tflite_quantized_model = converter.convert()\n",
        "\n",
        "open(tflite_save_path, 'wb').write(tflite_quantized_model)"
      ]
    },
    {
      "cell_type": "markdown",
      "metadata": {
        "id": "CHBPBXdx9hE6"
      },
      "source": [
        "# Inference test"
      ]
    },
    {
      "cell_type": "code",
      "execution_count": 562,
      "metadata": {
        "id": "mGAzLocO9hE7"
      },
      "outputs": [],
      "source": [
        "interpreter = tf.lite.Interpreter(model_path=tflite_save_path)\n",
        "interpreter.allocate_tensors()"
      ]
    },
    {
      "cell_type": "code",
      "execution_count": 563,
      "metadata": {
        "id": "oQuDK8YS9hE7"
      },
      "outputs": [],
      "source": [
        "# Get I / O tensor\n",
        "input_details = interpreter.get_input_details()\n",
        "output_details = interpreter.get_output_details()"
      ]
    },
    {
      "cell_type": "code",
      "execution_count": 564,
      "metadata": {
        "id": "2_ixAf_l9hE7"
      },
      "outputs": [],
      "source": [
        "interpreter.set_tensor(input_details[0]['index'], np.array([X_test[0]]))"
      ]
    },
    {
      "cell_type": "code",
      "execution_count": 565,
      "metadata": {
        "colab": {
          "base_uri": "https://localhost:8080/"
        },
        "id": "s4FoAnuc9hE7",
        "outputId": "91f18257-8d8b-4ef3-c558-e9b5f94fabbf",
        "scrolled": true
      },
      "outputs": [
        {
          "name": "stdout",
          "output_type": "stream",
          "text": [
            "CPU times: total: 0 ns\n",
            "Wall time: 0 ns\n"
          ]
        }
      ],
      "source": [
        "%%time\n",
        "# Inference implementation\n",
        "interpreter.invoke()\n",
        "tflite_results = interpreter.get_tensor(output_details[0]['index'])"
      ]
    },
    {
      "cell_type": "code",
      "execution_count": 566,
      "metadata": {
        "colab": {
          "base_uri": "https://localhost:8080/"
        },
        "id": "vONjp19J9hE8",
        "outputId": "77205e24-fd00-42c4-f7b6-e06e527c2cba"
      },
      "outputs": [
        {
          "name": "stdout",
          "output_type": "stream",
          "text": [
            "[6.47806786e-08 9.95108835e-13 2.27932984e-09 1.06475575e-07\n",
            " 8.61587032e-05 3.42105901e-13 1.29924798e-13 5.01987612e-13\n",
            " 5.78016441e-18 1.20465131e-03 9.90988333e-11 1.84788555e-14\n",
            " 1.20794339e-13 1.79593883e-07 5.91326241e-08 1.52291623e-18\n",
            " 2.04793703e-21 2.15813782e-12 3.42759188e-16 2.20674868e-15\n",
            " 1.04804756e-16 1.12620749e-22 9.98708725e-01 5.38351586e-10\n",
            " 2.75234674e-12]\n",
            "22\n"
          ]
        }
      ],
      "source": [
        "print(np.squeeze(tflite_results))\n",
        "print(np.argmax(np.squeeze(tflite_results)))"
      ]
    }
  ],
  "metadata": {
    "accelerator": "GPU",
    "colab": {
      "collapsed_sections": [],
      "name": "keypoint_classification_EN.ipynb",
      "provenance": [],
      "toc_visible": true
    },
    "kernelspec": {
      "display_name": "Python 3",
      "language": "python",
      "name": "python3"
    },
    "language_info": {
      "codemirror_mode": {
        "name": "ipython",
        "version": 3
      },
      "file_extension": ".py",
      "mimetype": "text/x-python",
      "name": "python",
      "nbconvert_exporter": "python",
      "pygments_lexer": "ipython3",
      "version": "3.10.7"
    },
    "vscode": {
      "interpreter": {
        "hash": "683e9bbf599fde3b00e37a0db68ad40a268db525b46af3924c3427b16ddb8792"
      }
    }
  },
  "nbformat": 4,
  "nbformat_minor": 0
}
