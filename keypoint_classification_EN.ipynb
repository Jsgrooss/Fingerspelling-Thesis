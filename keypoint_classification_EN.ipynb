{
  "cells": [
    {
      "cell_type": "code",
      "execution_count": 435,
      "metadata": {
        "id": "igMyGnjE9hEp"
      },
      "outputs": [],
      "source": [
        "import csv\n",
        "\n",
        "import numpy as np\n",
        "import tensorflow as tf\n",
        "from sklearn.model_selection import train_test_split\n",
        "\n",
        "RANDOM_SEED = 42"
      ]
    },
    {
      "cell_type": "markdown",
      "metadata": {
        "id": "t2HDvhIu9hEr"
      },
      "source": [
        "# Specify each path"
      ]
    },
    {
      "cell_type": "code",
      "execution_count": 436,
      "metadata": {
        "id": "9NvZP2Zn9hEy"
      },
      "outputs": [],
      "source": [
        "dataset = 'model/keypoint_classifier/keypoint.csv'\n",
        "model_save_path = 'model/keypoint_classifier/keypoint_classifier.hdf5'\n",
        "tflite_save_path = 'model/keypoint_classifier/keypoint_classifier.tflite'"
      ]
    },
    {
      "cell_type": "markdown",
      "metadata": {
        "id": "s5oMH7x19hEz"
      },
      "source": [
        "# Set number of classes"
      ]
    },
    {
      "cell_type": "code",
      "execution_count": 437,
      "metadata": {
        "id": "du4kodXL9hEz"
      },
      "outputs": [],
      "source": [
        "NUM_CLASSES = 25"
      ]
    },
    {
      "cell_type": "markdown",
      "metadata": {
        "id": "XjnL0uso9hEz"
      },
      "source": [
        "# Dataset reading"
      ]
    },
    {
      "cell_type": "code",
      "execution_count": 438,
      "metadata": {
        "id": "QT5ZqtEz9hE0"
      },
      "outputs": [],
      "source": [
        "X_dataset = np.loadtxt(dataset, delimiter=',', dtype='float32', usecols=list(range(1, (21 * 2*2) + 1)))"
      ]
    },
    {
      "cell_type": "code",
      "execution_count": 439,
      "metadata": {
        "id": "QmoKFsp49hE0"
      },
      "outputs": [],
      "source": [
        "y_dataset = np.loadtxt(dataset, delimiter=',', dtype='int32', usecols=(0))"
      ]
    },
    {
      "cell_type": "code",
      "execution_count": 440,
      "metadata": {
        "id": "xQU7JTZ_9hE0"
      },
      "outputs": [],
      "source": [
        "X_train, X_test, y_train, y_test = train_test_split(X_dataset, y_dataset, train_size=0.75, random_state=RANDOM_SEED)"
      ]
    },
    {
      "cell_type": "markdown",
      "metadata": {
        "id": "mxK_lETT9hE0"
      },
      "source": [
        "# Model building"
      ]
    },
    {
      "cell_type": "code",
      "execution_count": 441,
      "metadata": {
        "id": "vHBmUf1t9hE1"
      },
      "outputs": [],
      "source": [
        "model = tf.keras.models.Sequential([\n",
        "    tf.keras.layers.Input((21 * 2*2, )),\n",
        "    tf.keras.layers.Dropout(0.2),\n",
        "    tf.keras.layers.Dense(30, activation='relu'),\n",
        "    tf.keras.layers.Dropout(0.4),\n",
        "    tf.keras.layers.Dense(20, activation='relu'),\n",
        "    tf.keras.layers.Dense(NUM_CLASSES, activation='softmax')\n",
        "])"
      ]
    },
    {
      "cell_type": "code",
      "execution_count": 442,
      "metadata": {
        "colab": {
          "base_uri": "https://localhost:8080/"
        },
        "id": "ypqky9tc9hE1",
        "outputId": "5db082bb-30e3-4110-bf63-a1ee777ecd46"
      },
      "outputs": [
        {
          "name": "stdout",
          "output_type": "stream",
          "text": [
            "Model: \"sequential_22\"\n",
            "_________________________________________________________________\n",
            " Layer (type)                Output Shape              Param #   \n",
            "=================================================================\n",
            " dropout_44 (Dropout)        (None, 84)                0         \n",
            "                                                                 \n",
            " dense_66 (Dense)            (None, 30)                2550      \n",
            "                                                                 \n",
            " dropout_45 (Dropout)        (None, 30)                0         \n",
            "                                                                 \n",
            " dense_67 (Dense)            (None, 10)                310       \n",
            "                                                                 \n",
            " dense_68 (Dense)            (None, 25)                275       \n",
            "                                                                 \n",
            "=================================================================\n",
            "Total params: 3,135\n",
            "Trainable params: 3,135\n",
            "Non-trainable params: 0\n",
            "_________________________________________________________________\n"
          ]
        }
      ],
      "source": [
        "model.summary()  # tf.keras.utils.plot_model(model, show_shapes=True)"
      ]
    },
    {
      "cell_type": "code",
      "execution_count": 443,
      "metadata": {
        "id": "MbMjOflQ9hE1"
      },
      "outputs": [],
      "source": [
        "# Model checkpoint callback\n",
        "cp_callback = tf.keras.callbacks.ModelCheckpoint(\n",
        "    model_save_path, verbose=1, save_weights_only=False)\n",
        "# Callback for early stopping\n",
        "es_callback = tf.keras.callbacks.EarlyStopping(patience=20, verbose=1)"
      ]
    },
    {
      "cell_type": "code",
      "execution_count": 444,
      "metadata": {
        "id": "c3Dac0M_9hE2"
      },
      "outputs": [],
      "source": [
        "# Model compilation\n",
        "model.compile(\n",
        "    optimizer='adam',\n",
        "    #loss='mean_squared_error',\n",
        "    loss='sparse_categorical_crossentropy',\n",
        "    metrics=['accuracy']\n",
        ")"
      ]
    },
    {
      "cell_type": "markdown",
      "metadata": {
        "id": "7XI0j1Iu9hE2"
      },
      "source": [
        "# Model training"
      ]
    },
    {
      "cell_type": "code",
      "execution_count": 445,
      "metadata": {
        "colab": {
          "base_uri": "https://localhost:8080/"
        },
        "id": "WirBl-JE9hE3",
        "outputId": "71b30ca2-8294-4d9d-8aa2-800d90d399de",
        "scrolled": true
      },
      "outputs": [
        {
          "name": "stdout",
          "output_type": "stream",
          "text": [
            "Epoch 1/1000\n",
            "44/60 [=====================>........] - ETA: 0s - loss: 3.1440 - accuracy: 0.0854\n",
            "Epoch 1: saving model to model/keypoint_classifier\\keypoint_classifier.hdf5\n",
            "60/60 [==============================] - 1s 6ms/step - loss: 3.0949 - accuracy: 0.1093 - val_loss: 2.8286 - val_accuracy: 0.1912\n",
            "Epoch 2/1000\n",
            "50/60 [========================>.....] - ETA: 0s - loss: 2.6917 - accuracy: 0.2244\n",
            "Epoch 2: saving model to model/keypoint_classifier\\keypoint_classifier.hdf5\n",
            "60/60 [==============================] - 0s 3ms/step - loss: 2.6547 - accuracy: 0.2338 - val_loss: 2.2619 - val_accuracy: 0.3510\n",
            "Epoch 3/1000\n",
            "51/60 [========================>.....] - ETA: 0s - loss: 2.2231 - accuracy: 0.3326\n",
            "Epoch 3: saving model to model/keypoint_classifier\\keypoint_classifier.hdf5\n",
            "60/60 [==============================] - 0s 3ms/step - loss: 2.1994 - accuracy: 0.3343 - val_loss: 1.7893 - val_accuracy: 0.5243\n",
            "Epoch 4/1000\n",
            "50/60 [========================>.....] - ETA: 0s - loss: 1.8852 - accuracy: 0.3852\n",
            "Epoch 4: saving model to model/keypoint_classifier\\keypoint_classifier.hdf5\n",
            "60/60 [==============================] - 0s 3ms/step - loss: 1.8637 - accuracy: 0.3887 - val_loss: 1.4385 - val_accuracy: 0.5435\n",
            "Epoch 5/1000\n",
            "52/60 [=========================>....] - ETA: 0s - loss: 1.6200 - accuracy: 0.4542\n",
            "Epoch 5: saving model to model/keypoint_classifier\\keypoint_classifier.hdf5\n",
            "60/60 [==============================] - 0s 3ms/step - loss: 1.6088 - accuracy: 0.4568 - val_loss: 1.1457 - val_accuracy: 0.6863\n",
            "Epoch 6/1000\n",
            "46/60 [======================>.......] - ETA: 0s - loss: 1.4350 - accuracy: 0.5025\n",
            "Epoch 6: saving model to model/keypoint_classifier\\keypoint_classifier.hdf5\n",
            "60/60 [==============================] - 0s 3ms/step - loss: 1.4173 - accuracy: 0.5061 - val_loss: 0.9321 - val_accuracy: 0.8383\n",
            "Epoch 7/1000\n",
            "51/60 [========================>.....] - ETA: 0s - loss: 1.2714 - accuracy: 0.5555\n",
            "Epoch 7: saving model to model/keypoint_classifier\\keypoint_classifier.hdf5\n",
            "60/60 [==============================] - 0s 3ms/step - loss: 1.2613 - accuracy: 0.5591 - val_loss: 0.7641 - val_accuracy: 0.8569\n",
            "Epoch 8/1000\n",
            "47/60 [======================>.......] - ETA: 0s - loss: 1.1639 - accuracy: 0.5918\n",
            "Epoch 8: saving model to model/keypoint_classifier\\keypoint_classifier.hdf5\n",
            "60/60 [==============================] - 0s 3ms/step - loss: 1.1537 - accuracy: 0.5950 - val_loss: 0.6634 - val_accuracy: 0.8745\n",
            "Epoch 9/1000\n",
            "49/60 [=======================>......] - ETA: 0s - loss: 1.0657 - accuracy: 0.6242\n",
            "Epoch 9: saving model to model/keypoint_classifier\\keypoint_classifier.hdf5\n",
            "60/60 [==============================] - 0s 3ms/step - loss: 1.0613 - accuracy: 0.6261 - val_loss: 0.5769 - val_accuracy: 0.9147\n",
            "Epoch 10/1000\n",
            "52/60 [=========================>....] - ETA: 0s - loss: 1.0010 - accuracy: 0.6456\n",
            "Epoch 10: saving model to model/keypoint_classifier\\keypoint_classifier.hdf5\n",
            "60/60 [==============================] - 0s 3ms/step - loss: 0.9982 - accuracy: 0.6459 - val_loss: 0.5141 - val_accuracy: 0.8943\n",
            "Epoch 11/1000\n",
            "50/60 [========================>.....] - ETA: 0s - loss: 0.9416 - accuracy: 0.6669\n",
            "Epoch 11: saving model to model/keypoint_classifier\\keypoint_classifier.hdf5\n",
            "60/60 [==============================] - 0s 3ms/step - loss: 0.9382 - accuracy: 0.6688 - val_loss: 0.4666 - val_accuracy: 0.9608\n",
            "Epoch 12/1000\n",
            "52/60 [=========================>....] - ETA: 0s - loss: 0.9022 - accuracy: 0.6800\n",
            "Epoch 12: saving model to model/keypoint_classifier\\keypoint_classifier.hdf5\n",
            "60/60 [==============================] - 0s 3ms/step - loss: 0.8950 - accuracy: 0.6826 - val_loss: 0.4145 - val_accuracy: 0.9375\n",
            "Epoch 13/1000\n",
            "50/60 [========================>.....] - ETA: 0s - loss: 0.8491 - accuracy: 0.7022\n",
            "Epoch 13: saving model to model/keypoint_classifier\\keypoint_classifier.hdf5\n",
            "60/60 [==============================] - 0s 4ms/step - loss: 0.8435 - accuracy: 0.7050 - val_loss: 0.3733 - val_accuracy: 0.9669\n",
            "Epoch 14/1000\n",
            "46/60 [======================>.......] - ETA: 0s - loss: 0.8065 - accuracy: 0.7205\n",
            "Epoch 14: saving model to model/keypoint_classifier\\keypoint_classifier.hdf5\n",
            "60/60 [==============================] - 0s 3ms/step - loss: 0.8052 - accuracy: 0.7190 - val_loss: 0.3394 - val_accuracy: 0.9929\n",
            "Epoch 15/1000\n",
            "51/60 [========================>.....] - ETA: 0s - loss: 0.7828 - accuracy: 0.7312\n",
            "Epoch 15: saving model to model/keypoint_classifier\\keypoint_classifier.hdf5\n",
            "60/60 [==============================] - 0s 3ms/step - loss: 0.7815 - accuracy: 0.7320 - val_loss: 0.3217 - val_accuracy: 0.9869\n",
            "Epoch 16/1000\n",
            "51/60 [========================>.....] - ETA: 0s - loss: 0.7525 - accuracy: 0.7374\n",
            "Epoch 16: saving model to model/keypoint_classifier\\keypoint_classifier.hdf5\n",
            "60/60 [==============================] - 0s 3ms/step - loss: 0.7500 - accuracy: 0.7380 - val_loss: 0.2902 - val_accuracy: 0.9887\n",
            "Epoch 17/1000\n",
            "52/60 [=========================>....] - ETA: 0s - loss: 0.7365 - accuracy: 0.7431\n",
            "Epoch 17: saving model to model/keypoint_classifier\\keypoint_classifier.hdf5\n",
            "60/60 [==============================] - 0s 3ms/step - loss: 0.7329 - accuracy: 0.7446 - val_loss: 0.2657 - val_accuracy: 0.9962\n",
            "Epoch 18/1000\n",
            "41/60 [===================>..........] - ETA: 0s - loss: 0.7140 - accuracy: 0.7487\n",
            "Epoch 18: saving model to model/keypoint_classifier\\keypoint_classifier.hdf5\n",
            "60/60 [==============================] - 0s 4ms/step - loss: 0.7066 - accuracy: 0.7549 - val_loss: 0.2525 - val_accuracy: 0.9895\n",
            "Epoch 19/1000\n",
            "45/60 [=====================>........] - ETA: 0s - loss: 0.6932 - accuracy: 0.7576\n",
            "Epoch 19: saving model to model/keypoint_classifier\\keypoint_classifier.hdf5\n",
            "60/60 [==============================] - 0s 3ms/step - loss: 0.6918 - accuracy: 0.7599 - val_loss: 0.2380 - val_accuracy: 0.9879\n",
            "Epoch 20/1000\n",
            "49/60 [=======================>......] - ETA: 0s - loss: 0.6540 - accuracy: 0.7713\n",
            "Epoch 20: saving model to model/keypoint_classifier\\keypoint_classifier.hdf5\n",
            "60/60 [==============================] - 0s 3ms/step - loss: 0.6569 - accuracy: 0.7719 - val_loss: 0.2167 - val_accuracy: 0.9897\n",
            "Epoch 21/1000\n",
            "52/60 [=========================>....] - ETA: 0s - loss: 0.6588 - accuracy: 0.7691\n",
            "Epoch 21: saving model to model/keypoint_classifier\\keypoint_classifier.hdf5\n",
            "60/60 [==============================] - 0s 3ms/step - loss: 0.6574 - accuracy: 0.7700 - val_loss: 0.2042 - val_accuracy: 0.9925\n",
            "Epoch 22/1000\n",
            "52/60 [=========================>....] - ETA: 0s - loss: 0.6442 - accuracy: 0.7764\n",
            "Epoch 22: saving model to model/keypoint_classifier\\keypoint_classifier.hdf5\n",
            "60/60 [==============================] - 0s 3ms/step - loss: 0.6426 - accuracy: 0.7764 - val_loss: 0.1873 - val_accuracy: 0.9923\n",
            "Epoch 23/1000\n",
            "51/60 [========================>.....] - ETA: 0s - loss: 0.6296 - accuracy: 0.7846\n",
            "Epoch 23: saving model to model/keypoint_classifier\\keypoint_classifier.hdf5\n",
            "60/60 [==============================] - 0s 3ms/step - loss: 0.6280 - accuracy: 0.7847 - val_loss: 0.1856 - val_accuracy: 0.9879\n",
            "Epoch 24/1000\n",
            "47/60 [======================>.......] - ETA: 0s - loss: 0.6165 - accuracy: 0.7847\n",
            "Epoch 24: saving model to model/keypoint_classifier\\keypoint_classifier.hdf5\n",
            "60/60 [==============================] - 0s 3ms/step - loss: 0.6122 - accuracy: 0.7867 - val_loss: 0.1710 - val_accuracy: 0.9917\n",
            "Epoch 25/1000\n",
            "46/60 [======================>.......] - ETA: 0s - loss: 0.5934 - accuracy: 0.7903\n",
            "Epoch 25: saving model to model/keypoint_classifier\\keypoint_classifier.hdf5\n",
            "60/60 [==============================] - 0s 3ms/step - loss: 0.5898 - accuracy: 0.7902 - val_loss: 0.1589 - val_accuracy: 0.9968\n",
            "Epoch 26/1000\n",
            "53/60 [=========================>....] - ETA: 0s - loss: 0.5720 - accuracy: 0.7991\n",
            "Epoch 26: saving model to model/keypoint_classifier\\keypoint_classifier.hdf5\n",
            "60/60 [==============================] - 0s 3ms/step - loss: 0.5792 - accuracy: 0.7968 - val_loss: 0.1593 - val_accuracy: 0.9895\n",
            "Epoch 27/1000\n",
            "49/60 [=======================>......] - ETA: 0s - loss: 0.5776 - accuracy: 0.8011\n",
            "Epoch 27: saving model to model/keypoint_classifier\\keypoint_classifier.hdf5\n",
            "60/60 [==============================] - 0s 3ms/step - loss: 0.5750 - accuracy: 0.8009 - val_loss: 0.1515 - val_accuracy: 0.9879\n",
            "Epoch 28/1000\n",
            "43/60 [====================>.........] - ETA: 0s - loss: 0.5650 - accuracy: 0.7965\n",
            "Epoch 28: saving model to model/keypoint_classifier\\keypoint_classifier.hdf5\n",
            "60/60 [==============================] - 0s 3ms/step - loss: 0.5681 - accuracy: 0.7987 - val_loss: 0.1411 - val_accuracy: 0.9952\n",
            "Epoch 29/1000\n",
            "49/60 [=======================>......] - ETA: 0s - loss: 0.5664 - accuracy: 0.8044\n",
            "Epoch 29: saving model to model/keypoint_classifier\\keypoint_classifier.hdf5\n",
            "60/60 [==============================] - 0s 4ms/step - loss: 0.5592 - accuracy: 0.8071 - val_loss: 0.1328 - val_accuracy: 0.9943\n",
            "Epoch 30/1000\n",
            "49/60 [=======================>......] - ETA: 0s - loss: 0.5493 - accuracy: 0.8090\n",
            "Epoch 30: saving model to model/keypoint_classifier\\keypoint_classifier.hdf5\n",
            "60/60 [==============================] - 0s 3ms/step - loss: 0.5544 - accuracy: 0.8070 - val_loss: 0.1302 - val_accuracy: 0.9881\n",
            "Epoch 31/1000\n",
            "45/60 [=====================>........] - ETA: 0s - loss: 0.5452 - accuracy: 0.8090\n",
            "Epoch 31: saving model to model/keypoint_classifier\\keypoint_classifier.hdf5\n",
            "60/60 [==============================] - 0s 4ms/step - loss: 0.5436 - accuracy: 0.8098 - val_loss: 0.1319 - val_accuracy: 0.9952\n",
            "Epoch 32/1000\n",
            "47/60 [======================>.......] - ETA: 0s - loss: 0.5251 - accuracy: 0.8185\n",
            "Epoch 32: saving model to model/keypoint_classifier\\keypoint_classifier.hdf5\n",
            "60/60 [==============================] - 0s 3ms/step - loss: 0.5246 - accuracy: 0.8182 - val_loss: 0.1239 - val_accuracy: 0.9923\n",
            "Epoch 33/1000\n",
            "47/60 [======================>.......] - ETA: 0s - loss: 0.5303 - accuracy: 0.8144\n",
            "Epoch 33: saving model to model/keypoint_classifier\\keypoint_classifier.hdf5\n",
            "60/60 [==============================] - 0s 4ms/step - loss: 0.5271 - accuracy: 0.8153 - val_loss: 0.1177 - val_accuracy: 0.9923\n",
            "Epoch 34/1000\n",
            "48/60 [=======================>......] - ETA: 0s - loss: 0.5314 - accuracy: 0.8208\n",
            "Epoch 34: saving model to model/keypoint_classifier\\keypoint_classifier.hdf5\n",
            "60/60 [==============================] - 0s 4ms/step - loss: 0.5259 - accuracy: 0.8209 - val_loss: 0.1169 - val_accuracy: 0.9915\n",
            "Epoch 35/1000\n",
            "43/60 [====================>.........] - ETA: 0s - loss: 0.5078 - accuracy: 0.8239\n",
            "Epoch 35: saving model to model/keypoint_classifier\\keypoint_classifier.hdf5\n",
            "60/60 [==============================] - 0s 4ms/step - loss: 0.5098 - accuracy: 0.8243 - val_loss: 0.1160 - val_accuracy: 0.9921\n",
            "Epoch 36/1000\n",
            "49/60 [=======================>......] - ETA: 0s - loss: 0.5070 - accuracy: 0.8212\n",
            "Epoch 36: saving model to model/keypoint_classifier\\keypoint_classifier.hdf5\n",
            "60/60 [==============================] - 0s 4ms/step - loss: 0.5047 - accuracy: 0.8224 - val_loss: 0.1143 - val_accuracy: 0.9937\n",
            "Epoch 37/1000\n",
            "48/60 [=======================>......] - ETA: 0s - loss: 0.5112 - accuracy: 0.8245\n",
            "Epoch 37: saving model to model/keypoint_classifier\\keypoint_classifier.hdf5\n",
            "60/60 [==============================] - 0s 3ms/step - loss: 0.5099 - accuracy: 0.8256 - val_loss: 0.1096 - val_accuracy: 0.9972\n",
            "Epoch 38/1000\n",
            "41/60 [===================>..........] - ETA: 0s - loss: 0.5011 - accuracy: 0.8291\n",
            "Epoch 38: saving model to model/keypoint_classifier\\keypoint_classifier.hdf5\n",
            "60/60 [==============================] - 0s 4ms/step - loss: 0.4994 - accuracy: 0.8298 - val_loss: 0.1053 - val_accuracy: 0.9952\n",
            "Epoch 39/1000\n",
            "50/60 [========================>.....] - ETA: 0s - loss: 0.4937 - accuracy: 0.8324\n",
            "Epoch 39: saving model to model/keypoint_classifier\\keypoint_classifier.hdf5\n",
            "60/60 [==============================] - 0s 4ms/step - loss: 0.4962 - accuracy: 0.8309 - val_loss: 0.1066 - val_accuracy: 0.9958\n",
            "Epoch 40/1000\n",
            "40/60 [===================>..........] - ETA: 0s - loss: 0.4844 - accuracy: 0.8323\n",
            "Epoch 40: saving model to model/keypoint_classifier\\keypoint_classifier.hdf5\n",
            "60/60 [==============================] - 0s 4ms/step - loss: 0.4898 - accuracy: 0.8324 - val_loss: 0.0961 - val_accuracy: 0.9956\n",
            "Epoch 41/1000\n",
            "40/60 [===================>..........] - ETA: 0s - loss: 0.4809 - accuracy: 0.8378\n",
            "Epoch 41: saving model to model/keypoint_classifier\\keypoint_classifier.hdf5\n",
            "60/60 [==============================] - 0s 4ms/step - loss: 0.4739 - accuracy: 0.8383 - val_loss: 0.1023 - val_accuracy: 0.9875\n",
            "Epoch 42/1000\n",
            "48/60 [=======================>......] - ETA: 0s - loss: 0.4750 - accuracy: 0.8383\n",
            "Epoch 42: saving model to model/keypoint_classifier\\keypoint_classifier.hdf5\n",
            "60/60 [==============================] - 0s 4ms/step - loss: 0.4801 - accuracy: 0.8362 - val_loss: 0.0978 - val_accuracy: 0.9937\n",
            "Epoch 43/1000\n",
            "53/60 [=========================>....] - ETA: 0s - loss: 0.4834 - accuracy: 0.8344\n",
            "Epoch 43: saving model to model/keypoint_classifier\\keypoint_classifier.hdf5\n",
            "60/60 [==============================] - 0s 3ms/step - loss: 0.4828 - accuracy: 0.8346 - val_loss: 0.0962 - val_accuracy: 0.9956\n",
            "Epoch 44/1000\n",
            "52/60 [=========================>....] - ETA: 0s - loss: 0.4636 - accuracy: 0.8416\n",
            "Epoch 44: saving model to model/keypoint_classifier\\keypoint_classifier.hdf5\n",
            "60/60 [==============================] - 0s 3ms/step - loss: 0.4618 - accuracy: 0.8423 - val_loss: 0.0964 - val_accuracy: 0.9905\n",
            "Epoch 45/1000\n",
            "50/60 [========================>.....] - ETA: 0s - loss: 0.4524 - accuracy: 0.8444\n",
            "Epoch 45: saving model to model/keypoint_classifier\\keypoint_classifier.hdf5\n",
            "60/60 [==============================] - 0s 4ms/step - loss: 0.4512 - accuracy: 0.8457 - val_loss: 0.0938 - val_accuracy: 0.9929\n",
            "Epoch 46/1000\n",
            "44/60 [=====================>........] - ETA: 0s - loss: 0.4691 - accuracy: 0.8369\n",
            "Epoch 46: saving model to model/keypoint_classifier\\keypoint_classifier.hdf5\n",
            "60/60 [==============================] - 0s 3ms/step - loss: 0.4674 - accuracy: 0.8391 - val_loss: 0.0928 - val_accuracy: 0.9921\n",
            "Epoch 47/1000\n",
            "48/60 [=======================>......] - ETA: 0s - loss: 0.4486 - accuracy: 0.8477\n",
            "Epoch 47: saving model to model/keypoint_classifier\\keypoint_classifier.hdf5\n",
            "60/60 [==============================] - 0s 3ms/step - loss: 0.4553 - accuracy: 0.8451 - val_loss: 0.0896 - val_accuracy: 0.9958\n",
            "Epoch 48/1000\n",
            "47/60 [======================>.......] - ETA: 0s - loss: 0.4575 - accuracy: 0.8452\n",
            "Epoch 48: saving model to model/keypoint_classifier\\keypoint_classifier.hdf5\n",
            "60/60 [==============================] - 0s 3ms/step - loss: 0.4554 - accuracy: 0.8459 - val_loss: 0.0868 - val_accuracy: 0.9915\n",
            "Epoch 49/1000\n",
            "47/60 [======================>.......] - ETA: 0s - loss: 0.4495 - accuracy: 0.8449\n",
            "Epoch 49: saving model to model/keypoint_classifier\\keypoint_classifier.hdf5\n",
            "60/60 [==============================] - 0s 4ms/step - loss: 0.4478 - accuracy: 0.8460 - val_loss: 0.0818 - val_accuracy: 0.9972\n",
            "Epoch 50/1000\n",
            "44/60 [=====================>........] - ETA: 0s - loss: 0.4486 - accuracy: 0.8506\n",
            "Epoch 50: saving model to model/keypoint_classifier\\keypoint_classifier.hdf5\n",
            "60/60 [==============================] - 0s 4ms/step - loss: 0.4486 - accuracy: 0.8490 - val_loss: 0.0815 - val_accuracy: 0.9956\n",
            "Epoch 51/1000\n",
            "39/60 [==================>...........] - ETA: 0s - loss: 0.4446 - accuracy: 0.8497\n",
            "Epoch 51: saving model to model/keypoint_classifier\\keypoint_classifier.hdf5\n",
            "60/60 [==============================] - 0s 4ms/step - loss: 0.4451 - accuracy: 0.8481 - val_loss: 0.0823 - val_accuracy: 0.9949\n",
            "Epoch 52/1000\n",
            "44/60 [=====================>........] - ETA: 0s - loss: 0.4561 - accuracy: 0.8447\n",
            "Epoch 52: saving model to model/keypoint_classifier\\keypoint_classifier.hdf5\n",
            "60/60 [==============================] - 0s 4ms/step - loss: 0.4537 - accuracy: 0.8440 - val_loss: 0.0842 - val_accuracy: 0.9925\n",
            "Epoch 53/1000\n",
            "46/60 [======================>.......] - ETA: 0s - loss: 0.4346 - accuracy: 0.8492\n",
            "Epoch 53: saving model to model/keypoint_classifier\\keypoint_classifier.hdf5\n",
            "60/60 [==============================] - 0s 4ms/step - loss: 0.4319 - accuracy: 0.8495 - val_loss: 0.0805 - val_accuracy: 0.9956\n",
            "Epoch 54/1000\n",
            "59/60 [============================>.] - ETA: 0s - loss: 0.4290 - accuracy: 0.8522\n",
            "Epoch 54: saving model to model/keypoint_classifier\\keypoint_classifier.hdf5\n",
            "60/60 [==============================] - 0s 4ms/step - loss: 0.4289 - accuracy: 0.8522 - val_loss: 0.0765 - val_accuracy: 0.9972\n",
            "Epoch 55/1000\n",
            "42/60 [====================>.........] - ETA: 0s - loss: 0.4348 - accuracy: 0.8527\n",
            "Epoch 55: saving model to model/keypoint_classifier\\keypoint_classifier.hdf5\n",
            "60/60 [==============================] - 0s 4ms/step - loss: 0.4308 - accuracy: 0.8547 - val_loss: 0.0733 - val_accuracy: 0.9935\n",
            "Epoch 56/1000\n",
            "47/60 [======================>.......] - ETA: 0s - loss: 0.4193 - accuracy: 0.8543\n",
            "Epoch 56: saving model to model/keypoint_classifier\\keypoint_classifier.hdf5\n",
            "60/60 [==============================] - 0s 3ms/step - loss: 0.4199 - accuracy: 0.8549 - val_loss: 0.0799 - val_accuracy: 0.9970\n",
            "Epoch 57/1000\n",
            "49/60 [=======================>......] - ETA: 0s - loss: 0.4272 - accuracy: 0.8561\n",
            "Epoch 57: saving model to model/keypoint_classifier\\keypoint_classifier.hdf5\n",
            "60/60 [==============================] - 0s 3ms/step - loss: 0.4270 - accuracy: 0.8556 - val_loss: 0.0732 - val_accuracy: 0.9972\n",
            "Epoch 58/1000\n",
            "44/60 [=====================>........] - ETA: 0s - loss: 0.4279 - accuracy: 0.8569\n",
            "Epoch 58: saving model to model/keypoint_classifier\\keypoint_classifier.hdf5\n",
            "60/60 [==============================] - 0s 3ms/step - loss: 0.4311 - accuracy: 0.8546 - val_loss: 0.0789 - val_accuracy: 0.9992\n",
            "Epoch 59/1000\n",
            "44/60 [=====================>........] - ETA: 0s - loss: 0.4324 - accuracy: 0.8529\n",
            "Epoch 59: saving model to model/keypoint_classifier\\keypoint_classifier.hdf5\n",
            "60/60 [==============================] - 0s 4ms/step - loss: 0.4288 - accuracy: 0.8544 - val_loss: 0.0700 - val_accuracy: 0.9986\n",
            "Epoch 60/1000\n",
            "45/60 [=====================>........] - ETA: 0s - loss: 0.4072 - accuracy: 0.8603\n",
            "Epoch 60: saving model to model/keypoint_classifier\\keypoint_classifier.hdf5\n",
            "60/60 [==============================] - 0s 4ms/step - loss: 0.4049 - accuracy: 0.8609 - val_loss: 0.0690 - val_accuracy: 0.9990\n",
            "Epoch 61/1000\n",
            "51/60 [========================>.....] - ETA: 0s - loss: 0.3997 - accuracy: 0.8630\n",
            "Epoch 61: saving model to model/keypoint_classifier\\keypoint_classifier.hdf5\n",
            "60/60 [==============================] - 0s 3ms/step - loss: 0.4023 - accuracy: 0.8612 - val_loss: 0.0604 - val_accuracy: 0.9974\n",
            "Epoch 62/1000\n",
            "40/60 [===================>..........] - ETA: 0s - loss: 0.4049 - accuracy: 0.8625\n",
            "Epoch 62: saving model to model/keypoint_classifier\\keypoint_classifier.hdf5\n",
            "60/60 [==============================] - 0s 4ms/step - loss: 0.4086 - accuracy: 0.8635 - val_loss: 0.0581 - val_accuracy: 0.9980\n",
            "Epoch 63/1000\n",
            "49/60 [=======================>......] - ETA: 0s - loss: 0.4092 - accuracy: 0.8614\n",
            "Epoch 63: saving model to model/keypoint_classifier\\keypoint_classifier.hdf5\n",
            "60/60 [==============================] - 0s 3ms/step - loss: 0.4091 - accuracy: 0.8600 - val_loss: 0.0627 - val_accuracy: 0.9992\n",
            "Epoch 64/1000\n",
            "48/60 [=======================>......] - ETA: 0s - loss: 0.4053 - accuracy: 0.8627\n",
            "Epoch 64: saving model to model/keypoint_classifier\\keypoint_classifier.hdf5\n",
            "60/60 [==============================] - 0s 3ms/step - loss: 0.4065 - accuracy: 0.8610 - val_loss: 0.0613 - val_accuracy: 0.9972\n",
            "Epoch 65/1000\n",
            "50/60 [========================>.....] - ETA: 0s - loss: 0.4087 - accuracy: 0.8590\n",
            "Epoch 65: saving model to model/keypoint_classifier\\keypoint_classifier.hdf5\n",
            "60/60 [==============================] - 0s 3ms/step - loss: 0.4060 - accuracy: 0.8603 - val_loss: 0.0605 - val_accuracy: 0.9992\n",
            "Epoch 66/1000\n",
            "40/60 [===================>..........] - ETA: 0s - loss: 0.3925 - accuracy: 0.8660\n",
            "Epoch 66: saving model to model/keypoint_classifier\\keypoint_classifier.hdf5\n",
            "60/60 [==============================] - 0s 4ms/step - loss: 0.3979 - accuracy: 0.8629 - val_loss: 0.0565 - val_accuracy: 0.9994\n",
            "Epoch 67/1000\n",
            "55/60 [==========================>...] - ETA: 0s - loss: 0.4001 - accuracy: 0.8616\n",
            "Epoch 67: saving model to model/keypoint_classifier\\keypoint_classifier.hdf5\n",
            "60/60 [==============================] - 0s 3ms/step - loss: 0.3997 - accuracy: 0.8616 - val_loss: 0.0570 - val_accuracy: 0.9992\n",
            "Epoch 68/1000\n",
            "46/60 [======================>.......] - ETA: 0s - loss: 0.4054 - accuracy: 0.8606\n",
            "Epoch 68: saving model to model/keypoint_classifier\\keypoint_classifier.hdf5\n",
            "60/60 [==============================] - 0s 4ms/step - loss: 0.3992 - accuracy: 0.8619 - val_loss: 0.0550 - val_accuracy: 0.9994\n",
            "Epoch 69/1000\n",
            "46/60 [======================>.......] - ETA: 0s - loss: 0.3890 - accuracy: 0.8646\n",
            "Epoch 69: saving model to model/keypoint_classifier\\keypoint_classifier.hdf5\n",
            "60/60 [==============================] - 0s 3ms/step - loss: 0.3903 - accuracy: 0.8650 - val_loss: 0.0584 - val_accuracy: 0.9972\n",
            "Epoch 70/1000\n",
            "46/60 [======================>.......] - ETA: 0s - loss: 0.4020 - accuracy: 0.8652\n",
            "Epoch 70: saving model to model/keypoint_classifier\\keypoint_classifier.hdf5\n",
            "60/60 [==============================] - 0s 4ms/step - loss: 0.4021 - accuracy: 0.8653 - val_loss: 0.0578 - val_accuracy: 0.9974\n",
            "Epoch 71/1000\n",
            "46/60 [======================>.......] - ETA: 0s - loss: 0.4177 - accuracy: 0.8594\n",
            "Epoch 71: saving model to model/keypoint_classifier\\keypoint_classifier.hdf5\n",
            "60/60 [==============================] - 0s 4ms/step - loss: 0.4168 - accuracy: 0.8596 - val_loss: 0.0577 - val_accuracy: 0.9960\n",
            "Epoch 72/1000\n",
            "44/60 [=====================>........] - ETA: 0s - loss: 0.3901 - accuracy: 0.8693\n",
            "Epoch 72: saving model to model/keypoint_classifier\\keypoint_classifier.hdf5\n",
            "60/60 [==============================] - 0s 4ms/step - loss: 0.3851 - accuracy: 0.8697 - val_loss: 0.0519 - val_accuracy: 1.0000\n",
            "Epoch 73/1000\n",
            "48/60 [=======================>......] - ETA: 0s - loss: 0.3995 - accuracy: 0.8647\n",
            "Epoch 73: saving model to model/keypoint_classifier\\keypoint_classifier.hdf5\n",
            "60/60 [==============================] - 0s 3ms/step - loss: 0.3949 - accuracy: 0.8659 - val_loss: 0.0534 - val_accuracy: 0.9992\n",
            "Epoch 74/1000\n",
            "53/60 [=========================>....] - ETA: 0s - loss: 0.3821 - accuracy: 0.8681\n",
            "Epoch 74: saving model to model/keypoint_classifier\\keypoint_classifier.hdf5\n",
            "60/60 [==============================] - 0s 3ms/step - loss: 0.3826 - accuracy: 0.8688 - val_loss: 0.0504 - val_accuracy: 0.9994\n",
            "Epoch 75/1000\n",
            "48/60 [=======================>......] - ETA: 0s - loss: 0.3821 - accuracy: 0.8674\n",
            "Epoch 75: saving model to model/keypoint_classifier\\keypoint_classifier.hdf5\n",
            "60/60 [==============================] - 0s 3ms/step - loss: 0.3818 - accuracy: 0.8677 - val_loss: 0.0488 - val_accuracy: 0.9976\n",
            "Epoch 76/1000\n",
            "47/60 [======================>.......] - ETA: 0s - loss: 0.3848 - accuracy: 0.8710\n",
            "Epoch 76: saving model to model/keypoint_classifier\\keypoint_classifier.hdf5\n",
            "60/60 [==============================] - 0s 4ms/step - loss: 0.3803 - accuracy: 0.8707 - val_loss: 0.0476 - val_accuracy: 0.9992\n",
            "Epoch 77/1000\n",
            "54/60 [==========================>...] - ETA: 0s - loss: 0.3803 - accuracy: 0.8733\n",
            "Epoch 77: saving model to model/keypoint_classifier\\keypoint_classifier.hdf5\n",
            "60/60 [==============================] - 0s 5ms/step - loss: 0.3810 - accuracy: 0.8734 - val_loss: 0.0462 - val_accuracy: 1.0000\n",
            "Epoch 78/1000\n",
            "50/60 [========================>.....] - ETA: 0s - loss: 0.3781 - accuracy: 0.8720\n",
            "Epoch 78: saving model to model/keypoint_classifier\\keypoint_classifier.hdf5\n",
            "60/60 [==============================] - 0s 3ms/step - loss: 0.3776 - accuracy: 0.8723 - val_loss: 0.0469 - val_accuracy: 0.9996\n",
            "Epoch 79/1000\n",
            "48/60 [=======================>......] - ETA: 0s - loss: 0.3742 - accuracy: 0.8755\n",
            "Epoch 79: saving model to model/keypoint_classifier\\keypoint_classifier.hdf5\n",
            "60/60 [==============================] - 0s 3ms/step - loss: 0.3729 - accuracy: 0.8746 - val_loss: 0.0476 - val_accuracy: 0.9994\n",
            "Epoch 80/1000\n",
            "47/60 [======================>.......] - ETA: 0s - loss: 0.3750 - accuracy: 0.8758\n",
            "Epoch 80: saving model to model/keypoint_classifier\\keypoint_classifier.hdf5\n",
            "60/60 [==============================] - 0s 3ms/step - loss: 0.3787 - accuracy: 0.8758 - val_loss: 0.0455 - val_accuracy: 0.9994\n",
            "Epoch 81/1000\n",
            "46/60 [======================>.......] - ETA: 0s - loss: 0.3735 - accuracy: 0.8737\n",
            "Epoch 81: saving model to model/keypoint_classifier\\keypoint_classifier.hdf5\n",
            "60/60 [==============================] - 0s 3ms/step - loss: 0.3753 - accuracy: 0.8722 - val_loss: 0.0455 - val_accuracy: 0.9994\n",
            "Epoch 82/1000\n",
            "53/60 [=========================>....] - ETA: 0s - loss: 0.3772 - accuracy: 0.8723\n",
            "Epoch 82: saving model to model/keypoint_classifier\\keypoint_classifier.hdf5\n",
            "60/60 [==============================] - 0s 3ms/step - loss: 0.3735 - accuracy: 0.8732 - val_loss: 0.0415 - val_accuracy: 1.0000\n",
            "Epoch 83/1000\n",
            "47/60 [======================>.......] - ETA: 0s - loss: 0.3695 - accuracy: 0.8711\n",
            "Epoch 83: saving model to model/keypoint_classifier\\keypoint_classifier.hdf5\n",
            "60/60 [==============================] - 0s 3ms/step - loss: 0.3679 - accuracy: 0.8728 - val_loss: 0.0439 - val_accuracy: 0.9994\n",
            "Epoch 84/1000\n",
            "44/60 [=====================>........] - ETA: 0s - loss: 0.3726 - accuracy: 0.8733\n",
            "Epoch 84: saving model to model/keypoint_classifier\\keypoint_classifier.hdf5\n",
            "60/60 [==============================] - 0s 3ms/step - loss: 0.3702 - accuracy: 0.8745 - val_loss: 0.0411 - val_accuracy: 0.9996\n",
            "Epoch 85/1000\n",
            "47/60 [======================>.......] - ETA: 0s - loss: 0.3719 - accuracy: 0.8748\n",
            "Epoch 85: saving model to model/keypoint_classifier\\keypoint_classifier.hdf5\n",
            "60/60 [==============================] - 0s 3ms/step - loss: 0.3686 - accuracy: 0.8763 - val_loss: 0.0430 - val_accuracy: 1.0000\n",
            "Epoch 86/1000\n",
            "54/60 [==========================>...] - ETA: 0s - loss: 0.3812 - accuracy: 0.8656\n",
            "Epoch 86: saving model to model/keypoint_classifier\\keypoint_classifier.hdf5\n",
            "60/60 [==============================] - 0s 4ms/step - loss: 0.3815 - accuracy: 0.8660 - val_loss: 0.0431 - val_accuracy: 1.0000\n",
            "Epoch 87/1000\n",
            "51/60 [========================>.....] - ETA: 0s - loss: 0.3717 - accuracy: 0.8748\n",
            "Epoch 87: saving model to model/keypoint_classifier\\keypoint_classifier.hdf5\n",
            "60/60 [==============================] - 0s 3ms/step - loss: 0.3730 - accuracy: 0.8755 - val_loss: 0.0402 - val_accuracy: 1.0000\n",
            "Epoch 88/1000\n",
            "52/60 [=========================>....] - ETA: 0s - loss: 0.3713 - accuracy: 0.8768\n",
            "Epoch 88: saving model to model/keypoint_classifier\\keypoint_classifier.hdf5\n",
            "60/60 [==============================] - 0s 3ms/step - loss: 0.3698 - accuracy: 0.8773 - val_loss: 0.0384 - val_accuracy: 0.9994\n",
            "Epoch 89/1000\n",
            "49/60 [=======================>......] - ETA: 0s - loss: 0.3771 - accuracy: 0.8719\n",
            "Epoch 89: saving model to model/keypoint_classifier\\keypoint_classifier.hdf5\n",
            "60/60 [==============================] - 0s 3ms/step - loss: 0.3710 - accuracy: 0.8743 - val_loss: 0.0401 - val_accuracy: 0.9996\n",
            "Epoch 90/1000\n",
            "47/60 [======================>.......] - ETA: 0s - loss: 0.3623 - accuracy: 0.8757\n",
            "Epoch 90: saving model to model/keypoint_classifier\\keypoint_classifier.hdf5\n",
            "60/60 [==============================] - 0s 3ms/step - loss: 0.3617 - accuracy: 0.8748 - val_loss: 0.0355 - val_accuracy: 1.0000\n",
            "Epoch 91/1000\n",
            "46/60 [======================>.......] - ETA: 0s - loss: 0.3576 - accuracy: 0.8770\n",
            "Epoch 91: saving model to model/keypoint_classifier\\keypoint_classifier.hdf5\n",
            "60/60 [==============================] - 0s 3ms/step - loss: 0.3562 - accuracy: 0.8784 - val_loss: 0.0379 - val_accuracy: 1.0000\n",
            "Epoch 92/1000\n",
            "47/60 [======================>.......] - ETA: 0s - loss: 0.3554 - accuracy: 0.8792\n",
            "Epoch 92: saving model to model/keypoint_classifier\\keypoint_classifier.hdf5\n",
            "60/60 [==============================] - 0s 4ms/step - loss: 0.3573 - accuracy: 0.8778 - val_loss: 0.0377 - val_accuracy: 0.9994\n",
            "Epoch 93/1000\n",
            "51/60 [========================>.....] - ETA: 0s - loss: 0.3643 - accuracy: 0.8798\n",
            "Epoch 93: saving model to model/keypoint_classifier\\keypoint_classifier.hdf5\n",
            "60/60 [==============================] - 0s 3ms/step - loss: 0.3622 - accuracy: 0.8790 - val_loss: 0.0347 - val_accuracy: 1.0000\n",
            "Epoch 94/1000\n",
            "48/60 [=======================>......] - ETA: 0s - loss: 0.3679 - accuracy: 0.8761\n",
            "Epoch 94: saving model to model/keypoint_classifier\\keypoint_classifier.hdf5\n",
            "60/60 [==============================] - 0s 3ms/step - loss: 0.3647 - accuracy: 0.8757 - val_loss: 0.0335 - val_accuracy: 1.0000\n",
            "Epoch 95/1000\n",
            "51/60 [========================>.....] - ETA: 0s - loss: 0.3556 - accuracy: 0.8801\n",
            "Epoch 95: saving model to model/keypoint_classifier\\keypoint_classifier.hdf5\n",
            "60/60 [==============================] - 0s 4ms/step - loss: 0.3566 - accuracy: 0.8802 - val_loss: 0.0342 - val_accuracy: 1.0000\n",
            "Epoch 96/1000\n",
            "46/60 [======================>.......] - ETA: 0s - loss: 0.3575 - accuracy: 0.8766\n",
            "Epoch 96: saving model to model/keypoint_classifier\\keypoint_classifier.hdf5\n",
            "60/60 [==============================] - 0s 3ms/step - loss: 0.3538 - accuracy: 0.8777 - val_loss: 0.0337 - val_accuracy: 1.0000\n",
            "Epoch 97/1000\n",
            "41/60 [===================>..........] - ETA: 0s - loss: 0.3610 - accuracy: 0.8787\n",
            "Epoch 97: saving model to model/keypoint_classifier\\keypoint_classifier.hdf5\n",
            "60/60 [==============================] - 0s 4ms/step - loss: 0.3599 - accuracy: 0.8790 - val_loss: 0.0341 - val_accuracy: 1.0000\n",
            "Epoch 98/1000\n",
            "47/60 [======================>.......] - ETA: 0s - loss: 0.3490 - accuracy: 0.8842\n",
            "Epoch 98: saving model to model/keypoint_classifier\\keypoint_classifier.hdf5\n",
            "60/60 [==============================] - 0s 3ms/step - loss: 0.3507 - accuracy: 0.8843 - val_loss: 0.0324 - val_accuracy: 1.0000\n",
            "Epoch 99/1000\n",
            "49/60 [=======================>......] - ETA: 0s - loss: 0.3593 - accuracy: 0.8796\n",
            "Epoch 99: saving model to model/keypoint_classifier\\keypoint_classifier.hdf5\n",
            "60/60 [==============================] - 0s 3ms/step - loss: 0.3584 - accuracy: 0.8791 - val_loss: 0.0323 - val_accuracy: 0.9996\n",
            "Epoch 100/1000\n",
            "46/60 [======================>.......] - ETA: 0s - loss: 0.3532 - accuracy: 0.8826\n",
            "Epoch 100: saving model to model/keypoint_classifier\\keypoint_classifier.hdf5\n",
            "60/60 [==============================] - 0s 4ms/step - loss: 0.3513 - accuracy: 0.8825 - val_loss: 0.0300 - val_accuracy: 1.0000\n",
            "Epoch 101/1000\n",
            "42/60 [====================>.........] - ETA: 0s - loss: 0.3550 - accuracy: 0.8814\n",
            "Epoch 101: saving model to model/keypoint_classifier\\keypoint_classifier.hdf5\n",
            "60/60 [==============================] - 0s 4ms/step - loss: 0.3495 - accuracy: 0.8832 - val_loss: 0.0315 - val_accuracy: 1.0000\n",
            "Epoch 102/1000\n",
            "46/60 [======================>.......] - ETA: 0s - loss: 0.3472 - accuracy: 0.8802\n",
            "Epoch 102: saving model to model/keypoint_classifier\\keypoint_classifier.hdf5\n",
            "60/60 [==============================] - 0s 4ms/step - loss: 0.3428 - accuracy: 0.8833 - val_loss: 0.0307 - val_accuracy: 1.0000\n",
            "Epoch 103/1000\n",
            "47/60 [======================>.......] - ETA: 0s - loss: 0.3548 - accuracy: 0.8782\n",
            "Epoch 103: saving model to model/keypoint_classifier\\keypoint_classifier.hdf5\n",
            "60/60 [==============================] - 0s 3ms/step - loss: 0.3569 - accuracy: 0.8779 - val_loss: 0.0345 - val_accuracy: 1.0000\n",
            "Epoch 104/1000\n",
            "49/60 [=======================>......] - ETA: 0s - loss: 0.3439 - accuracy: 0.8854\n",
            "Epoch 104: saving model to model/keypoint_classifier\\keypoint_classifier.hdf5\n",
            "60/60 [==============================] - 0s 3ms/step - loss: 0.3429 - accuracy: 0.8856 - val_loss: 0.0318 - val_accuracy: 1.0000\n",
            "Epoch 105/1000\n",
            "56/60 [===========================>..] - ETA: 0s - loss: 0.3457 - accuracy: 0.8832\n",
            "Epoch 105: saving model to model/keypoint_classifier\\keypoint_classifier.hdf5\n",
            "60/60 [==============================] - 0s 4ms/step - loss: 0.3446 - accuracy: 0.8841 - val_loss: 0.0290 - val_accuracy: 1.0000\n",
            "Epoch 106/1000\n",
            "60/60 [==============================] - ETA: 0s - loss: 0.3494 - accuracy: 0.8836\n",
            "Epoch 106: saving model to model/keypoint_classifier\\keypoint_classifier.hdf5\n",
            "60/60 [==============================] - 0s 4ms/step - loss: 0.3494 - accuracy: 0.8836 - val_loss: 0.0318 - val_accuracy: 1.0000\n",
            "Epoch 107/1000\n",
            "44/60 [=====================>........] - ETA: 0s - loss: 0.3479 - accuracy: 0.8839\n",
            "Epoch 107: saving model to model/keypoint_classifier\\keypoint_classifier.hdf5\n",
            "60/60 [==============================] - 0s 4ms/step - loss: 0.3487 - accuracy: 0.8833 - val_loss: 0.0285 - val_accuracy: 1.0000\n",
            "Epoch 108/1000\n",
            "51/60 [========================>.....] - ETA: 0s - loss: 0.3385 - accuracy: 0.8880\n",
            "Epoch 108: saving model to model/keypoint_classifier\\keypoint_classifier.hdf5\n",
            "60/60 [==============================] - 0s 4ms/step - loss: 0.3418 - accuracy: 0.8872 - val_loss: 0.0300 - val_accuracy: 1.0000\n",
            "Epoch 109/1000\n",
            "42/60 [====================>.........] - ETA: 0s - loss: 0.3523 - accuracy: 0.8823\n",
            "Epoch 109: saving model to model/keypoint_classifier\\keypoint_classifier.hdf5\n",
            "60/60 [==============================] - 0s 4ms/step - loss: 0.3525 - accuracy: 0.8809 - val_loss: 0.0274 - val_accuracy: 1.0000\n",
            "Epoch 110/1000\n",
            "46/60 [======================>.......] - ETA: 0s - loss: 0.3425 - accuracy: 0.8835\n",
            "Epoch 110: saving model to model/keypoint_classifier\\keypoint_classifier.hdf5\n",
            "60/60 [==============================] - 0s 4ms/step - loss: 0.3422 - accuracy: 0.8850 - val_loss: 0.0270 - val_accuracy: 1.0000\n",
            "Epoch 111/1000\n",
            "48/60 [=======================>......] - ETA: 0s - loss: 0.3413 - accuracy: 0.8853\n",
            "Epoch 111: saving model to model/keypoint_classifier\\keypoint_classifier.hdf5\n",
            "60/60 [==============================] - 0s 3ms/step - loss: 0.3400 - accuracy: 0.8859 - val_loss: 0.0274 - val_accuracy: 1.0000\n",
            "Epoch 112/1000\n",
            "46/60 [======================>.......] - ETA: 0s - loss: 0.3591 - accuracy: 0.8794\n",
            "Epoch 112: saving model to model/keypoint_classifier\\keypoint_classifier.hdf5\n",
            "60/60 [==============================] - 0s 3ms/step - loss: 0.3513 - accuracy: 0.8826 - val_loss: 0.0325 - val_accuracy: 1.0000\n",
            "Epoch 113/1000\n",
            "49/60 [=======================>......] - ETA: 0s - loss: 0.3302 - accuracy: 0.8892\n",
            "Epoch 113: saving model to model/keypoint_classifier\\keypoint_classifier.hdf5\n",
            "60/60 [==============================] - 0s 3ms/step - loss: 0.3353 - accuracy: 0.8872 - val_loss: 0.0287 - val_accuracy: 1.0000\n",
            "Epoch 114/1000\n",
            "49/60 [=======================>......] - ETA: 0s - loss: 0.3392 - accuracy: 0.8882\n",
            "Epoch 114: saving model to model/keypoint_classifier\\keypoint_classifier.hdf5\n",
            "60/60 [==============================] - 0s 4ms/step - loss: 0.3347 - accuracy: 0.8891 - val_loss: 0.0252 - val_accuracy: 1.0000\n",
            "Epoch 115/1000\n",
            "42/60 [====================>.........] - ETA: 0s - loss: 0.3453 - accuracy: 0.8822\n",
            "Epoch 115: saving model to model/keypoint_classifier\\keypoint_classifier.hdf5\n",
            "60/60 [==============================] - 0s 4ms/step - loss: 0.3463 - accuracy: 0.8803 - val_loss: 0.0296 - val_accuracy: 1.0000\n",
            "Epoch 116/1000\n",
            "51/60 [========================>.....] - ETA: 0s - loss: 0.3316 - accuracy: 0.8851\n",
            "Epoch 116: saving model to model/keypoint_classifier\\keypoint_classifier.hdf5\n",
            "60/60 [==============================] - 0s 3ms/step - loss: 0.3328 - accuracy: 0.8855 - val_loss: 0.0276 - val_accuracy: 1.0000\n",
            "Epoch 117/1000\n",
            "54/60 [==========================>...] - ETA: 0s - loss: 0.3443 - accuracy: 0.8835\n",
            "Epoch 117: saving model to model/keypoint_classifier\\keypoint_classifier.hdf5\n",
            "60/60 [==============================] - 0s 3ms/step - loss: 0.3400 - accuracy: 0.8854 - val_loss: 0.0254 - val_accuracy: 1.0000\n",
            "Epoch 118/1000\n",
            "48/60 [=======================>......] - ETA: 0s - loss: 0.3452 - accuracy: 0.8853\n",
            "Epoch 118: saving model to model/keypoint_classifier\\keypoint_classifier.hdf5\n",
            "60/60 [==============================] - 0s 3ms/step - loss: 0.3416 - accuracy: 0.8856 - val_loss: 0.0278 - val_accuracy: 1.0000\n",
            "Epoch 119/1000\n",
            "53/60 [=========================>....] - ETA: 0s - loss: 0.3341 - accuracy: 0.8863\n",
            "Epoch 119: saving model to model/keypoint_classifier\\keypoint_classifier.hdf5\n",
            "60/60 [==============================] - 0s 3ms/step - loss: 0.3333 - accuracy: 0.8876 - val_loss: 0.0256 - val_accuracy: 1.0000\n",
            "Epoch 120/1000\n",
            "46/60 [======================>.......] - ETA: 0s - loss: 0.3286 - accuracy: 0.8872\n",
            "Epoch 120: saving model to model/keypoint_classifier\\keypoint_classifier.hdf5\n",
            "60/60 [==============================] - 0s 3ms/step - loss: 0.3264 - accuracy: 0.8898 - val_loss: 0.0253 - val_accuracy: 1.0000\n",
            "Epoch 121/1000\n",
            "43/60 [====================>.........] - ETA: 0s - loss: 0.3332 - accuracy: 0.8920\n",
            "Epoch 121: saving model to model/keypoint_classifier\\keypoint_classifier.hdf5\n",
            "60/60 [==============================] - 0s 4ms/step - loss: 0.3320 - accuracy: 0.8911 - val_loss: 0.0248 - val_accuracy: 1.0000\n",
            "Epoch 122/1000\n",
            "47/60 [======================>.......] - ETA: 0s - loss: 0.3275 - accuracy: 0.8905\n",
            "Epoch 122: saving model to model/keypoint_classifier\\keypoint_classifier.hdf5\n",
            "60/60 [==============================] - 0s 3ms/step - loss: 0.3317 - accuracy: 0.8905 - val_loss: 0.0264 - val_accuracy: 1.0000\n",
            "Epoch 123/1000\n",
            "41/60 [===================>..........] - ETA: 0s - loss: 0.3303 - accuracy: 0.8882\n",
            "Epoch 123: saving model to model/keypoint_classifier\\keypoint_classifier.hdf5\n",
            "60/60 [==============================] - 0s 4ms/step - loss: 0.3374 - accuracy: 0.8867 - val_loss: 0.0256 - val_accuracy: 1.0000\n",
            "Epoch 124/1000\n",
            "48/60 [=======================>......] - ETA: 0s - loss: 0.3283 - accuracy: 0.8848\n",
            "Epoch 124: saving model to model/keypoint_classifier\\keypoint_classifier.hdf5\n",
            "60/60 [==============================] - 0s 4ms/step - loss: 0.3299 - accuracy: 0.8851 - val_loss: 0.0237 - val_accuracy: 1.0000\n",
            "Epoch 125/1000\n",
            "44/60 [=====================>........] - ETA: 0s - loss: 0.3339 - accuracy: 0.8892\n",
            "Epoch 125: saving model to model/keypoint_classifier\\keypoint_classifier.hdf5\n",
            "60/60 [==============================] - 0s 4ms/step - loss: 0.3368 - accuracy: 0.8895 - val_loss: 0.0249 - val_accuracy: 1.0000\n",
            "Epoch 126/1000\n",
            "50/60 [========================>.....] - ETA: 0s - loss: 0.3329 - accuracy: 0.8893\n",
            "Epoch 126: saving model to model/keypoint_classifier\\keypoint_classifier.hdf5\n",
            "60/60 [==============================] - 0s 3ms/step - loss: 0.3295 - accuracy: 0.8894 - val_loss: 0.0236 - val_accuracy: 1.0000\n",
            "Epoch 127/1000\n",
            "51/60 [========================>.....] - ETA: 0s - loss: 0.3404 - accuracy: 0.8846\n",
            "Epoch 127: saving model to model/keypoint_classifier\\keypoint_classifier.hdf5\n",
            "60/60 [==============================] - 0s 3ms/step - loss: 0.3398 - accuracy: 0.8848 - val_loss: 0.0272 - val_accuracy: 1.0000\n",
            "Epoch 128/1000\n",
            "47/60 [======================>.......] - ETA: 0s - loss: 0.3367 - accuracy: 0.8848\n",
            "Epoch 128: saving model to model/keypoint_classifier\\keypoint_classifier.hdf5\n",
            "60/60 [==============================] - 0s 3ms/step - loss: 0.3362 - accuracy: 0.8874 - val_loss: 0.0236 - val_accuracy: 1.0000\n",
            "Epoch 129/1000\n",
            "45/60 [=====================>........] - ETA: 0s - loss: 0.3280 - accuracy: 0.8883\n",
            "Epoch 129: saving model to model/keypoint_classifier\\keypoint_classifier.hdf5\n",
            "60/60 [==============================] - 0s 4ms/step - loss: 0.3321 - accuracy: 0.8872 - val_loss: 0.0257 - val_accuracy: 1.0000\n",
            "Epoch 130/1000\n",
            "44/60 [=====================>........] - ETA: 0s - loss: 0.3279 - accuracy: 0.8898\n",
            "Epoch 130: saving model to model/keypoint_classifier\\keypoint_classifier.hdf5\n",
            "60/60 [==============================] - 0s 4ms/step - loss: 0.3304 - accuracy: 0.8896 - val_loss: 0.0279 - val_accuracy: 1.0000\n",
            "Epoch 131/1000\n",
            "42/60 [====================>.........] - ETA: 0s - loss: 0.3274 - accuracy: 0.8934\n",
            "Epoch 131: saving model to model/keypoint_classifier\\keypoint_classifier.hdf5\n",
            "60/60 [==============================] - 0s 4ms/step - loss: 0.3270 - accuracy: 0.8913 - val_loss: 0.0247 - val_accuracy: 1.0000\n",
            "Epoch 132/1000\n",
            "43/60 [====================>.........] - ETA: 0s - loss: 0.3305 - accuracy: 0.8876\n",
            "Epoch 132: saving model to model/keypoint_classifier\\keypoint_classifier.hdf5\n",
            "60/60 [==============================] - 0s 4ms/step - loss: 0.3259 - accuracy: 0.8891 - val_loss: 0.0243 - val_accuracy: 1.0000\n",
            "Epoch 133/1000\n",
            "59/60 [============================>.] - ETA: 0s - loss: 0.3413 - accuracy: 0.8862\n",
            "Epoch 133: saving model to model/keypoint_classifier\\keypoint_classifier.hdf5\n",
            "60/60 [==============================] - 0s 4ms/step - loss: 0.3409 - accuracy: 0.8864 - val_loss: 0.0248 - val_accuracy: 1.0000\n",
            "Epoch 134/1000\n",
            "47/60 [======================>.......] - ETA: 0s - loss: 0.3303 - accuracy: 0.8922\n",
            "Epoch 134: saving model to model/keypoint_classifier\\keypoint_classifier.hdf5\n",
            "60/60 [==============================] - 0s 4ms/step - loss: 0.3292 - accuracy: 0.8924 - val_loss: 0.0213 - val_accuracy: 1.0000\n",
            "Epoch 135/1000\n",
            "49/60 [=======================>......] - ETA: 0s - loss: 0.3224 - accuracy: 0.8920\n",
            "Epoch 135: saving model to model/keypoint_classifier\\keypoint_classifier.hdf5\n",
            "60/60 [==============================] - 0s 3ms/step - loss: 0.3243 - accuracy: 0.8923 - val_loss: 0.0234 - val_accuracy: 1.0000\n",
            "Epoch 136/1000\n",
            "46/60 [======================>.......] - ETA: 0s - loss: 0.3123 - accuracy: 0.8970\n",
            "Epoch 136: saving model to model/keypoint_classifier\\keypoint_classifier.hdf5\n",
            "60/60 [==============================] - 0s 4ms/step - loss: 0.3137 - accuracy: 0.8952 - val_loss: 0.0226 - val_accuracy: 0.9984\n",
            "Epoch 137/1000\n",
            "44/60 [=====================>........] - ETA: 0s - loss: 0.3282 - accuracy: 0.8919\n",
            "Epoch 137: saving model to model/keypoint_classifier\\keypoint_classifier.hdf5\n",
            "60/60 [==============================] - 0s 4ms/step - loss: 0.3218 - accuracy: 0.8927 - val_loss: 0.0233 - val_accuracy: 1.0000\n",
            "Epoch 138/1000\n",
            "42/60 [====================>.........] - ETA: 0s - loss: 0.3226 - accuracy: 0.8955\n",
            "Epoch 138: saving model to model/keypoint_classifier\\keypoint_classifier.hdf5\n",
            "60/60 [==============================] - 0s 4ms/step - loss: 0.3236 - accuracy: 0.8929 - val_loss: 0.0236 - val_accuracy: 1.0000\n",
            "Epoch 139/1000\n",
            "46/60 [======================>.......] - ETA: 0s - loss: 0.3187 - accuracy: 0.8936\n",
            "Epoch 139: saving model to model/keypoint_classifier\\keypoint_classifier.hdf5\n",
            "60/60 [==============================] - 0s 4ms/step - loss: 0.3212 - accuracy: 0.8928 - val_loss: 0.0232 - val_accuracy: 1.0000\n",
            "Epoch 140/1000\n",
            "45/60 [=====================>........] - ETA: 0s - loss: 0.3226 - accuracy: 0.8892\n",
            "Epoch 140: saving model to model/keypoint_classifier\\keypoint_classifier.hdf5\n",
            "60/60 [==============================] - 0s 4ms/step - loss: 0.3220 - accuracy: 0.8903 - val_loss: 0.0200 - val_accuracy: 1.0000\n",
            "Epoch 141/1000\n",
            "42/60 [====================>.........] - ETA: 0s - loss: 0.3161 - accuracy: 0.8924\n",
            "Epoch 141: saving model to model/keypoint_classifier\\keypoint_classifier.hdf5\n",
            "60/60 [==============================] - 0s 4ms/step - loss: 0.3160 - accuracy: 0.8924 - val_loss: 0.0225 - val_accuracy: 1.0000\n",
            "Epoch 142/1000\n",
            "47/60 [======================>.......] - ETA: 0s - loss: 0.3091 - accuracy: 0.8954\n",
            "Epoch 142: saving model to model/keypoint_classifier\\keypoint_classifier.hdf5\n",
            "60/60 [==============================] - 0s 4ms/step - loss: 0.3063 - accuracy: 0.8964 - val_loss: 0.0207 - val_accuracy: 1.0000\n",
            "Epoch 143/1000\n",
            "49/60 [=======================>......] - ETA: 0s - loss: 0.3205 - accuracy: 0.8941\n",
            "Epoch 143: saving model to model/keypoint_classifier\\keypoint_classifier.hdf5\n",
            "60/60 [==============================] - 0s 4ms/step - loss: 0.3230 - accuracy: 0.8928 - val_loss: 0.0219 - val_accuracy: 1.0000\n",
            "Epoch 144/1000\n",
            "49/60 [=======================>......] - ETA: 0s - loss: 0.3200 - accuracy: 0.8929\n",
            "Epoch 144: saving model to model/keypoint_classifier\\keypoint_classifier.hdf5\n",
            "60/60 [==============================] - 0s 3ms/step - loss: 0.3231 - accuracy: 0.8914 - val_loss: 0.0226 - val_accuracy: 1.0000\n",
            "Epoch 145/1000\n",
            "48/60 [=======================>......] - ETA: 0s - loss: 0.3305 - accuracy: 0.8901\n",
            "Epoch 145: saving model to model/keypoint_classifier\\keypoint_classifier.hdf5\n",
            "60/60 [==============================] - 0s 3ms/step - loss: 0.3245 - accuracy: 0.8911 - val_loss: 0.0222 - val_accuracy: 1.0000\n",
            "Epoch 146/1000\n",
            "45/60 [=====================>........] - ETA: 0s - loss: 0.3203 - accuracy: 0.8944\n",
            "Epoch 146: saving model to model/keypoint_classifier\\keypoint_classifier.hdf5\n",
            "60/60 [==============================] - 0s 4ms/step - loss: 0.3144 - accuracy: 0.8959 - val_loss: 0.0219 - val_accuracy: 1.0000\n",
            "Epoch 147/1000\n",
            "41/60 [===================>..........] - ETA: 0s - loss: 0.3140 - accuracy: 0.8942\n",
            "Epoch 147: saving model to model/keypoint_classifier\\keypoint_classifier.hdf5\n",
            "60/60 [==============================] - 0s 4ms/step - loss: 0.3194 - accuracy: 0.8914 - val_loss: 0.0216 - val_accuracy: 1.0000\n",
            "Epoch 148/1000\n",
            "45/60 [=====================>........] - ETA: 0s - loss: 0.3195 - accuracy: 0.8928\n",
            "Epoch 148: saving model to model/keypoint_classifier\\keypoint_classifier.hdf5\n",
            "60/60 [==============================] - 0s 3ms/step - loss: 0.3188 - accuracy: 0.8936 - val_loss: 0.0210 - val_accuracy: 1.0000\n",
            "Epoch 149/1000\n",
            "48/60 [=======================>......] - ETA: 0s - loss: 0.3222 - accuracy: 0.8947\n",
            "Epoch 149: saving model to model/keypoint_classifier\\keypoint_classifier.hdf5\n",
            "60/60 [==============================] - 0s 3ms/step - loss: 0.3242 - accuracy: 0.8940 - val_loss: 0.0232 - val_accuracy: 1.0000\n",
            "Epoch 150/1000\n",
            "50/60 [========================>.....] - ETA: 0s - loss: 0.3182 - accuracy: 0.8948\n",
            "Epoch 150: saving model to model/keypoint_classifier\\keypoint_classifier.hdf5\n",
            "60/60 [==============================] - 0s 3ms/step - loss: 0.3180 - accuracy: 0.8940 - val_loss: 0.0211 - val_accuracy: 1.0000\n",
            "Epoch 151/1000\n",
            "47/60 [======================>.......] - ETA: 0s - loss: 0.3209 - accuracy: 0.8933\n",
            "Epoch 151: saving model to model/keypoint_classifier\\keypoint_classifier.hdf5\n",
            "60/60 [==============================] - 0s 4ms/step - loss: 0.3216 - accuracy: 0.8929 - val_loss: 0.0226 - val_accuracy: 1.0000\n",
            "Epoch 152/1000\n",
            "58/60 [============================>.] - ETA: 0s - loss: 0.3213 - accuracy: 0.8924\n",
            "Epoch 152: saving model to model/keypoint_classifier\\keypoint_classifier.hdf5\n",
            "60/60 [==============================] - 0s 4ms/step - loss: 0.3221 - accuracy: 0.8922 - val_loss: 0.0219 - val_accuracy: 1.0000\n",
            "Epoch 153/1000\n",
            "43/60 [====================>.........] - ETA: 0s - loss: 0.3171 - accuracy: 0.8940\n",
            "Epoch 153: saving model to model/keypoint_classifier\\keypoint_classifier.hdf5\n",
            "60/60 [==============================] - 0s 4ms/step - loss: 0.3142 - accuracy: 0.8955 - val_loss: 0.0200 - val_accuracy: 1.0000\n",
            "Epoch 154/1000\n",
            "50/60 [========================>.....] - ETA: 0s - loss: 0.3079 - accuracy: 0.8977\n",
            "Epoch 154: saving model to model/keypoint_classifier\\keypoint_classifier.hdf5\n",
            "60/60 [==============================] - 0s 3ms/step - loss: 0.3102 - accuracy: 0.8973 - val_loss: 0.0193 - val_accuracy: 1.0000\n",
            "Epoch 155/1000\n",
            "54/60 [==========================>...] - ETA: 0s - loss: 0.3117 - accuracy: 0.8964\n",
            "Epoch 155: saving model to model/keypoint_classifier\\keypoint_classifier.hdf5\n",
            "60/60 [==============================] - 0s 3ms/step - loss: 0.3099 - accuracy: 0.8973 - val_loss: 0.0199 - val_accuracy: 1.0000\n",
            "Epoch 156/1000\n",
            "52/60 [=========================>....] - ETA: 0s - loss: 0.3114 - accuracy: 0.8967\n",
            "Epoch 156: saving model to model/keypoint_classifier\\keypoint_classifier.hdf5\n",
            "60/60 [==============================] - 0s 3ms/step - loss: 0.3123 - accuracy: 0.8962 - val_loss: 0.0203 - val_accuracy: 1.0000\n",
            "Epoch 157/1000\n",
            "53/60 [=========================>....] - ETA: 0s - loss: 0.3061 - accuracy: 0.8981\n",
            "Epoch 157: saving model to model/keypoint_classifier\\keypoint_classifier.hdf5\n",
            "60/60 [==============================] - 0s 3ms/step - loss: 0.3053 - accuracy: 0.8985 - val_loss: 0.0188 - val_accuracy: 1.0000\n",
            "Epoch 158/1000\n",
            "54/60 [==========================>...] - ETA: 0s - loss: 0.3034 - accuracy: 0.8964\n",
            "Epoch 158: saving model to model/keypoint_classifier\\keypoint_classifier.hdf5\n",
            "60/60 [==============================] - 0s 3ms/step - loss: 0.3020 - accuracy: 0.8974 - val_loss: 0.0201 - val_accuracy: 1.0000\n",
            "Epoch 159/1000\n",
            "51/60 [========================>.....] - ETA: 0s - loss: 0.3191 - accuracy: 0.8960\n",
            "Epoch 159: saving model to model/keypoint_classifier\\keypoint_classifier.hdf5\n",
            "60/60 [==============================] - 0s 3ms/step - loss: 0.3161 - accuracy: 0.8967 - val_loss: 0.0210 - val_accuracy: 1.0000\n",
            "Epoch 160/1000\n",
            "44/60 [=====================>........] - ETA: 0s - loss: 0.3108 - accuracy: 0.8945\n",
            "Epoch 160: saving model to model/keypoint_classifier\\keypoint_classifier.hdf5\n",
            "60/60 [==============================] - 0s 3ms/step - loss: 0.3146 - accuracy: 0.8945 - val_loss: 0.0202 - val_accuracy: 1.0000\n",
            "Epoch 161/1000\n",
            "56/60 [===========================>..] - ETA: 0s - loss: 0.3191 - accuracy: 0.8935\n",
            "Epoch 161: saving model to model/keypoint_classifier\\keypoint_classifier.hdf5\n",
            "60/60 [==============================] - 0s 3ms/step - loss: 0.3189 - accuracy: 0.8934 - val_loss: 0.0197 - val_accuracy: 1.0000\n",
            "Epoch 162/1000\n",
            "50/60 [========================>.....] - ETA: 0s - loss: 0.3109 - accuracy: 0.8951\n",
            "Epoch 162: saving model to model/keypoint_classifier\\keypoint_classifier.hdf5\n",
            "60/60 [==============================] - 0s 3ms/step - loss: 0.3089 - accuracy: 0.8962 - val_loss: 0.0177 - val_accuracy: 1.0000\n",
            "Epoch 163/1000\n",
            "55/60 [==========================>...] - ETA: 0s - loss: 0.3168 - accuracy: 0.8933\n",
            "Epoch 163: saving model to model/keypoint_classifier\\keypoint_classifier.hdf5\n",
            "60/60 [==============================] - 0s 3ms/step - loss: 0.3145 - accuracy: 0.8944 - val_loss: 0.0190 - val_accuracy: 1.0000\n",
            "Epoch 164/1000\n",
            "52/60 [=========================>....] - ETA: 0s - loss: 0.3108 - accuracy: 0.8952\n",
            "Epoch 164: saving model to model/keypoint_classifier\\keypoint_classifier.hdf5\n",
            "60/60 [==============================] - 0s 3ms/step - loss: 0.3099 - accuracy: 0.8960 - val_loss: 0.0207 - val_accuracy: 1.0000\n",
            "Epoch 165/1000\n",
            "51/60 [========================>.....] - ETA: 0s - loss: 0.3060 - accuracy: 0.8967\n",
            "Epoch 165: saving model to model/keypoint_classifier\\keypoint_classifier.hdf5\n",
            "60/60 [==============================] - 0s 3ms/step - loss: 0.3061 - accuracy: 0.8973 - val_loss: 0.0180 - val_accuracy: 1.0000\n",
            "Epoch 166/1000\n",
            "55/60 [==========================>...] - ETA: 0s - loss: 0.3110 - accuracy: 0.8984\n",
            "Epoch 166: saving model to model/keypoint_classifier\\keypoint_classifier.hdf5\n",
            "60/60 [==============================] - 0s 3ms/step - loss: 0.3089 - accuracy: 0.8986 - val_loss: 0.0198 - val_accuracy: 1.0000\n",
            "Epoch 167/1000\n",
            "46/60 [======================>.......] - ETA: 0s - loss: 0.3062 - accuracy: 0.8990\n",
            "Epoch 167: saving model to model/keypoint_classifier\\keypoint_classifier.hdf5\n",
            "60/60 [==============================] - 0s 3ms/step - loss: 0.3051 - accuracy: 0.8984 - val_loss: 0.0197 - val_accuracy: 1.0000\n",
            "Epoch 168/1000\n",
            "48/60 [=======================>......] - ETA: 0s - loss: 0.2910 - accuracy: 0.9043\n",
            "Epoch 168: saving model to model/keypoint_classifier\\keypoint_classifier.hdf5\n",
            "60/60 [==============================] - 0s 3ms/step - loss: 0.2943 - accuracy: 0.9042 - val_loss: 0.0173 - val_accuracy: 1.0000\n",
            "Epoch 169/1000\n",
            "53/60 [=========================>....] - ETA: 0s - loss: 0.3029 - accuracy: 0.8982\n",
            "Epoch 169: saving model to model/keypoint_classifier\\keypoint_classifier.hdf5\n",
            "60/60 [==============================] - 0s 3ms/step - loss: 0.3059 - accuracy: 0.8973 - val_loss: 0.0178 - val_accuracy: 1.0000\n",
            "Epoch 170/1000\n",
            "54/60 [==========================>...] - ETA: 0s - loss: 0.3084 - accuracy: 0.8982\n",
            "Epoch 170: saving model to model/keypoint_classifier\\keypoint_classifier.hdf5\n",
            "60/60 [==============================] - 0s 3ms/step - loss: 0.3074 - accuracy: 0.8981 - val_loss: 0.0177 - val_accuracy: 1.0000\n",
            "Epoch 171/1000\n",
            "55/60 [==========================>...] - ETA: 0s - loss: 0.3286 - accuracy: 0.8915\n",
            "Epoch 171: saving model to model/keypoint_classifier\\keypoint_classifier.hdf5\n",
            "60/60 [==============================] - 0s 3ms/step - loss: 0.3265 - accuracy: 0.8929 - val_loss: 0.0205 - val_accuracy: 1.0000\n",
            "Epoch 172/1000\n",
            "54/60 [==========================>...] - ETA: 0s - loss: 0.3017 - accuracy: 0.9012\n",
            "Epoch 172: saving model to model/keypoint_classifier\\keypoint_classifier.hdf5\n",
            "60/60 [==============================] - 0s 3ms/step - loss: 0.3018 - accuracy: 0.9013 - val_loss: 0.0185 - val_accuracy: 1.0000\n",
            "Epoch 173/1000\n",
            "55/60 [==========================>...] - ETA: 0s - loss: 0.3106 - accuracy: 0.8968\n",
            "Epoch 173: saving model to model/keypoint_classifier\\keypoint_classifier.hdf5\n",
            "60/60 [==============================] - 0s 3ms/step - loss: 0.3086 - accuracy: 0.8980 - val_loss: 0.0161 - val_accuracy: 1.0000\n",
            "Epoch 174/1000\n",
            "55/60 [==========================>...] - ETA: 0s - loss: 0.3056 - accuracy: 0.8963\n",
            "Epoch 174: saving model to model/keypoint_classifier\\keypoint_classifier.hdf5\n",
            "60/60 [==============================] - 0s 3ms/step - loss: 0.3045 - accuracy: 0.8962 - val_loss: 0.0189 - val_accuracy: 1.0000\n",
            "Epoch 175/1000\n",
            "54/60 [==========================>...] - ETA: 0s - loss: 0.2977 - accuracy: 0.9003\n",
            "Epoch 175: saving model to model/keypoint_classifier\\keypoint_classifier.hdf5\n",
            "60/60 [==============================] - 0s 3ms/step - loss: 0.2976 - accuracy: 0.9007 - val_loss: 0.0170 - val_accuracy: 1.0000\n",
            "Epoch 176/1000\n",
            "60/60 [==============================] - ETA: 0s - loss: 0.3107 - accuracy: 0.8977\n",
            "Epoch 176: saving model to model/keypoint_classifier\\keypoint_classifier.hdf5\n",
            "60/60 [==============================] - 0s 4ms/step - loss: 0.3107 - accuracy: 0.8977 - val_loss: 0.0191 - val_accuracy: 1.0000\n",
            "Epoch 177/1000\n",
            "45/60 [=====================>........] - ETA: 0s - loss: 0.3013 - accuracy: 0.8996\n",
            "Epoch 177: saving model to model/keypoint_classifier\\keypoint_classifier.hdf5\n",
            "60/60 [==============================] - 0s 3ms/step - loss: 0.3015 - accuracy: 0.8998 - val_loss: 0.0175 - val_accuracy: 1.0000\n",
            "Epoch 178/1000\n",
            "45/60 [=====================>........] - ETA: 0s - loss: 0.3134 - accuracy: 0.8967\n",
            "Epoch 178: saving model to model/keypoint_classifier\\keypoint_classifier.hdf5\n",
            "60/60 [==============================] - 0s 3ms/step - loss: 0.3205 - accuracy: 0.8949 - val_loss: 0.0210 - val_accuracy: 1.0000\n",
            "Epoch 179/1000\n",
            "54/60 [==========================>...] - ETA: 0s - loss: 0.2975 - accuracy: 0.9012\n",
            "Epoch 179: saving model to model/keypoint_classifier\\keypoint_classifier.hdf5\n",
            "60/60 [==============================] - 0s 3ms/step - loss: 0.2971 - accuracy: 0.9014 - val_loss: 0.0166 - val_accuracy: 1.0000\n",
            "Epoch 180/1000\n",
            "43/60 [====================>.........] - ETA: 0s - loss: 0.3070 - accuracy: 0.8981\n",
            "Epoch 180: saving model to model/keypoint_classifier\\keypoint_classifier.hdf5\n",
            "60/60 [==============================] - 0s 3ms/step - loss: 0.3033 - accuracy: 0.8996 - val_loss: 0.0185 - val_accuracy: 1.0000\n",
            "Epoch 181/1000\n",
            "57/60 [===========================>..] - ETA: 0s - loss: 0.3061 - accuracy: 0.8975\n",
            "Epoch 181: saving model to model/keypoint_classifier\\keypoint_classifier.hdf5\n",
            "60/60 [==============================] - 0s 4ms/step - loss: 0.3040 - accuracy: 0.8982 - val_loss: 0.0188 - val_accuracy: 1.0000\n",
            "Epoch 182/1000\n",
            "53/60 [=========================>....] - ETA: 0s - loss: 0.2945 - accuracy: 0.9002\n",
            "Epoch 182: saving model to model/keypoint_classifier\\keypoint_classifier.hdf5\n",
            "60/60 [==============================] - 0s 4ms/step - loss: 0.2980 - accuracy: 0.9001 - val_loss: 0.0180 - val_accuracy: 1.0000\n",
            "Epoch 183/1000\n",
            "45/60 [=====================>........] - ETA: 0s - loss: 0.3062 - accuracy: 0.8978\n",
            "Epoch 183: saving model to model/keypoint_classifier\\keypoint_classifier.hdf5\n",
            "60/60 [==============================] - 0s 4ms/step - loss: 0.3001 - accuracy: 0.9002 - val_loss: 0.0180 - val_accuracy: 1.0000\n",
            "Epoch 184/1000\n",
            "43/60 [====================>.........] - ETA: 0s - loss: 0.2980 - accuracy: 0.9046\n",
            "Epoch 184: saving model to model/keypoint_classifier\\keypoint_classifier.hdf5\n",
            "60/60 [==============================] - 0s 4ms/step - loss: 0.2981 - accuracy: 0.9040 - val_loss: 0.0179 - val_accuracy: 1.0000\n",
            "Epoch 185/1000\n",
            "57/60 [===========================>..] - ETA: 0s - loss: 0.3059 - accuracy: 0.8959\n",
            "Epoch 185: saving model to model/keypoint_classifier\\keypoint_classifier.hdf5\n",
            "60/60 [==============================] - 0s 5ms/step - loss: 0.3059 - accuracy: 0.8955 - val_loss: 0.0177 - val_accuracy: 1.0000\n",
            "Epoch 186/1000\n",
            "44/60 [=====================>........] - ETA: 0s - loss: 0.2995 - accuracy: 0.8989\n",
            "Epoch 186: saving model to model/keypoint_classifier\\keypoint_classifier.hdf5\n",
            "60/60 [==============================] - 0s 4ms/step - loss: 0.2966 - accuracy: 0.9008 - val_loss: 0.0189 - val_accuracy: 1.0000\n",
            "Epoch 187/1000\n",
            "40/60 [===================>..........] - ETA: 0s - loss: 0.3156 - accuracy: 0.8979\n",
            "Epoch 187: saving model to model/keypoint_classifier\\keypoint_classifier.hdf5\n",
            "60/60 [==============================] - 0s 4ms/step - loss: 0.3114 - accuracy: 0.8979 - val_loss: 0.0190 - val_accuracy: 1.0000\n",
            "Epoch 188/1000\n",
            "48/60 [=======================>......] - ETA: 0s - loss: 0.3186 - accuracy: 0.8949\n",
            "Epoch 188: saving model to model/keypoint_classifier\\keypoint_classifier.hdf5\n",
            "60/60 [==============================] - 0s 4ms/step - loss: 0.3163 - accuracy: 0.8945 - val_loss: 0.0185 - val_accuracy: 1.0000\n",
            "Epoch 189/1000\n",
            "43/60 [====================>.........] - ETA: 0s - loss: 0.3128 - accuracy: 0.8985\n",
            "Epoch 189: saving model to model/keypoint_classifier\\keypoint_classifier.hdf5\n",
            "60/60 [==============================] - 0s 4ms/step - loss: 0.3115 - accuracy: 0.8991 - val_loss: 0.0170 - val_accuracy: 1.0000\n",
            "Epoch 190/1000\n",
            "40/60 [===================>..........] - ETA: 0s - loss: 0.3010 - accuracy: 0.8991\n",
            "Epoch 190: saving model to model/keypoint_classifier\\keypoint_classifier.hdf5\n",
            "60/60 [==============================] - 0s 4ms/step - loss: 0.3036 - accuracy: 0.9011 - val_loss: 0.0178 - val_accuracy: 1.0000\n",
            "Epoch 191/1000\n",
            "42/60 [====================>.........] - ETA: 0s - loss: 0.3084 - accuracy: 0.8973\n",
            "Epoch 191: saving model to model/keypoint_classifier\\keypoint_classifier.hdf5\n",
            "60/60 [==============================] - 0s 4ms/step - loss: 0.3048 - accuracy: 0.8982 - val_loss: 0.0181 - val_accuracy: 1.0000\n",
            "Epoch 192/1000\n",
            "58/60 [============================>.] - ETA: 0s - loss: 0.3085 - accuracy: 0.8994\n",
            "Epoch 192: saving model to model/keypoint_classifier\\keypoint_classifier.hdf5\n",
            "60/60 [==============================] - 0s 4ms/step - loss: 0.3084 - accuracy: 0.8996 - val_loss: 0.0211 - val_accuracy: 1.0000\n",
            "Epoch 193/1000\n",
            "57/60 [===========================>..] - ETA: 0s - loss: 0.3046 - accuracy: 0.8991\n",
            "Epoch 193: saving model to model/keypoint_classifier\\keypoint_classifier.hdf5\n",
            "60/60 [==============================] - 0s 4ms/step - loss: 0.3038 - accuracy: 0.8994 - val_loss: 0.0176 - val_accuracy: 1.0000\n",
            "Epoch 193: early stopping\n"
          ]
        },
        {
          "data": {
            "text/plain": [
              "<keras.callbacks.History at 0x26edd8a9a20>"
            ]
          },
          "execution_count": 445,
          "metadata": {},
          "output_type": "execute_result"
        }
      ],
      "source": [
        "model.fit(\n",
        "    X_train,\n",
        "    y_train,\n",
        "    epochs=1000,\n",
        "    batch_size=256,\n",
        "    validation_data=(X_test, y_test),\n",
        "    callbacks=[cp_callback, es_callback]\n",
        ")"
      ]
    },
    {
      "cell_type": "code",
      "execution_count": 446,
      "metadata": {
        "colab": {
          "base_uri": "https://localhost:8080/"
        },
        "id": "pxvb2Y299hE3",
        "outputId": "59eb3185-2e37-4b9e-bc9d-ab1b8ac29b7f"
      },
      "outputs": [
        {
          "name": "stdout",
          "output_type": "stream",
          "text": [
            "40/40 [==============================] - 0s 1ms/step - loss: 0.0176 - accuracy: 1.0000\n"
          ]
        }
      ],
      "source": [
        "# Model evaluation\n",
        "val_loss, val_acc = model.evaluate(X_test, y_test, batch_size=128)"
      ]
    },
    {
      "cell_type": "code",
      "execution_count": 447,
      "metadata": {
        "id": "RBkmDeUW9hE4"
      },
      "outputs": [],
      "source": [
        "# Loading the saved model\n",
        "model = tf.keras.models.load_model(model_save_path)"
      ]
    },
    {
      "cell_type": "code",
      "execution_count": 448,
      "metadata": {
        "colab": {
          "base_uri": "https://localhost:8080/"
        },
        "id": "tFz9Tb0I9hE4",
        "outputId": "1c3b3528-54ae-4ee2-ab04-77429211cbef"
      },
      "outputs": [
        {
          "name": "stdout",
          "output_type": "stream",
          "text": [
            "1/1 [==============================] - 0s 64ms/step\n",
            "[6.6150209e-23 4.1850259e-11 9.9526191e-01 2.1866188e-07 6.0114596e-21\n",
            " 2.0176587e-09 0.0000000e+00 2.4708392e-08 0.0000000e+00 1.0836628e-06\n",
            " 1.1035340e-31 2.3126678e-15 1.7755561e-34 1.1395600e-05 4.7237687e-03\n",
            " 5.2681618e-31 2.3155637e-22 3.3155925e-07 4.9616139e-36 4.2505077e-34\n",
            " 4.7924935e-30 4.7744528e-09 6.0573953e-32 1.9774199e-38 1.2983495e-06]\n",
            "2\n"
          ]
        }
      ],
      "source": [
        "# Inference test\n",
        "predict_result = model.predict(np.array([X_test[0]]))\n",
        "print(np.squeeze(predict_result))\n",
        "print(np.argmax(np.squeeze(predict_result)))"
      ]
    },
    {
      "cell_type": "markdown",
      "metadata": {
        "id": "S3U4yNWx9hE4"
      },
      "source": [
        "# Confusion matrix"
      ]
    },
    {
      "cell_type": "code",
      "execution_count": 449,
      "metadata": {
        "colab": {
          "base_uri": "https://localhost:8080/",
          "height": 582
        },
        "id": "AP1V6SCk9hE5",
        "outputId": "08e41a80-7a4a-4619-8125-ecc371368d19"
      },
      "outputs": [
        {
          "name": "stdout",
          "output_type": "stream",
          "text": [
            "158/158 [==============================] - 0s 1ms/step\n"
          ]
        },
        {
          "data": {
            "image/png": "[encoded data removed]",
            "text/plain": [
              "<Figure size 700x600 with 2 Axes>"
            ]
          },
          "metadata": {},
          "output_type": "display_data"
        },
        {
          "name": "stdout",
          "output_type": "stream",
          "text": [
            "Classification Report\n",
            "              precision    recall  f1-score   support\n",
            "\n",
            "           0       1.00      1.00      1.00       406\n",
            "           1       1.00      1.00      1.00       170\n",
            "           2       1.00      1.00      1.00       241\n",
            "           3       1.00      1.00      1.00       209\n",
            "           4       1.00      1.00      1.00       213\n",
            "           5       1.00      1.00      1.00       134\n",
            "           7       1.00      1.00      1.00       170\n",
            "           9       1.00      1.00      1.00       168\n",
            "          10       1.00      1.00      1.00       138\n",
            "          11       1.00      1.00      1.00       179\n",
            "          12       1.00      1.00      1.00       155\n",
            "          13       1.00      1.00      1.00       196\n",
            "          14       1.00      1.00      1.00       127\n",
            "          15       1.00      1.00      1.00       363\n",
            "          16       1.00      1.00      1.00       363\n",
            "          17       1.00      1.00      1.00       404\n",
            "          18       1.00      1.00      1.00       149\n",
            "          19       1.00      1.00      1.00       170\n",
            "          20       1.00      1.00      1.00       192\n",
            "          21       1.00      1.00      1.00       181\n",
            "          22       1.00      1.00      1.00       180\n",
            "          23       1.00      1.00      1.00       202\n",
            "          24       1.00      1.00      1.00       342\n",
            "\n",
            "    accuracy                           1.00      5052\n",
            "   macro avg       1.00      1.00      1.00      5052\n",
            "weighted avg       1.00      1.00      1.00      5052\n",
            "\n"
          ]
        }
      ],
      "source": [
        "import pandas as pd\n",
        "import seaborn as sns\n",
        "import matplotlib.pyplot as plt\n",
        "from sklearn.metrics import confusion_matrix, classification_report\n",
        "\n",
        "def print_confusion_matrix(y_true, y_pred, report=True):\n",
        "    labels = sorted(list(set(y_true)))\n",
        "    cmx_data = confusion_matrix(y_true, y_pred, labels=labels)\n",
        "    \n",
        "    df_cmx = pd.DataFrame(cmx_data, index=labels, columns=labels)\n",
        " \n",
        "    fig, ax = plt.subplots(figsize=(7, 6))\n",
        "    sns.heatmap(df_cmx, annot=True, fmt='g' ,square=False)\n",
        "    ax.set_ylim(len(set(y_true)), 0)\n",
        "    plt.show()\n",
        "    \n",
        "    if report:\n",
        "        print('Classification Report')\n",
        "        print(classification_report(y_test, y_pred))\n",
        "\n",
        "Y_pred = model.predict(X_test)\n",
        "y_pred = np.argmax(Y_pred, axis=1)\n",
        "\n",
        "print_confusion_matrix(y_test, y_pred)"
      ]
    },
    {
      "cell_type": "markdown",
      "metadata": {
        "id": "FNP6aqzc9hE5"
      },
      "source": [
        "# Convert to model for Tensorflow-Lite"
      ]
    },
    {
      "cell_type": "code",
      "execution_count": 450,
      "metadata": {
        "id": "ODjnYyld9hE6"
      },
      "outputs": [],
      "source": [
        "# Save as a model dedicated to inference\n",
        "model.save(model_save_path, include_optimizer=False)"
      ]
    },
    {
      "cell_type": "code",
      "execution_count": 451,
      "metadata": {
        "colab": {
          "base_uri": "https://localhost:8080/"
        },
        "id": "zRfuK8Y59hE6",
        "outputId": "a4ca585c-b5d5-4244-8291-8674063209bb"
      },
      "outputs": [
        {
          "name": "stderr",
          "output_type": "stream",
          "text": [
            "WARNING:absl:Found untraced functions such as _update_step_xla while saving (showing 1 of 1). These functions will not be directly callable after loading.\n"
          ]
        },
        {
          "name": "stdout",
          "output_type": "stream",
          "text": [
            "INFO:tensorflow:Assets written to: C:\\Users\\jonas\\AppData\\Local\\Temp\\tmpi7cd3aab\\assets\n"
          ]
        },
        {
          "name": "stderr",
          "output_type": "stream",
          "text": [
            "INFO:tensorflow:Assets written to: C:\\Users\\jonas\\AppData\\Local\\Temp\\tmpi7cd3aab\\assets\n"
          ]
        },
        {
          "data": {
            "text/plain": [
              "7248"
            ]
          },
          "execution_count": 451,
          "metadata": {},
          "output_type": "execute_result"
        }
      ],
      "source": [
        "# Transform model (quantization)\n",
        "\n",
        "converter = tf.lite.TFLiteConverter.from_keras_model(model)\n",
        "converter.optimizations = [tf.lite.Optimize.DEFAULT]\n",
        "tflite_quantized_model = converter.convert()\n",
        "\n",
        "open(tflite_save_path, 'wb').write(tflite_quantized_model)"
      ]
    },
    {
      "cell_type": "markdown",
      "metadata": {
        "id": "CHBPBXdx9hE6"
      },
      "source": [
        "# Inference test"
      ]
    },
    {
      "cell_type": "code",
      "execution_count": 452,
      "metadata": {
        "id": "mGAzLocO9hE7"
      },
      "outputs": [],
      "source": [
        "interpreter = tf.lite.Interpreter(model_path=tflite_save_path)\n",
        "interpreter.allocate_tensors()"
      ]
    },
    {
      "cell_type": "code",
      "execution_count": 453,
      "metadata": {
        "id": "oQuDK8YS9hE7"
      },
      "outputs": [],
      "source": [
        "# Get I / O tensor\n",
        "input_details = interpreter.get_input_details()\n",
        "output_details = interpreter.get_output_details()"
      ]
    },
    {
      "cell_type": "code",
      "execution_count": 454,
      "metadata": {
        "id": "2_ixAf_l9hE7"
      },
      "outputs": [],
      "source": [
        "interpreter.set_tensor(input_details[0]['index'], np.array([X_test[0]]))"
      ]
    },
    {
      "cell_type": "code",
      "execution_count": 455,
      "metadata": {
        "colab": {
          "base_uri": "https://localhost:8080/"
        },
        "id": "s4FoAnuc9hE7",
        "outputId": "91f18257-8d8b-4ef3-c558-e9b5f94fabbf",
        "scrolled": true
      },
      "outputs": [
        {
          "name": "stdout",
          "output_type": "stream",
          "text": [
            "CPU times: total: 0 ns\n",
            "Wall time: 0 ns\n"
          ]
        }
      ],
      "source": [
        "%%time\n",
        "# Inference implementation\n",
        "interpreter.invoke()\n",
        "tflite_results = interpreter.get_tensor(output_details[0]['index'])"
      ]
    },
    {
      "cell_type": "code",
      "execution_count": 456,
      "metadata": {
        "colab": {
          "base_uri": "https://localhost:8080/"
        },
        "id": "vONjp19J9hE8",
        "outputId": "77205e24-fd00-42c4-f7b6-e06e527c2cba"
      },
      "outputs": [
        {
          "name": "stdout",
          "output_type": "stream",
          "text": [
            "[6.5949819e-23 4.7555095e-11 9.9427778e-01 2.2479000e-07 6.5814924e-21\n",
            " 2.5090126e-09 0.0000000e+00 2.6081553e-08 0.0000000e+00 1.3767944e-06\n",
            " 1.0130255e-31 2.4620067e-15 1.6025928e-34 1.1864867e-05 5.7067773e-03\n",
            " 5.7620387e-31 2.3805222e-22 3.8987224e-07 4.6914845e-36 4.4070105e-34\n",
            " 4.7040794e-30 4.9062283e-09 7.4908689e-32 2.3375358e-38 1.6201265e-06]\n",
            "2\n"
          ]
        }
      ],
      "source": [
        "print(np.squeeze(tflite_results))\n",
        "print(np.argmax(np.squeeze(tflite_results)))"
      ]
    }
  ],
  "metadata": {
    "accelerator": "GPU",
    "colab": {
      "collapsed_sections": [],
      "name": "keypoint_classification_EN.ipynb",
      "provenance": [],
      "toc_visible": true
    },
    "kernelspec": {
      "display_name": "Python 3",
      "language": "python",
      "name": "python3"
    },
    "language_info": {
      "codemirror_mode": {
        "name": "ipython",
        "version": 3
      },
      "file_extension": ".py",
      "mimetype": "text/x-python",
      "name": "python",
      "nbconvert_exporter": "python",
      "pygments_lexer": "ipython3",
      "version": "3.10.7"
    },
    "vscode": {
      "interpreter": {
        "hash": "683e9bbf599fde3b00e37a0db68ad40a268db525b46af3924c3427b16ddb8792"
      }
    }
  },
  "nbformat": 4,
  "nbformat_minor": 0
}
